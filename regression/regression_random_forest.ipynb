{
 "cells": [
  {
   "cell_type": "code",
   "execution_count": 3,
   "metadata": {},
   "outputs": [
    {
     "name": "stdout",
     "output_type": "stream",
     "text": [
      "model\n",
      "VIANO 2.2 CDI                                                  4405\n",
      "VIANO 2.0 CDI                                                  2931\n",
      "COMBI 116 CDI                                                  2847\n",
      "COMBI 113 CDI                                                  1968\n",
      "VIANO 3.0 CDI                                                  1180\n",
      "                                                               ... \n",
      "2008 1.6 e-Hdi FAP BVM6                                           1\n",
      "A6 2.0 TDI (136ch) MULTITRONIC 8                                  1\n",
      "PASSAT SW 1.6 TDI (105ch) CR FAP BMT BVM6                         1\n",
      "MULTIVAN CONFORTLINE ET HIGHLINE 2.0 TDI (180ch) BlueMotion       1\n",
      "ASX CLEARTEC 1.8 DI-D Invite / Intense / Instyle 4WD              1\n",
      "Name: count, Length: 3141, dtype: int64\n",
      "3141\n",
      "car_class\n",
      "MINIBUS                34570\n",
      "BERLINE                 3307\n",
      "BREAK                    933\n",
      "TS TERRAINS/CHEMINS      819\n",
      "COUPE                    661\n",
      "CABRIOLET                389\n",
      "MONOSPACE COMPACT        240\n",
      "COMBISPACE               179\n",
      "MINISPACE                111\n",
      "MONOSPACE                 44\n",
      "COMBISPCACE                4\n",
      "Name: count, dtype: int64\n",
      "11\n",
      "brand\n",
      "MERCEDES        27127\n",
      "VOLKSWAGEN      10266\n",
      "FIAT              394\n",
      "BMW               342\n",
      "OPEL              308\n",
      "LEXUS             277\n",
      "AUDI              264\n",
      "FORD              220\n",
      "NISSAN            215\n",
      "CITROEN           166\n",
      "ALFA-ROMEO        142\n",
      "PEUGEOT           125\n",
      "RENAULT           109\n",
      "TOYOTA            103\n",
      "SKODA              96\n",
      "MINI               95\n",
      "VOLVO              86\n",
      "PORSCHE            82\n",
      "SEAT               78\n",
      "CHEVROLET          61\n",
      "JEEP               60\n",
      "LAND ROVER         60\n",
      "ASTON MARTIN       55\n",
      "KIA                53\n",
      "HONDA              43\n",
      "HYUNDAI            43\n",
      "LANCIA             41\n",
      "MITSUBISHI         35\n",
      "MAZDA              31\n",
      "CADILLAC           31\n",
      "JAGUAR             29\n",
      "SMART              29\n",
      "LAMBORGHINI        26\n",
      "DACIA              22\n",
      "SUZUKI             21\n",
      "SUBARU             19\n",
      "LOTUS              18\n",
      "FERRARI            18\n",
      "MASERATI           16\n",
      "ROLLS-ROYCE        15\n",
      "BENTLEY            14\n",
      "INFINITI           12\n",
      "SSANGYONG           6\n",
      "LADA                4\n",
      "Name: count, dtype: int64\n",
      "Nombre de valeurs différentes dans la colonne Brand 44\n",
      "fuel_type\n",
      "GO       36993\n",
      "ES        3853\n",
      "EH         233\n",
      "GH          63\n",
      "GN/ES       27\n",
      "ES/GN       23\n",
      "ES/GP       18\n",
      "GP/ES       17\n",
      "GN          15\n",
      "FE           8\n",
      "EE           6\n",
      "GL           1\n",
      "Name: count, dtype: int64\n",
      "12\n",
      "brand\n",
      "MERCEDES      27127\n",
      "VOLKSWAGEN    10266\n",
      "AUTRE          3864\n",
      "Name: count, dtype: int64\n"
     ]
    }
   ],
   "source": [
    "%run preprocessor.ipynb"
   ]
  },
  {
   "cell_type": "code",
   "execution_count": 12,
   "metadata": {},
   "outputs": [],
   "source": [
    "regressor = RandomForestRegressor(n_estimators= 1550, max_depth=15, random_state=0)\n",
    "\n",
    "pipeline = Pipeline(steps=[\n",
    "        ('preprocessor', preprocessors),\n",
    "        ('regressor', regressor)\n",
    "    ])\n",
    "\n",
    "pipeline.get_params().keys()\n",
    "\n",
    "param_grid = {\n",
    "    'regressor__n_estimators': [1400,1450, 1500, 1550,1600],\n",
    "    'regressor__max_depth': [14, 15, 16, 17],\n",
    "}\n"
   ]
  },
  {
   "cell_type": "code",
   "execution_count": 13,
   "metadata": {},
   "outputs": [
    {
     "name": "stdout",
     "output_type": "stream",
     "text": [
      "Fitting 3 folds for each of 5 candidates, totalling 15 fits\n",
      "{'regressor__n_estimators': 1550, 'regressor__max_depth': 15}\n"
     ]
    }
   ],
   "source": [
    "%run randomizer.ipynb"
   ]
  },
  {
   "cell_type": "code",
   "execution_count": 10,
   "metadata": {},
   "outputs": [],
   "source": [
    "%run submission.ipynb"
   ]
  },
  {
   "cell_type": "code",
   "execution_count": 11,
   "metadata": {},
   "outputs": [
    {
     "name": "stdout",
     "output_type": "stream",
     "text": [
      "Erreur quadratique moyenne du modèle de régression linéaire sur les données d'entrainement:\n",
      "0.241 ± 0.018\n",
      "Erreur quadratique moyenne du modèle de régression linéaire sur les données de test:\n",
      "1.639 ± 0.352\n"
     ]
    }
   ],
   "source": [
    "%run validation.ipynb"
   ]
  }
 ],
 "metadata": {
  "kernelspec": {
   "display_name": "Python 3",
   "language": "python",
   "name": "python3"
  },
  "language_info": {
   "codemirror_mode": {
    "name": "ipython",
    "version": 3
   },
   "file_extension": ".py",
   "mimetype": "text/x-python",
   "name": "python",
   "nbconvert_exporter": "python",
   "pygments_lexer": "ipython3",
   "version": "3.12.2"
  }
 },
 "nbformat": 4,
 "nbformat_minor": 2
}
