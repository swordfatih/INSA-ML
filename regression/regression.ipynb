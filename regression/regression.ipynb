{
 "cells": [
  {
   "cell_type": "markdown",
   "metadata": {
    "collapsed": false
   },
   "source": [
    "# Régression\n",
    "\n",
    "## Objectif\n",
    "\n",
    "Dans cette partie \"Régression\", on cherche à prédire les émissions de CO2 de voitures, en se basant sur leurs caractéristiques \\(poids, carburant utilisé, etc\\). L'objectif est de minimiser la moyenne des erreurs absolues entre les valeurs prédites et les valeurs réelles.\n",
    "\n",
    "## Traitement des données\n",
    "\n",
    "### Importation des dépendances\n",
    "\n",
    "Nous importons les dépendances python en début de fichier pour faciliter leur installation."
   ]
  },
  {
   "cell_type": "code",
   "execution_count": 53,
   "metadata": {
    "collapsed": false
   },
   "outputs": [],
   "source": [
    "import matplotlib.pyplot as plt # pour afficher des graphiques\n",
    "import missingno as msno # visualiser les données manquantes\n",
    "import copy # copier des données\n",
    "import seaborn as sns # visualisation des données\n",
    "import pandas as pd # lire et modifier les données\n",
    "import numpy as np # algebre linéaire\n",
    "\n",
    "import torch\n",
    "import torch.nn as nn # pour le réseau de neurones (neural network)\n",
    "import torch.nn.functional as F # pour la fonction d'activation\n",
    "from torch.utils import data  # pour la gestion des données\n",
    "from torch.utils.data import DataLoader, TensorDataset, SubsetRandomSampler\n",
    "from sklearn.model_selection import train_test_split # pour split les données\n",
    "from sklearn.model_selection import KFold # pour l'entrainement en KFold"
   ]
  },
  {
   "cell_type": "markdown",
   "metadata": {},
   "source": [
    "### Chargement des données\n",
    "\n",
    "Nos données d'entraînement sont situées dans des fichiers CSV. \n",
    "\n",
    "Dans un premier temps, on cherche donc à charger ces données CSV avec Pandas."
   ]
  },
  {
   "cell_type": "code",
   "execution_count": 4,
   "metadata": {
    "collapsed": false
   },
   "outputs": [
    {
     "name": "stdout",
     "output_type": "stream",
     "text": [
      "(41257, 20)\n"
     ]
    }
   ],
   "source": [
    "# on charge le fichier train\n",
    "df_train_raw = pd.read_csv('dataset/train.csv')\n",
    "\n",
    "# le nombre de lignes et colonnes\n",
    "print(df_train_raw.shape)"
   ]
  },
  {
   "cell_type": "markdown",
   "metadata": {},
   "source": [
    "### Visualisation des données\n",
    "On visualise les premières lignes ainsi que la distribution des voitures selon leur émission de CO2"
   ]
  },
  {
   "cell_type": "code",
   "execution_count": 5,
   "metadata": {},
   "outputs": [
    {
     "data": {
      "text/html": [
       "<div>\n",
       "<style scoped>\n",
       "    .dataframe tbody tr th:only-of-type {\n",
       "        vertical-align: middle;\n",
       "    }\n",
       "\n",
       "    .dataframe tbody tr th {\n",
       "        vertical-align: top;\n",
       "    }\n",
       "\n",
       "    .dataframe thead th {\n",
       "        text-align: right;\n",
       "    }\n",
       "</style>\n",
       "<table border=\"1\" class=\"dataframe\">\n",
       "  <thead>\n",
       "    <tr style=\"text-align: right;\">\n",
       "      <th></th>\n",
       "      <th>id</th>\n",
       "      <th>brand</th>\n",
       "      <th>model</th>\n",
       "      <th>car_class</th>\n",
       "      <th>range</th>\n",
       "      <th>fuel_type</th>\n",
       "      <th>hybrid</th>\n",
       "      <th>max_power</th>\n",
       "      <th>grbx_type_ratios</th>\n",
       "      <th>weight_min</th>\n",
       "      <th>weight_max</th>\n",
       "      <th>urb_cons</th>\n",
       "      <th>exturb_cons</th>\n",
       "      <th>overall_cons</th>\n",
       "      <th>co</th>\n",
       "      <th>hc</th>\n",
       "      <th>nox</th>\n",
       "      <th>hcnox</th>\n",
       "      <th>ptcl</th>\n",
       "      <th>co2</th>\n",
       "    </tr>\n",
       "  </thead>\n",
       "  <tbody>\n",
       "    <tr>\n",
       "      <th>0</th>\n",
       "      <td>0</td>\n",
       "      <td>MERCEDES</td>\n",
       "      <td>COMBI 110 CDI</td>\n",
       "      <td>MINIBUS</td>\n",
       "      <td>MOY-INFER</td>\n",
       "      <td>GO</td>\n",
       "      <td>non</td>\n",
       "      <td>70.0</td>\n",
       "      <td>M 6</td>\n",
       "      <td>1976</td>\n",
       "      <td>2075</td>\n",
       "      <td>9.1</td>\n",
       "      <td>6.4</td>\n",
       "      <td>7.4</td>\n",
       "      <td>0.083</td>\n",
       "      <td>NaN</td>\n",
       "      <td>0.229</td>\n",
       "      <td>0.250</td>\n",
       "      <td>0.001</td>\n",
       "      <td>195</td>\n",
       "    </tr>\n",
       "    <tr>\n",
       "      <th>1</th>\n",
       "      <td>1</td>\n",
       "      <td>MERCEDES</td>\n",
       "      <td>VIANO 2.0 CDI</td>\n",
       "      <td>MINIBUS</td>\n",
       "      <td>MOY-SUPER</td>\n",
       "      <td>GO</td>\n",
       "      <td>non</td>\n",
       "      <td>100.0</td>\n",
       "      <td>A 5</td>\n",
       "      <td>2186</td>\n",
       "      <td>2355</td>\n",
       "      <td>10.2</td>\n",
       "      <td>7.0</td>\n",
       "      <td>8.2</td>\n",
       "      <td>0.078</td>\n",
       "      <td>NaN</td>\n",
       "      <td>0.224</td>\n",
       "      <td>0.233</td>\n",
       "      <td>0.001</td>\n",
       "      <td>216</td>\n",
       "    </tr>\n",
       "    <tr>\n",
       "      <th>2</th>\n",
       "      <td>2</td>\n",
       "      <td>MERCEDES</td>\n",
       "      <td>SPRINTER COMBI 319 CDI</td>\n",
       "      <td>MINIBUS</td>\n",
       "      <td>MOY-INFER</td>\n",
       "      <td>GO</td>\n",
       "      <td>non</td>\n",
       "      <td>140.0</td>\n",
       "      <td>A 5</td>\n",
       "      <td>2586</td>\n",
       "      <td>2869</td>\n",
       "      <td>12.5</td>\n",
       "      <td>9.0</td>\n",
       "      <td>10.3</td>\n",
       "      <td>0.067</td>\n",
       "      <td>0.014</td>\n",
       "      <td>1.846</td>\n",
       "      <td>NaN</td>\n",
       "      <td>0.002</td>\n",
       "      <td>272</td>\n",
       "    </tr>\n",
       "    <tr>\n",
       "      <th>3</th>\n",
       "      <td>3</td>\n",
       "      <td>RENAULT</td>\n",
       "      <td>MEGANE Coupé EnergyTCe (115ch) eco2</td>\n",
       "      <td>COUPE</td>\n",
       "      <td>MOY-INFER</td>\n",
       "      <td>ES</td>\n",
       "      <td>non</td>\n",
       "      <td>85.0</td>\n",
       "      <td>M 6</td>\n",
       "      <td>1280</td>\n",
       "      <td>1280</td>\n",
       "      <td>6.4</td>\n",
       "      <td>4.6</td>\n",
       "      <td>5.3</td>\n",
       "      <td>0.167</td>\n",
       "      <td>0.039</td>\n",
       "      <td>0.039</td>\n",
       "      <td>NaN</td>\n",
       "      <td>0.001</td>\n",
       "      <td>119</td>\n",
       "    </tr>\n",
       "    <tr>\n",
       "      <th>4</th>\n",
       "      <td>4</td>\n",
       "      <td>MERCEDES</td>\n",
       "      <td>COMBI 116 CDI</td>\n",
       "      <td>MINIBUS</td>\n",
       "      <td>MOY-INFER</td>\n",
       "      <td>GO</td>\n",
       "      <td>non</td>\n",
       "      <td>120.0</td>\n",
       "      <td>A 5</td>\n",
       "      <td>2356</td>\n",
       "      <td>2450</td>\n",
       "      <td>10.1</td>\n",
       "      <td>6.9</td>\n",
       "      <td>8.1</td>\n",
       "      <td>0.042</td>\n",
       "      <td>NaN</td>\n",
       "      <td>0.190</td>\n",
       "      <td>0.201</td>\n",
       "      <td>0.001</td>\n",
       "      <td>214</td>\n",
       "    </tr>\n",
       "  </tbody>\n",
       "</table>\n",
       "</div>"
      ],
      "text/plain": [
       "   id     brand                                model car_class      range  \\\n",
       "0   0  MERCEDES                        COMBI 110 CDI   MINIBUS  MOY-INFER   \n",
       "1   1  MERCEDES                        VIANO 2.0 CDI   MINIBUS  MOY-SUPER   \n",
       "2   2  MERCEDES               SPRINTER COMBI 319 CDI   MINIBUS  MOY-INFER   \n",
       "3   3   RENAULT  MEGANE Coupé EnergyTCe (115ch) eco2     COUPE  MOY-INFER   \n",
       "4   4  MERCEDES                        COMBI 116 CDI   MINIBUS  MOY-INFER   \n",
       "\n",
       "  fuel_type hybrid  max_power grbx_type_ratios  weight_min  weight_max  \\\n",
       "0        GO    non       70.0              M 6        1976        2075   \n",
       "1        GO    non      100.0              A 5        2186        2355   \n",
       "2        GO    non      140.0              A 5        2586        2869   \n",
       "3        ES    non       85.0              M 6        1280        1280   \n",
       "4        GO    non      120.0              A 5        2356        2450   \n",
       "\n",
       "   urb_cons  exturb_cons  overall_cons     co     hc    nox  hcnox   ptcl  co2  \n",
       "0       9.1          6.4           7.4  0.083    NaN  0.229  0.250  0.001  195  \n",
       "1      10.2          7.0           8.2  0.078    NaN  0.224  0.233  0.001  216  \n",
       "2      12.5          9.0          10.3  0.067  0.014  1.846    NaN  0.002  272  \n",
       "3       6.4          4.6           5.3  0.167  0.039  0.039    NaN  0.001  119  \n",
       "4      10.1          6.9           8.1  0.042    NaN  0.190  0.201  0.001  214  "
      ]
     },
     "execution_count": 5,
     "metadata": {},
     "output_type": "execute_result"
    }
   ],
   "source": [
    "df_train_raw.head()"
   ]
  },
  {
   "cell_type": "code",
   "execution_count": 166,
   "metadata": {},
   "outputs": [
    {
     "data": {
      "text/plain": [
       "<Axes: xlabel='co2', ylabel='Count'>"
      ]
     },
     "execution_count": 166,
     "metadata": {},
     "output_type": "execute_result"
    },
    {
     "data": {
      "image/png": "[encoded data removed]",
      "text/plain": [
       "<Figure size 640x480 with 1 Axes>"
      ]
     },
     "metadata": {},
     "output_type": "display_data"
    }
   ],
   "source": [
    "sns.histplot(df_train_raw['co2'], kde=True)"
   ]
  },
  {
   "cell_type": "markdown",
   "metadata": {},
   "source": [
    "On regarde ensuite les données manquantes. Les espaces blanches montrent les valeurs vides. \n",
    "\n",
    "On observe que les colonnes hc et hcnox manquent beaucoup de données."
   ]
  },
  {
   "cell_type": "code",
   "execution_count": 7,
   "metadata": {},
   "outputs": [
    {
     "data": {
      "text/plain": [
       "<Axes: >"
      ]
     },
     "execution_count": 7,
     "metadata": {},
     "output_type": "execute_result"
    },
    {
     "data": {
      "image/png": "[encoded data removed]",
      "text/plain": [
       "<Figure size 2500x1000 with 2 Axes>"
      ]
     },
     "metadata": {},
     "output_type": "display_data"
    }
   ],
   "source": [
    "msno.matrix(df_train_raw)"
   ]
  },
  {
   "cell_type": "markdown",
   "metadata": {},
   "source": [
    "### Nettoyage des données \n",
    "\n",
    "On supprime les colonnes non utilisées tels que la colonne id, co2 et les colonnes non-numériques. \n",
    "On supprime aussi les colonnes hc et hcnox qui sont partiellement vides.\n",
    "On normalise les valeurs numériques."
   ]
  },
  {
   "cell_type": "code",
   "execution_count": 8,
   "metadata": {},
   "outputs": [],
   "source": [
    "# Preprocessing function\n",
    "def preprocess(df):\n",
    "    df = df.copy() # Make copy so we don't ruin the original dataframe\n",
    "    df = df.drop(columns=[\"id\"], errors='ignore') # Drop id column\n",
    "    \n",
    "    numeric_cols = df.select_dtypes(np.number).columns # Numerical column name\n",
    "    numeric_cols = numeric_cols.drop(\"co2\", errors='ignore')\n",
    "\n",
    "    categorical_cols = df.select_dtypes(include=['object']).columns # Categorical column name\n",
    "\n",
    "    # on supprime les colonnes inutiles ou trop différents\n",
    "    categorical_cols = categorical_cols.drop(\"model\", errors='ignore')\n",
    "    \n",
    "    df_categorical = pd.get_dummies(df[categorical_cols], dummy_na=True) # OneHotEncoding, dummy_na create another column to indicate if the cell contain NA\n",
    "    \n",
    "    df_numerical = df[numeric_cols].apply(lambda x: (x - x.mean()) / (x.std())) # Normalize every numerical column\n",
    "    df_numerical = df_numerical.fillna(0) # Fill in missing value with mean 0\n",
    "    \n",
    "    df = pd.concat([df_numerical, df_categorical], axis=1) # Bind numerical column and categorical column\n",
    "    df = df.replace({ True: 1, False: 0 })\n",
    "    \n",
    "    return df"
   ]
  },
  {
   "cell_type": "markdown",
   "metadata": {},
   "source": [
    "On récupère ensuite les entrées et la cible (le target)"
   ]
  },
  {
   "cell_type": "code",
   "execution_count": 169,
   "metadata": {},
   "outputs": [],
   "source": [
    "# Get inputs and target\n",
    "df_train_y = df_train_raw[\"co2\"].copy() # Copy the target\n",
    "df_train_y = np.log(df_train_y, where=df_train_y != 0) # Scale the target\n",
    "df_train_X = preprocess(df_train_raw) # Preprocess the inputs"
   ]
  },
  {
   "cell_type": "markdown",
   "metadata": {},
   "source": [
    "On observe à nouveau les données après nettoyage"
   ]
  },
  {
   "cell_type": "code",
   "execution_count": 170,
   "metadata": {},
   "outputs": [
    {
     "data": {
      "text/html": [
       "<div>\n",
       "<style scoped>\n",
       "    .dataframe tbody tr th:only-of-type {\n",
       "        vertical-align: middle;\n",
       "    }\n",
       "\n",
       "    .dataframe tbody tr th {\n",
       "        vertical-align: top;\n",
       "    }\n",
       "\n",
       "    .dataframe thead th {\n",
       "        text-align: right;\n",
       "    }\n",
       "</style>\n",
       "<table border=\"1\" class=\"dataframe\">\n",
       "  <thead>\n",
       "    <tr style=\"text-align: right;\">\n",
       "      <th></th>\n",
       "      <th>max_power</th>\n",
       "      <th>weight_min</th>\n",
       "      <th>weight_max</th>\n",
       "      <th>urb_cons</th>\n",
       "      <th>exturb_cons</th>\n",
       "      <th>overall_cons</th>\n",
       "      <th>co</th>\n",
       "      <th>hc</th>\n",
       "      <th>nox</th>\n",
       "      <th>hcnox</th>\n",
       "      <th>...</th>\n",
       "      <th>grbx_type_ratios_D 5</th>\n",
       "      <th>grbx_type_ratios_D 6</th>\n",
       "      <th>grbx_type_ratios_D 7</th>\n",
       "      <th>grbx_type_ratios_M 5</th>\n",
       "      <th>grbx_type_ratios_M 6</th>\n",
       "      <th>grbx_type_ratios_M 7</th>\n",
       "      <th>grbx_type_ratios_S 6</th>\n",
       "      <th>grbx_type_ratios_V .</th>\n",
       "      <th>grbx_type_ratios_V 0</th>\n",
       "      <th>grbx_type_ratios_nan</th>\n",
       "    </tr>\n",
       "  </thead>\n",
       "  <tbody>\n",
       "    <tr>\n",
       "      <th>0</th>\n",
       "      <td>-1.081718</td>\n",
       "      <td>-0.431682</td>\n",
       "      <td>-0.631718</td>\n",
       "      <td>-0.226067</td>\n",
       "      <td>-0.317075</td>\n",
       "      <td>-0.262402</td>\n",
       "      <td>-0.674873</td>\n",
       "      <td>0.000000</td>\n",
       "      <td>-0.170262</td>\n",
       "      <td>0.436865</td>\n",
       "      <td>...</td>\n",
       "      <td>0</td>\n",
       "      <td>0</td>\n",
       "      <td>0</td>\n",
       "      <td>0</td>\n",
       "      <td>1</td>\n",
       "      <td>0</td>\n",
       "      <td>0</td>\n",
       "      <td>0</td>\n",
       "      <td>0</td>\n",
       "      <td>0</td>\n",
       "    </tr>\n",
       "    <tr>\n",
       "      <th>1</th>\n",
       "      <td>-0.419211</td>\n",
       "      <td>0.283063</td>\n",
       "      <td>0.029746</td>\n",
       "      <td>0.302782</td>\n",
       "      <td>0.262150</td>\n",
       "      <td>0.317846</td>\n",
       "      <td>-0.709297</td>\n",
       "      <td>0.000000</td>\n",
       "      <td>-0.182196</td>\n",
       "      <td>-0.018312</td>\n",
       "      <td>...</td>\n",
       "      <td>0</td>\n",
       "      <td>0</td>\n",
       "      <td>0</td>\n",
       "      <td>0</td>\n",
       "      <td>0</td>\n",
       "      <td>0</td>\n",
       "      <td>0</td>\n",
       "      <td>0</td>\n",
       "      <td>0</td>\n",
       "      <td>0</td>\n",
       "    </tr>\n",
       "    <tr>\n",
       "      <th>2</th>\n",
       "      <td>0.464131</td>\n",
       "      <td>1.644483</td>\n",
       "      <td>1.244003</td>\n",
       "      <td>1.408557</td>\n",
       "      <td>2.192902</td>\n",
       "      <td>1.840997</td>\n",
       "      <td>-0.785028</td>\n",
       "      <td>-0.638620</td>\n",
       "      <td>3.689150</td>\n",
       "      <td>0.000000</td>\n",
       "      <td>...</td>\n",
       "      <td>0</td>\n",
       "      <td>0</td>\n",
       "      <td>0</td>\n",
       "      <td>0</td>\n",
       "      <td>0</td>\n",
       "      <td>0</td>\n",
       "      <td>0</td>\n",
       "      <td>0</td>\n",
       "      <td>0</td>\n",
       "      <td>0</td>\n",
       "    </tr>\n",
       "    <tr>\n",
       "      <th>3</th>\n",
       "      <td>-0.750465</td>\n",
       "      <td>-2.800552</td>\n",
       "      <td>-2.509802</td>\n",
       "      <td>-1.524150</td>\n",
       "      <td>-2.054752</td>\n",
       "      <td>-1.785552</td>\n",
       "      <td>-0.096561</td>\n",
       "      <td>0.643276</td>\n",
       "      <td>-0.623749</td>\n",
       "      <td>0.000000</td>\n",
       "      <td>...</td>\n",
       "      <td>0</td>\n",
       "      <td>0</td>\n",
       "      <td>0</td>\n",
       "      <td>0</td>\n",
       "      <td>1</td>\n",
       "      <td>0</td>\n",
       "      <td>0</td>\n",
       "      <td>0</td>\n",
       "      <td>0</td>\n",
       "      <td>0</td>\n",
       "    </tr>\n",
       "    <tr>\n",
       "      <th>4</th>\n",
       "      <td>0.022460</td>\n",
       "      <td>0.861667</td>\n",
       "      <td>0.254171</td>\n",
       "      <td>0.254705</td>\n",
       "      <td>0.165612</td>\n",
       "      <td>0.245316</td>\n",
       "      <td>-0.957145</td>\n",
       "      <td>0.000000</td>\n",
       "      <td>-0.263346</td>\n",
       "      <td>-0.875114</td>\n",
       "      <td>...</td>\n",
       "      <td>0</td>\n",
       "      <td>0</td>\n",
       "      <td>0</td>\n",
       "      <td>0</td>\n",
       "      <td>0</td>\n",
       "      <td>0</td>\n",
       "      <td>0</td>\n",
       "      <td>0</td>\n",
       "      <td>0</td>\n",
       "      <td>0</td>\n",
       "    </tr>\n",
       "  </tbody>\n",
       "</table>\n",
       "<p>5 rows × 108 columns</p>\n",
       "</div>"
      ],
      "text/plain": [
       "   max_power  weight_min  weight_max  urb_cons  exturb_cons  overall_cons  \\\n",
       "0  -1.081718   -0.431682   -0.631718 -0.226067    -0.317075     -0.262402   \n",
       "1  -0.419211    0.283063    0.029746  0.302782     0.262150      0.317846   \n",
       "2   0.464131    1.644483    1.244003  1.408557     2.192902      1.840997   \n",
       "3  -0.750465   -2.800552   -2.509802 -1.524150    -2.054752     -1.785552   \n",
       "4   0.022460    0.861667    0.254171  0.254705     0.165612      0.245316   \n",
       "\n",
       "         co        hc       nox     hcnox  ...  grbx_type_ratios_D 5  \\\n",
       "0 -0.674873  0.000000 -0.170262  0.436865  ...                     0   \n",
       "1 -0.709297  0.000000 -0.182196 -0.018312  ...                     0   \n",
       "2 -0.785028 -0.638620  3.689150  0.000000  ...                     0   \n",
       "3 -0.096561  0.643276 -0.623749  0.000000  ...                     0   \n",
       "4 -0.957145  0.000000 -0.263346 -0.875114  ...                     0   \n",
       "\n",
       "   grbx_type_ratios_D 6  grbx_type_ratios_D 7  grbx_type_ratios_M 5  \\\n",
       "0                     0                     0                     0   \n",
       "1                     0                     0                     0   \n",
       "2                     0                     0                     0   \n",
       "3                     0                     0                     0   \n",
       "4                     0                     0                     0   \n",
       "\n",
       "   grbx_type_ratios_M 6  grbx_type_ratios_M 7  grbx_type_ratios_S 6  \\\n",
       "0                     1                     0                     0   \n",
       "1                     0                     0                     0   \n",
       "2                     0                     0                     0   \n",
       "3                     1                     0                     0   \n",
       "4                     0                     0                     0   \n",
       "\n",
       "   grbx_type_ratios_V .  grbx_type_ratios_V 0  grbx_type_ratios_nan  \n",
       "0                     0                     0                     0  \n",
       "1                     0                     0                     0  \n",
       "2                     0                     0                     0  \n",
       "3                     0                     0                     0  \n",
       "4                     0                     0                     0  \n",
       "\n",
       "[5 rows x 108 columns]"
      ]
     },
     "execution_count": 170,
     "metadata": {},
     "output_type": "execute_result"
    }
   ],
   "source": [
    "df_train_X.head()"
   ]
  },
  {
   "cell_type": "code",
   "execution_count": 171,
   "metadata": {},
   "outputs": [
    {
     "data": {
      "text/plain": [
       "<Axes: xlabel='co2', ylabel='Count'>"
      ]
     },
     "execution_count": 171,
     "metadata": {},
     "output_type": "execute_result"
    },
    {
     "data": {
      "image/png": "[encoded data removed]",
      "text/plain": [
       "<Figure size 640x480 with 1 Axes>"
      ]
     },
     "metadata": {},
     "output_type": "display_data"
    }
   ],
   "source": [
    "sns.histplot(df_train_y, kde=True)"
   ]
  },
  {
   "cell_type": "markdown",
   "metadata": {},
   "source": [
    "### Séparation des données\n",
    "On \"split\" ensuite les données pour utiliser 80% pour l'entrainement et 20% pour la validation"
   ]
  },
  {
   "cell_type": "code",
   "execution_count": 172,
   "metadata": {},
   "outputs": [],
   "source": [
    "df_train_X, df_val_X, df_train_y, df_val_y = train_test_split(df_train_X, df_train_y, train_size=0.8, random_state=42)"
   ]
  },
  {
   "cell_type": "markdown",
   "metadata": {
    "collapsed": false
   },
   "source": [
    "## Construction du modèle\n",
    "\n",
    "D'abord on construit un premier modèle dit \"pyramidal\". L'idée est de partir avec un nombre d'entrées fixé, correspondant aux caractéristiques de nos voitures. Dans notre cas, on commence pour l'instant avec les 11 paramètres numériques présents dans nos données \\(en enlevant les paramètres \"id\" et \"co2\"\\). On place ensuite une première couche cachée avec un grand nombre de neurones, avant de faire décroître ce nombre sur les couches suivantes.\n",
    "\n",
    "On y ajoute aussi la fonction d'activation ReLU (Rectified Linear Unit). Elle calcule simplement le maximum entre 0 et le niveau d'activation du neurone.\n",
    "\n"
   ]
  },
  {
   "cell_type": "code",
   "execution_count": 173,
   "metadata": {
    "collapsed": false
   },
   "outputs": [],
   "source": [
    "# Building a model\n",
    "class Model(nn.Module):\n",
    "    def __init__(self, D_in=108, H=73, D_out=1, Hn=4):\n",
    "        super().__init__()\n",
    "        self.Hn = Hn # Number of hidden layer\n",
    "        self.activation = nn.Softplus() # Activation function\n",
    "        \n",
    "        self.layers = nn.ModuleList([nn.Linear(D_in, H), self.activation]) # First hidden layer\n",
    "        for i in range(self.Hn - 1):\n",
    "            self.layers.extend([nn.Linear(H, H), self.activation]) # Add hidden layer\n",
    "        self.layers.append(nn.Linear(H, D_out)) # Output layer\n",
    "        \n",
    "    def forward(self, x):\n",
    "        for layer in self.layers:\n",
    "            x = layer(x)\n",
    "        return x"
   ]
  },
  {
   "cell_type": "markdown",
   "metadata": {
    "collapsed": false
   },
   "source": [
    "## Entrainement du modèle\n",
    "\n",
    "Une fois le réseau de neurone défini, on va entraîner ce modèle. Pour l'entraînement, on définit une fonction de perte qui nous permettra de quantifier l'écart entre les prévisions et les observations réelles. On utilise pour cela la fonction MSE (Mean Square Error) : $$ MSE = \\frac{1}{n} \\sum_{i=1}^{n} (\\hat{Y_i} - Y_i)^2$$\n",
    "\n",
    "Pour optimiser le processus, on utilise l'algorithme Adam. Cet algorithme implémente une méthode stochastique très efficace de descente de gradient pour modifier les poids des neurones à chaque itération de l'entraînement.\n",
    "\n"
   ]
  },
  {
   "cell_type": "markdown",
   "metadata": {},
   "source": [
    "On met en place un seed pour avoir les mêmes résultats à chaque éxécution, ce qui va faciliter le débuggage."
   ]
  },
  {
   "cell_type": "code",
   "execution_count": 174,
   "metadata": {
    "collapsed": false
   },
   "outputs": [],
   "source": [
    "# Setting seed for reproducibility\n",
    "def set_seed(seed):\n",
    "    torch.manual_seed(seed)\n",
    "    torch.cuda.manual_seed(seed)\n",
    "    torch.backends.cudnn.deterministic = True\n",
    "    torch.use_deterministic_algorithms = True\n",
    "    \n",
    "# Set seed for reproducibility\n",
    "set_seed(123)"
   ]
  },
  {
   "cell_type": "markdown",
   "metadata": {},
   "source": [
    "On utilise la carte graphique avec CUDA si disponible, sinon le processeur"
   ]
  },
  {
   "cell_type": "code",
   "execution_count": 175,
   "metadata": {},
   "outputs": [
    {
     "name": "stdout",
     "output_type": "stream",
     "text": [
      "cpu\n"
     ]
    }
   ],
   "source": [
    "device = torch.device(\"cuda\" if torch.cuda.is_available() else \"cpu\")\n",
    "\n",
    "# force cpu\n",
    "device = \"cpu\"\n",
    "\n",
    "print(device)"
   ]
  },
  {
   "cell_type": "markdown",
   "metadata": {},
   "source": [
    "On génère les données que l'on va utiliser pour la validation"
   ]
  },
  {
   "cell_type": "code",
   "execution_count": 176,
   "metadata": {},
   "outputs": [],
   "source": [
    "y_val = torch.tensor(df_val_y.values).float().to(device).unsqueeze(1) # Unsqueeze to match the shape of the output of our model\n",
    "X_val = torch.tensor(df_val_X.values).float().to(device)"
   ]
  },
  {
   "cell_type": "markdown",
   "metadata": {},
   "source": [
    "Préparation des données pour l'apprentissage par renforcement hors ligne"
   ]
  },
  {
   "cell_type": "code",
   "execution_count": 177,
   "metadata": {},
   "outputs": [],
   "source": [
    "y_train = torch.tensor(df_train_y.values).float().to(device).unsqueeze(1) # Unsqueeze to match the shape of the output of our model\n",
    "X_train = torch.tensor(df_train_X.values).float().to(device)\n",
    "dataset = TensorDataset(X_train, y_train) # Make X,y into dataset so we can work with DataLoader which iterate our data in batch size\n",
    "dataloader = DataLoader(dataset, batch_size=16, shuffle=True)"
   ]
  },
  {
   "cell_type": "markdown",
   "metadata": {},
   "source": [
    "On initialise le modèle, définit l'optimiseur et la fonction perte"
   ]
  },
  {
   "cell_type": "code",
   "execution_count": 178,
   "metadata": {},
   "outputs": [],
   "source": [
    "model = Model().to(device) # Define model and send to gpu\n",
    "optimizer = torch.optim.SGD(model.parameters(), lr=0.002, momentum=0.9, weight_decay=0.001) # What approach we use to minimize the gradient\n",
    "criterion = nn.MSELoss() # Our loss function"
   ]
  },
  {
   "cell_type": "markdown",
   "metadata": {},
   "source": [
    "On entraîne le modèle (explications ?)"
   ]
  },
  {
   "cell_type": "code",
   "execution_count": 179,
   "metadata": {},
   "outputs": [
    {
     "name": "stdout",
     "output_type": "stream",
     "text": [
      "0\n",
      "1\n",
      "2\n",
      "3\n",
      "4\n",
      "5\n",
      "6\n",
      "7\n",
      "8\n",
      "9\n",
      "10\n",
      "11\n",
      "12\n",
      "13\n",
      "14\n",
      "15\n",
      "16\n",
      "17\n",
      "18\n",
      "19\n",
      "20\n",
      "21\n",
      "22\n",
      "23\n",
      "24\n",
      "25\n",
      "26\n",
      "27\n",
      "28\n",
      "29\n",
      "30\n",
      "31\n",
      "32\n",
      "33\n",
      "34\n",
      "35\n",
      "36\n",
      "37\n",
      "38\n",
      "39\n",
      "40\n",
      "41\n",
      "42\n",
      "43\n",
      "44\n",
      "45\n",
      "46\n",
      "47\n",
      "48\n",
      "49\n",
      "50\n",
      "51\n",
      "52\n",
      "53\n",
      "54\n",
      "55\n",
      "56\n",
      "57\n",
      "58\n",
      "59\n",
      "60\n",
      "61\n",
      "62\n",
      "63\n",
      "64\n",
      "65\n",
      "66\n",
      "67\n",
      "68\n",
      "69\n",
      "70\n",
      "71\n",
      "72\n",
      "73\n",
      "74\n",
      "75\n",
      "76\n",
      "77\n",
      "78\n",
      "79\n",
      "80\n",
      "81\n",
      "82\n",
      "83\n",
      "84\n",
      "85\n",
      "86\n",
      "87\n",
      "88\n",
      "89\n",
      "90\n",
      "91\n",
      "92\n",
      "93\n",
      "94\n",
      "95\n",
      "96\n",
      "97\n",
      "98\n",
      "99\n"
     ]
    }
   ],
   "source": [
    "train_losses = [] # Store the training loss\n",
    "val_losses = [] # Store the validation loss\n",
    "epochs = 100 # Number of time we go over the whole dataset\n",
    "\n",
    "for epoch in range(epochs):\n",
    "    running_loss = 0.0\n",
    "    \n",
    "    for batch, (X,y) in enumerate(dataloader):\n",
    "        # Forward propagation\n",
    "        y_pred = model(X) # Make prediction by passing X to our model\n",
    "        loss = criterion(y_pred, y) # Calculate loss \n",
    "        running_loss += loss.item() # Add loss to running loss\n",
    "        \n",
    "        # Backward propagation\n",
    "        optimizer.zero_grad() # Empty the gradient (look up this function)\n",
    "        loss.backward() # Do backward propagation and calculate the gradient of loss with respect to every parameters (that require gradient)\n",
    "        optimizer.step() # Adjust parameters to minimize loss\n",
    "    \n",
    "    # Append train loss\n",
    "    train_losses.append(running_loss/(batch + 1)) # Add the average loss of this iteration to training loss\n",
    "    \n",
    "    # Check test loss\n",
    "    y_pred = model(X_val)\n",
    "    val_loss = criterion(y_pred, y_val).item()\n",
    "    val_losses.append(val_loss)\n",
    "    print(epoch)"
   ]
  },
  {
   "cell_type": "markdown",
   "metadata": {},
   "source": [
    "### Evaluation du modèle"
   ]
  },
  {
   "cell_type": "markdown",
   "metadata": {},
   "source": [
    "Fonctions pour visualiser l'écart entre les prévisions du modèle et les observations réelles"
   ]
  },
  {
   "cell_type": "code",
   "execution_count": 180,
   "metadata": {},
   "outputs": [],
   "source": [
    "# Plotting loss\n",
    "def plot_loss(losses, axes=None, epoch_start = 0):\n",
    "    sns.set_theme(style=\"darkgrid\")\n",
    "    x = [i for i in range(1 + epoch_start, len(losses) + 1)]\n",
    "    sns.lineplot(ax=axes, x=x, y=losses[epoch_start:])\n",
    "    \n",
    "    \n",
    "def plot_epoch_loss(train_losses, test_losses, epoch1=0, epoch2=10, epoch3=50, epoch4=150):\n",
    "    fig, axes = plt.subplots(2, 2, figsize=(12,6), constrained_layout = True)\n",
    "    fig.suptitle(\"Losses against Epochs\")\n",
    "\n",
    "    axes[0][0].set_title('Epoch Start at ' + str(epoch1))\n",
    "    plot_loss(train_losses, axes[0][0], epoch1)\n",
    "    plot_loss(test_losses, axes[0][0], epoch1)\n",
    "\n",
    "    axes[0][1].set_title('Epoch Start at ' + str(epoch2))\n",
    "    plot_loss(train_losses, axes[0][1], epoch2)\n",
    "    plot_loss(test_losses, axes[0][1], epoch2)\n",
    "\n",
    "    axes[1][0].set_title('Epoch Start at ' + str(epoch3))\n",
    "    plot_loss(train_losses, axes[1][0], epoch3)\n",
    "    plot_loss(test_losses, axes[1][0], epoch3)\n",
    "\n",
    "    axes[1][1].set_title('Epoch Start at ' + str(epoch4))\n",
    "    plot_loss(train_losses, axes[1][1], epoch4)\n",
    "    plot_loss(test_losses, axes[1][1], epoch4)\n",
    "\n",
    "    plot_epoch_loss(train_losses, val_losses)"
   ]
  },
  {
   "cell_type": "markdown",
   "metadata": {},
   "source": [
    "Fonctions pour calculer les erreurs"
   ]
  },
  {
   "cell_type": "code",
   "execution_count": 181,
   "metadata": {},
   "outputs": [],
   "source": [
    "def numpy_error(model, X, y, exp=True):\n",
    "    y_pred = model(X)\n",
    "    if exp:\n",
    "        y = torch.exp(y)\n",
    "        y_pred = torch.exp(y_pred)\n",
    "\n",
    "    errors = (y_pred - y).flatten().detach().cpu().numpy()\n",
    "    return errors\n",
    "\n",
    "# Calculate the mean absolute error\n",
    "def mae(errors):\n",
    "    return np.abs(errors).mean()\n",
    "\n",
    "# Calculate the root mean squared error\n",
    "def rmse(errors):\n",
    "    mse = ((errors)**2).mean()\n",
    "    return np.sqrt(mse)"
   ]
  },
  {
   "cell_type": "markdown",
   "metadata": {},
   "source": [
    "On affiche les erreurs"
   ]
  },
  {
   "cell_type": "code",
   "execution_count": 182,
   "metadata": {},
   "outputs": [
    {
     "name": "stdout",
     "output_type": "stream",
     "text": [
      "Error on training set\n",
      "MAE: 0.00909782201051712\n",
      "RMSE: 0.023324372246861458\n",
      "\n",
      "Error on testing set\n",
      "MAE: 0.00917208380997181\n",
      "RMSE: 0.02273467183113098\n"
     ]
    }
   ],
   "source": [
    "# Error on full training set \n",
    "errors = numpy_error(model, X_train, y_train, False)\n",
    "print(\"Error on training set\")\n",
    "print(f\"MAE: {mae(errors)}\\nRMSE: {rmse(errors)}\")\n",
    "\n",
    "# Error on testing set\n",
    "errors = numpy_error(model, X_val, y_val, False)\n",
    "print(\"\\nError on testing set\")\n",
    "print(f\"MAE: {mae(errors)}\\nRMSE: {rmse(errors)}\")"
   ]
  },
  {
   "cell_type": "markdown",
   "metadata": {},
   "source": [
    "## Essai du modèle"
   ]
  },
  {
   "cell_type": "markdown",
   "metadata": {},
   "source": [
    "On charge le fichier de test"
   ]
  },
  {
   "cell_type": "code",
   "execution_count": 183,
   "metadata": {},
   "outputs": [],
   "source": [
    "df_test = pd.read_csv('dataset/test.csv')\n",
    "submission_id = df_test[\"id\"].copy()"
   ]
  },
  {
   "cell_type": "markdown",
   "metadata": {},
   "source": [
    "On regarde les données manquantes"
   ]
  },
  {
   "cell_type": "code",
   "execution_count": 184,
   "metadata": {},
   "outputs": [
    {
     "name": "stdout",
     "output_type": "stream",
     "text": [
      "Index(['brand_SSANGYONG', 'car_class_COMBISPCACE', 'fuel_type_GL',\n",
      "       'grbx_type_ratios_S 6', 'grbx_type_ratios_V .'],\n",
      "      dtype='object')\n"
     ]
    }
   ],
   "source": [
    "# Check for missing columns on submission inputs (after preprocessing)\n",
    "X_submission = preprocess(df_test)\n",
    "train_cols = df_train_X.columns\n",
    "submission_cols = X_submission.columns\n",
    "diff = train_cols.difference(submission_cols)\n",
    "\n",
    "print(diff)"
   ]
  },
  {
   "cell_type": "markdown",
   "metadata": {},
   "source": [
    "On essaye de corriger les données manquantes en ajoutant des lignes pour les valeurs manquantes pour chaque colonne"
   ]
  },
  {
   "cell_type": "code",
   "execution_count": 185,
   "metadata": {},
   "outputs": [],
   "source": [
    "added_rows = 0 \n",
    "idx = len(df_test) # Where added row should be modified\n",
    "\n",
    "df_test_copy = df_test.copy() # Copy so we don't ruin the dataframe\n",
    "eg_row = df_test.iloc[0] # Example row\n",
    "\n",
    "for string in diff:\n",
    "    df_test_copy = pd.concat([df_test_copy, pd.DataFrame([eg_row])], ignore_index=True)\n",
    "    col, value = string.rsplit('_', 1) # Split into column and value\n",
    "    df_test_copy.loc[idx, col] = value\n",
    "    idx += 1\n",
    "    added_rows += 1\n"
   ]
  },
  {
   "cell_type": "markdown",
   "metadata": {},
   "source": [
    "On nettoie les données"
   ]
  },
  {
   "cell_type": "code",
   "execution_count": 186,
   "metadata": {},
   "outputs": [],
   "source": [
    "df_test_copy = preprocess(df_test_copy) # Preprocess the copy\n",
    "X_submission = df_test_copy.drop(df_test_copy.tail(added_rows).index) # Remove the added rows\n",
    "X_submission = torch.tensor(X_submission.values).float().to(device) # Change it into tensor for our model"
   ]
  },
  {
   "cell_type": "markdown",
   "metadata": {},
   "source": [
    "On génère notre soumission"
   ]
  },
  {
   "cell_type": "code",
   "execution_count": 187,
   "metadata": {},
   "outputs": [],
   "source": [
    "y_submission = model(X_submission).squeeze() # Make it into array\n",
    "y_submission = torch.exp(y_submission) # Scale back to normal value \n",
    "y_submission = y_submission.cpu().detach().numpy() # Change to numpy\n",
    "submission = pd.DataFrame({\"id\":submission_id, \"co2\":y_submission}) # Make dataframe for submission\n",
    "submission.to_csv('submission.csv', index=False) # Put into csv file"
   ]
  },
  {
   "cell_type": "markdown",
   "metadata": {},
   "source": [
    "# Regréssion avec Scikit learn\n",
    "\n",
    "Dans cette partie, nous allons reprendre notre reégrression linéaire mais avec la bibliothèque Scikit-learn, qui propose des modèles tres interessants"
   ]
  },
  {
   "cell_type": "code",
   "execution_count": 80,
   "metadata": {},
   "outputs": [],
   "source": [
    "from sklearn.preprocessing import StandardScaler\n",
    "from sklearn.linear_model import LogisticRegression\n",
    "from sklearn.pipeline import make_pipeline\n",
    "from sklearn.model_selection import cross_validate\n",
    "from sklearn.preprocessing import OneHotEncoder\n",
    "from sklearn.compose import ColumnTransformer\n",
    "from sklearn.compose import make_column_selector as selector\n",
    "from sklearn.linear_model import RidgeCV\n",
    "from sklearn.neighbors import KNeighborsRegressor\n",
    "from sklearn.ensemble import RandomForestRegressor\n",
    "from pandas.plotting import scatter_matrix\n",
    "import matplotlib.pyplot as plt\n",
    "from sklearn.ensemble import AdaBoostRegressor\n",
    "import pandas as pd\n",
    "import sklearn"
   ]
  },
  {
   "cell_type": "code",
   "execution_count": 73,
   "metadata": {},
   "outputs": [],
   "source": [
    "df = pd.read_csv(\"dataset/train.csv\")"
   ]
  },
  {
   "cell_type": "markdown",
   "metadata": {},
   "source": [
    "On a remarqué que hcnox = hc +nox\n",
    "\n",
    "Ainsi, on peut donc retrouver les valeurs nulles dans la colonne hc. Une fois cela fait, on supprime la colonne hcnox."
   ]
  },
  {
   "cell_type": "code",
   "execution_count": 74,
   "metadata": {},
   "outputs": [],
   "source": [
    "# Vérifier si la colonne \"hcnox\" est vide\n",
    "is_empty = (df['hc'].isnull() & df['hcnox'].notnull() & df['nox'].notnull())\n",
    "\n",
    "# Remplir les valeurs manquantes dans \"hcnox\" avec la somme de \"hc\" et \"nox\"\n",
    "df.loc[is_empty,'hc'] = df.loc[is_empty,'hcnox'] - df.loc[is_empty,'nox']\n",
    "df = df.drop(columns=[\"hcnox\"])"
   ]
  },
  {
   "cell_type": "code",
   "execution_count": 75,
   "metadata": {},
   "outputs": [
    {
     "name": "stderr",
     "output_type": "stream",
     "text": [
      "C:\\Users\\dilan\\AppData\\Local\\Temp\\ipykernel_12224\\3012464913.py:2: FutureWarning: A value is trying to be set on a copy of a DataFrame or Series through chained assignment using an inplace method.\n",
      "The behavior will change in pandas 3.0. This inplace method will never work because the intermediate object on which we are setting values always behaves as a copy.\n",
      "\n",
      "For example, when doing 'df[col].method(value, inplace=True)', try using 'df.method({col: value}, inplace=True)' or df[col] = df[col].method(value) instead, to perform the operation inplace on the original object.\n",
      "\n",
      "\n",
      "  df['ptcl'].fillna(median, inplace=True)\n"
     ]
    }
   ],
   "source": [
    "median = df['ptcl'].median()\n",
    "df['ptcl'].fillna(median, inplace=True)\n",
    "df = df.dropna()"
   ]
  },
  {
   "cell_type": "code",
   "execution_count": 76,
   "metadata": {},
   "outputs": [
    {
     "data": {
      "text/plain": [
       "<Axes: >"
      ]
     },
     "execution_count": 76,
     "metadata": {},
     "output_type": "execute_result"
    },
    {
     "data": {
      "image/png": "[encoded data removed]",
      "text/plain": [
       "<Figure size 2500x1000 with 2 Axes>"
      ]
     },
     "metadata": {},
     "output_type": "display_data"
    }
   ],
   "source": [
    "msno.matrix(df)"
   ]
  },
  {
   "cell_type": "markdown",
   "metadata": {},
   "source": [
    "On supprime la colonne \"id\". On sépare la cible des autres variables"
   ]
  },
  {
   "cell_type": "code",
   "execution_count": 77,
   "metadata": {},
   "outputs": [],
   "source": [
    "target_name = \"co2\"\n",
    "target, data = df[target_name] , df.drop(columns=[target_name,\"id\"])   #On sépare la colonne target des autres colonnes"
   ]
  },
  {
   "cell_type": "markdown",
   "metadata": {},
   "source": [
    "Sélection des variables numériques et catégoriques"
   ]
  },
  {
   "cell_type": "code",
   "execution_count": 78,
   "metadata": {},
   "outputs": [],
   "source": [
    "numerical_columns_selector = selector(dtype_exclude=object)\n",
    "categorical_columns_selector = selector(dtype_include=object)\n",
    "\n",
    "numerical_columns = numerical_columns_selector(data)\n",
    "categorical_columns = categorical_columns_selector(data)"
   ]
  },
  {
   "cell_type": "code",
   "execution_count": 82,
   "metadata": {},
   "outputs": [],
   "source": [
    "#prétraitement des variables\n",
    "categorical_preprocessor = OneHotEncoder(handle_unknown=\"ignore\")\n",
    "numerical_preprocessor = StandardScaler()\n",
    "\n",
    "#Notre modèle qui est un pipeline, standarisation des données puis, regréssion logistique\n",
    "preprocessors = ColumnTransformer([\n",
    "    ('one-hot-encoder', categorical_preprocessor, categorical_columns),\n",
    "    ('standard_scaler', numerical_preprocessor, numerical_columns)])"
   ]
  },
  {
   "cell_type": "markdown",
   "metadata": {},
   "source": [
    "## AdaBoost"
   ]
  },
  {
   "cell_type": "code",
   "execution_count": null,
   "metadata": {},
   "outputs": [],
   "source": [
    "ada = make_pipeline(preprocessors, AdaBoostRegressor(n_estimators=4000, learning_rate=1.0, loss='linear'))\n",
    "ada_regressor = ada.fit(data,target)"
   ]
  },
  {
   "cell_type": "markdown",
   "metadata": {},
   "source": [
    "## RidgeCV"
   ]
  },
  {
   "cell_type": "code",
   "execution_count": 147,
   "metadata": {},
   "outputs": [],
   "source": [
    "alphas = np.logspace(-5, 5, num=101)\n",
    "ridge = make_pipeline(preprocessors, RidgeCV(alphas=alphas,cv=2))\n",
    "\n",
    "cv_results = cross_validate(\n",
    "    model, data, target, cv=3, return_estimator=True,\n",
    "    return_train_score=True, scoring=\"neg_mean_squared_error\"\n",
    ")\n",
    "ridge_regressor = ridge.fit(data,target)"
   ]
  },
  {
   "cell_type": "code",
   "execution_count": 148,
   "metadata": {},
   "outputs": [
    {
     "name": "stdout",
     "output_type": "stream",
     "text": [
      "Erreur quadratique moyenne du modèle de régression linéaire sur les données d'entrainement:\n",
      "0.225 ± 0.010\n",
      "Erreur quadratique moyenne du modèle de régression linéaire sur les données de test:\n",
      "0.282 ± 0.040\n"
     ]
    }
   ],
   "source": [
    "scores_train=-cv_results[\"train_score\"]\n",
    "scores_test=-cv_results[\"test_score\"]\n",
    "\n",
    "print(f\"Erreur quadratique moyenne du modèle de régression linéaire sur les données d'entrainement:\\n\"\n",
    "      f\"{scores_train.mean():.3f} ± {scores_train.std():.3f}\")\n",
    "\n",
    "print(f\"Erreur quadratique moyenne du modèle de régression linéaire sur les données de test:\\n\"\n",
    "      f\"{scores_test.mean():.3f} ± {scores_test.std():.3f}\")"
   ]
  },
  {
   "cell_type": "code",
   "execution_count": null,
   "metadata": {},
   "outputs": [],
   "source": []
  },
  {
   "cell_type": "code",
   "execution_count": null,
   "metadata": {},
   "outputs": [],
   "source": []
  },
  {
   "cell_type": "code",
   "execution_count": null,
   "metadata": {},
   "outputs": [],
   "source": []
  },
  {
   "cell_type": "code",
   "execution_count": 129,
   "metadata": {},
   "outputs": [],
   "source": []
  },
  {
   "cell_type": "code",
   "execution_count": 170,
   "metadata": {},
   "outputs": [],
   "source": [
    "from sklearn.impute import SimpleImputer\n",
    "data_test = pd.read_csv('dataset/test.csv')\n",
    "column_id = data_test[\"id\"]\n",
    "data_test = data_test.drop(columns=[\"id\",\"hc\"])\n",
    "\n",
    "imputer = SimpleImputer(fill_value=np.nan, strategy='mean')\n",
    "df_hcnox =imputer.fit_transform(data_test[[\"hcnox\"]])\n",
    "data_test[\"hcnox\"]=df_hcnox\n",
    "\n",
    "df_co = imputer.fit_transform(data_test[[\"co\"]])\n",
    "data_test[\"co\"]=df_co\n",
    "\n",
    "df_nox = imputer.fit_transform(data_test[[\"nox\"]])\n",
    "data_test[\"nox\"]=df_nox\n",
    "\n",
    "df_urb_cons = imputer.fit_transform(data_test[[\"urb_cons\"]])\n",
    "data_test[\"urb_cons\"]=df_urb_cons\n",
    "\n",
    "df_exturb_cons = imputer.fit_transform(data_test[[\"exturb_cons\"]])\n",
    "data_test[\"exturb_cons\"]=df_exturb_cons\n",
    "\n",
    "df_ptcl = SimpleImputer(fill_value=np.nan, strategy='median').fit_transform(data_test[[\"ptcl\"]])\n",
    "data_test[\"ptcl\"]=df_ptcl\n",
    "\n",
    "predictions = model.predict(data_test)\n",
    "\n",
    "result_df = pd.DataFrame({'id': column_id, 'co2': predictions})\n",
    "result_df.to_csv(\"predictions.csv\", index=False)"
   ]
  },
  {
   "cell_type": "code",
   "execution_count": 169,
   "metadata": {},
   "outputs": [
    {
     "data": {
      "text/plain": [
       "brand               0\n",
       "model               0\n",
       "car_class           0\n",
       "range               0\n",
       "fuel_type           0\n",
       "hybrid              0\n",
       "max_power           0\n",
       "grbx_type_ratios    0\n",
       "weight_min          0\n",
       "weight_max          0\n",
       "urb_cons            3\n",
       "exturb_cons         3\n",
       "overall_cons        0\n",
       "co                  0\n",
       "nox                 0\n",
       "hcnox               0\n",
       "ptcl                0\n",
       "dtype: int64"
      ]
     },
     "execution_count": 169,
     "metadata": {},
     "output_type": "execute_result"
    }
   ],
   "source": [
    "data_test.isnull().sum()"
   ]
  },
  {
   "cell_type": "markdown",
   "metadata": {},
   "source": [
    "## Régression linéaire"
   ]
  },
  {
   "cell_type": "code",
   "execution_count": 112,
   "metadata": {},
   "outputs": [
    {
     "name": "stdout",
     "output_type": "stream",
     "text": [
      "Erreur quadratique moyenne du modèle de régression linéaire sur les données d'entrainement:\n",
      "0.206 ± 0.001\n",
      "Erreur quadratique moyenne du modèle de régression linéaire sur les données de test:\n",
      "0.628 ± 0.089\n"
     ]
    }
   ],
   "source": [
    "from sklearn.linear_model import LinearRegression\n",
    "model2 = make_pipeline(preprocessors, LinearRegression())\n",
    "cv_results2 = cross_validate(\n",
    "    model2, data, target, cv=2, return_estimator=True,\n",
    "    return_train_score=True, scoring=\"neg_mean_squared_error\"\n",
    ")\n",
    "scores_train2=-cv_results2[\"train_score\"]\n",
    "scores_test2=-cv_results2[\"test_score\"]\n",
    "\n",
    "print(f\"Erreur quadratique moyenne du modèle de régression linéaire sur les données d'entrainement:\\n\"\n",
    "      f\"{scores_train2.mean():.3f} ± {scores_train2.std():.3f}\")\n",
    "\n",
    "print(f\"Erreur quadratique moyenne du modèle de régression linéaire sur les données de test:\\n\"\n",
    "      f\"{scores_test2.mean():.3f} ± {scores_test2.std():.3f}\")\n",
    "#ExtraTreesRegressor(n_estimators=10, max_features=32, random_state=0),"
   ]
  },
  {
   "cell_type": "markdown",
   "metadata": {},
   "source": [
    "## K Nearest Neighbors"
   ]
  },
  {
   "cell_type": "code",
   "execution_count": 145,
   "metadata": {},
   "outputs": [
    {
     "name": "stdout",
     "output_type": "stream",
     "text": [
      "Erreur quadratique moyenne du modèle de régression linéaire sur les données d'entrainement:\n",
      "0.005 ± 0.000\n",
      "Erreur quadratique moyenne du modèle de régression linéaire sur les données de test:\n",
      "1.760 ± 0.431\n"
     ]
    }
   ],
   "source": [
    "model3 = make_pipeline(preprocessors, KNeighborsRegressor(n_neighbors=5,weights=\"distance\",p=1))\n",
    "cv_results3 = cross_validate(\n",
    "    model3, data, target, cv=2, return_estimator=True,\n",
    "    return_train_score=True, scoring=\"neg_mean_squared_error\"\n",
    ")\n",
    "\n",
    "scores_train3=-cv_results3[\"train_score\"]\n",
    "scores_test3=-cv_results3[\"test_score\"]\n",
    "\n",
    "print(f\"Erreur quadratique moyenne du modèle de régression linéaire sur les données d'entrainement:\\n\"\n",
    "      f\"{scores_train3.mean():.3f} ± {scores_train3.std():.3f}\")\n",
    "\n",
    "print(f\"Erreur quadratique moyenne du modèle de régression linéaire sur les données de test:\\n\"\n",
    "      f\"{scores_test3.mean():.3f} ± {scores_test3.std():.3f}\")"
   ]
  },
  {
   "cell_type": "code",
   "execution_count": 100,
   "metadata": {},
   "outputs": [
    {
     "name": "stdout",
     "output_type": "stream",
     "text": [
      "Erreur quadratique moyenne du modèle de régression linéaire sur les données d'entrainement:\n",
      "4.937 ± 0.449\n",
      "Erreur quadratique moyenne du modèle de régression linéaire sur les données de test:\n",
      "10.236 ± 1.854\n"
     ]
    }
   ],
   "source": [
    "from sklearn.ensemble import GradientBoostingRegressor\n",
    "model5 = make_pipeline(preprocessors, GradientBoostingRegressor(n_estimators=1000, max_features=20))\n",
    "cv_results5 = cross_validate(\n",
    "    model5, data, target, cv=2, return_estimator=True,\n",
    "    return_train_score=True, scoring=\"neg_mean_squared_error\"\n",
    ")\n",
    "\n",
    "scores_train5=-cv_results5[\"train_score\"]\n",
    "scores_test5=-cv_results5[\"test_score\"]\n",
    "\n",
    "print(f\"Erreur quadratique moyenne du modèle de régression linéaire sur les données d'entrainement:\\n\"\n",
    "      f\"{scores_train5.mean():.3f} ± {scores_train5.std():.3f}\")\n",
    "\n",
    "print(f\"Erreur quadratique moyenne du modèle de régression linéaire sur les données de test:\\n\"\n",
    "      f\"{scores_test5.mean():.3f} ± {scores_test5.std():.3f}\")\n"
   ]
  },
  {
   "cell_type": "code",
   "execution_count": 117,
   "metadata": {},
   "outputs": [],
   "source": [
    "from sklearn.ensemble import StackingRegressor\n",
    "from sklearn.ensemble import VotingRegressor\n",
    " \n",
    "#reg = StackingRegressor(estimators=RidgeCV(alphas=alphas,cv=2),final_estimator=KNeighborsRegressor(n_neighbors=20,weights=\"distance\",p=1))\n",
    "r1 = RidgeCV(alphas=alphas,cv=2)\n",
    "r2 = KNeighborsRegressor(n_neighbors=20,weights=\"distance\",p=1)\n",
    "model4 = make_pipeline(preprocessors,VotingRegressor(estimators=[('lr',r1),('rf',r2)]))"
   ]
  },
  {
   "cell_type": "code",
   "execution_count": 118,
   "metadata": {},
   "outputs": [
    {
     "name": "stdout",
     "output_type": "stream",
     "text": [
      "Erreur quadratique moyenne du modèle de régression linéaire sur les données d'entrainement:\n",
      "0.064 ± 0.000\n",
      "Erreur quadratique moyenne du modèle de régression linéaire sur les données de test:\n",
      "0.896 ± 0.103\n"
     ]
    }
   ],
   "source": [
    "cv_results4 = cross_validate(\n",
    "    model4, data, target, cv=2, return_estimator=True,\n",
    "    return_train_score=True, scoring=\"neg_mean_squared_error\"\n",
    ")\n",
    "\n",
    "scores_train4=-cv_results4[\"train_score\"]\n",
    "scores_test4=-cv_results4[\"test_score\"]\n",
    "\n",
    "print(f\"Erreur quadratique moyenne du modèle de régression linéaire sur les données d'entrainement:\\n\"\n",
    "      f\"{scores_train4.mean():.3f} ± {scores_train4.std():.3f}\")\n",
    "\n",
    "print(f\"Erreur quadratique moyenne du modèle de régression linéaire sur les données de test:\\n\"\n",
    "      f\"{scores_test4.mean():.3f} ± {scores_test4.std():.3f}\")"
   ]
  },
  {
   "cell_type": "code",
   "execution_count": null,
   "metadata": {},
   "outputs": [],
   "source": []
  }
 ],
 "metadata": {
  "kernelspec": {
   "argv": [
    "/usr/bin/python3",
    "-m",
    "ipykernel",
    "--HistoryManager.enabled=False",
    "--matplotlib=inline",
    "-c",
    "%config InlineBackend.figure_formats = set(['retina'])\nimport matplotlib; matplotlib.rcParams['figure.figsize'] = (12, 7)",
    "-f",
    "{connection_file}"
   ],
   "display_name": "Python 3 (system-wide)",
   "env": {},
   "language": "python",
   "metadata": {
    "cocalc": {
     "description": "Python 3 programming language",
     "priority": 100,
     "url": "https://www.python.org/"
    }
   },
   "name": "python3",
   "resource_dir": "/ext/jupyter/kernels/python3"
  },
  "language_info": {
   "codemirror_mode": {
    "name": "ipython",
    "version": 3
   },
   "file_extension": ".py",
   "mimetype": "text/x-python",
   "name": "python",
   "nbconvert_exporter": "python",
   "pygments_lexer": "ipython3",
   "version": "3.11.8"
  }
 },
 "nbformat": 4,
 "nbformat_minor": 4
}
