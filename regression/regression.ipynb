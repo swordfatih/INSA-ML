{
 "cells": [
  {
   "cell_type": "markdown",
   "metadata": {},
   "source": [
    "# La ultima Poutraaaaaaaaaaaaaa"
   ]
  },
  {
   "cell_type": "code",
   "execution_count": null,
   "metadata": {},
   "outputs": [],
   "source": [
    "import csv\n",
    "\n",
    "with open(\"dataset/train.csv\") as file:\n",
    "  header_and_data = list(csv.reader(file, delimiter=','))\n",
    "\n",
    "header = header_and_data[0]\n",
    "data = header_and_data[1:]\n",
    "\n",
    "print(data)"
   ]
  },
  {
   "cell_type": "code",
   "execution_count": 3,
   "metadata": {},
   "outputs": [
    {
     "name": "stdout",
     "output_type": "stream",
     "text": [
      "5\n",
      "7\n",
      "Yellow World\n",
      "Coucou de la Poutraaa \n"
     ]
    }
   ],
   "source": [
    "print(5)\n",
    "\n",
    "print(7)\n",
    "\n",
    "print(\"Yellow World\")\n",
    "\n",
    "print(\"Coucou de la Poutraaa \")\n",
    "\n",
    "print(\"🐍🔥\")"
   ]
  }
 ],
 "metadata": {
  "kernelspec": {
   "display_name": "Python 3",
   "language": "python",
   "name": "python3"
  },
  "language_info": {
   "codemirror_mode": {
    "name": "ipython",
    "version": 3
   },
   "file_extension": ".py",
   "mimetype": "text/x-python",
   "name": "python",
   "nbconvert_exporter": "python",
   "pygments_lexer": "ipython3",
   "version": "3.11.3"
  }
 },
 "nbformat": 4,
 "nbformat_minor": 2
}
