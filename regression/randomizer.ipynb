{
 "cells": [
  {
   "cell_type": "code",
   "execution_count": null,
   "metadata": {},
   "outputs": [],
   "source": [
    "randomizer = RandomizedSearchCV(\n",
    "    estimator=pipeline,\n",
    "    param_distributions=param_grid,\n",
    "    cv=3,                                           # Trois validations croisées pour déterminer les meilleures hyper paramètres\n",
    "    n_iter=5,\n",
    "    scoring='neg_root_mean_squared_error',\n",
    "    n_jobs=-1,\n",
    "    verbose=5,\n",
    "    return_train_score=True,\n",
    "    random_state=42\n",
    ")\n",
    "\n",
    "randomizer.fit(x_train, y_train)\n",
    "\n",
    "print(randomizer.best_params_)\n",
    "\n",
    "for param in randomizer.best_params_:\n",
    "    setattr(regressor, param, randomizer.best_params_[param])"
   ]
  }
 ],
 "metadata": {
  "language_info": {
   "name": "python"
  }
 },
 "nbformat": 4,
 "nbformat_minor": 2
}
