{
 "cells": [
  {
   "cell_type": "markdown",
   "metadata": {},
   "source": [
    "### Validation"
   ]
  },
  {
   "cell_type": "code",
   "execution_count": null,
   "metadata": {},
   "outputs": [],
   "source": [
    "def validation(model, nb_validate):    \n",
    "    cv_results = cross_validate(\n",
    "        model, data, target, cv=nb_validate, return_estimator=True,           #nb_validate validations croisées\n",
    "        return_train_score=True, scoring=\"neg_mean_squared_error\"\n",
    "    )\n",
    "    \n",
    "    scores_train=-cv_results[\"train_score\"]\n",
    "    scores_test=-cv_results[\"test_score\"]\n",
    "    print(f\"Erreur quadratique moyenne du modèle de régression linéaire sur les données d'entrainement:\\n\"\n",
    "        f\"{scores_train.mean():.3f} ± {scores_train.std():.3f}\")\n",
    "\n",
    "    print(f\"Erreur quadratique moyenne du modèle de régression linéaire sur les données de test:\\n\"\n",
    "        f\"{scores_test.mean():.3f} ± {scores_test.std():.3f}\")  "
   ]
  },
  {
   "cell_type": "code",
   "execution_count": 1,
   "metadata": {},
   "outputs": [
    {
     "ename": "NameError",
     "evalue": "name 'validation' is not defined",
     "output_type": "error",
     "traceback": [
      "\u001b[1;31m---------------------------------------------------------------------------\u001b[0m",
      "\u001b[1;31mNameError\u001b[0m                                 Traceback (most recent call last)",
      "Cell \u001b[1;32mIn[1], line 1\u001b[0m\n\u001b[1;32m----> 1\u001b[0m \u001b[43mvalidation\u001b[49m(regressor, \u001b[38;5;241m3\u001b[39m)\n",
      "\u001b[1;31mNameError\u001b[0m: name 'validation' is not defined"
     ]
    }
   ],
   "source": [
    "validation(pipeline, 3)"
   ]
  }
 ],
 "metadata": {
  "kernelspec": {
   "display_name": "Python 3",
   "language": "python",
   "name": "python3"
  },
  "language_info": {
   "codemirror_mode": {
    "name": "ipython",
    "version": 3
   },
   "file_extension": ".py",
   "mimetype": "text/x-python",
   "name": "python",
   "nbconvert_exporter": "python",
   "pygments_lexer": "ipython3",
   "version": "3.11.3"
  }
 },
 "nbformat": 4,
 "nbformat_minor": 2
}
