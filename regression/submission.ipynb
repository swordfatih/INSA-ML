{
 "cells": [
  {
   "cell_type": "code",
   "execution_count": null,
   "metadata": {},
   "outputs": [],
   "source": [
    "def preprocess(df_test):\n",
    "    is_empty = (df_test['hc'].isnull() & df_test['hcnox'].notnull() & df_test['nox'].notnull())\n",
    "\n",
    "    # Remplir les valeurs manquantes dans \"hcnox\" avec la somme de \"hc\" et \"nox\"\n",
    "    df_test.loc[is_empty,'hc'] = df_test.loc[is_empty,'hcnox'] - df_test.loc[is_empty,'nox']\n",
    "    df_test = df_test.drop(columns=[\"id\",\"hcnox\",\"model\"])\n",
    "\n",
    "    df_test[['gearbox', 'ratio']] = df_test[\"grbx_type_ratios\"].str.split(' ', n=1, expand=True)\n",
    "    df_test['ratio'] = df_test['ratio'].replace({'.': '0'})                                          #Remplacer les points par zéro\n",
    "    df_test['ratio'] = pd.to_numeric(df_test['ratio'], errors='coerce').fillna(0)\n",
    "    df_test = df_test.drop(columns=\"grbx_type_ratios\")\n",
    "\n",
    "    is_not_abundant = ~df_test[\"brand\"].isin([\"MERCEDES\", \"VOLKSWAGEN\"])\n",
    "    df_test.loc[is_not_abundant, \"brand\"] = \"AUTRE\"\n",
    "\n",
    "    return df_test"
   ]
  },
  {
   "cell_type": "code",
   "execution_count": null,
   "metadata": {},
   "outputs": [],
   "source": [
    "pipeline.fit(data, target)\n",
    "\n",
    "df_test_processed = preprocess(df_test)\n",
    "submissions = pipeline.predict(df_test_processed)\n",
    "\n",
    "submit = pd.DataFrame({ 'id': df_test[\"id\"], 'co2': submissions })\n",
    "submit.to_csv(\"submission.csv\", index=False)"
   ]
  }
 ],
 "metadata": {
  "language_info": {
   "name": "python"
  }
 },
 "nbformat": 4,
 "nbformat_minor": 2
}
