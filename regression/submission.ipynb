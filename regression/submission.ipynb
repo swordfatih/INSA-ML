{
 "cells": [
  {
   "cell_type": "markdown",
   "metadata": {},
   "source": [
    "### Submission"
   ]
  },
  {
   "cell_type": "code",
   "execution_count": 1,
   "metadata": {},
   "outputs": [],
   "source": [
    "def preprocess(df_test):\n",
    "    is_empty = (df_test['hc'].isnull() & df_test['hcnox'].notnull() & df_test['nox'].notnull())\n",
    "\n",
    "    # Remplir les valeurs manquantes dans \"hcnox\" avec la somme de \"hc\" et \"nox\"\n",
    "    df_test.loc[is_empty,'hc'] = df_test.loc[is_empty,'hcnox'] - df_test.loc[is_empty,'nox']\n",
    "    df_test = df_test.drop(columns=[\"id\",\"hcnox\",\"model\"])\n",
    "\n",
    "    df_test[['gearbox', 'ratio']] = df_test[\"grbx_type_ratios\"].str.split(' ', n=1, expand=True)\n",
    "    df_test['ratio'] = df_test['ratio'].replace({'.': '0'})                                          #Remplacer les points par zéro\n",
    "    df_test['ratio'] = pd.to_numeric(df_test['ratio'], errors='coerce').fillna(0)\n",
    "    df_test = df_test.drop(columns=\"grbx_type_ratios\")\n",
    "\n",
    "    is_not_abundant = ~df_test[\"brand\"].isin([\"MERCEDES\", \"VOLKSWAGEN\"])\n",
    "    df_test.loc[is_not_abundant, \"brand\"] = \"AUTRE\"\n",
    "\n",
    "    return df_test"
   ]
  },
  {
   "cell_type": "code",
   "execution_count": 2,
   "metadata": {},
   "outputs": [
    {
     "ename": "NameError",
     "evalue": "name 'pipeline' is not defined",
     "output_type": "error",
     "traceback": [
      "\u001b[1;31m---------------------------------------------------------------------------\u001b[0m",
      "\u001b[1;31mNameError\u001b[0m                                 Traceback (most recent call last)",
      "Cell \u001b[1;32mIn[2], line 1\u001b[0m\n\u001b[1;32m----> 1\u001b[0m \u001b[43mpipeline\u001b[49m\u001b[38;5;241m.\u001b[39mfit(data, target)\n\u001b[0;32m      3\u001b[0m df_test_processed \u001b[38;5;241m=\u001b[39m preprocess(df_test)\n\u001b[0;32m      4\u001b[0m submissions \u001b[38;5;241m=\u001b[39m pipeline\u001b[38;5;241m.\u001b[39mpredict(df_test_processed)\n",
      "\u001b[1;31mNameError\u001b[0m: name 'pipeline' is not defined"
     ]
    }
   ],
   "source": [
    "pipeline.fit(data, target)\n",
    "\n",
    "df_test_processed = preprocess(df_test)\n",
    "submissions = pipeline.predict(df_test_processed)\n",
    "\n",
    "submit = pd.DataFrame({ 'id': df_test[\"id\"], 'co2': submissions })\n",
    "submit.to_csv(\"submission.csv\", index=False)"
   ]
  }
 ],
 "metadata": {
  "kernelspec": {
   "display_name": "Python 3",
   "language": "python",
   "name": "python3"
  },
  "language_info": {
   "codemirror_mode": {
    "name": "ipython",
    "version": 3
   },
   "file_extension": ".py",
   "mimetype": "text/x-python",
   "name": "python",
   "nbconvert_exporter": "python",
   "pygments_lexer": "ipython3",
   "version": "3.11.3"
  }
 },
 "nbformat": 4,
 "nbformat_minor": 2
}
