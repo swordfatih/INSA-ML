{
 "cells": [
  {
   "cell_type": "markdown",
   "metadata": {},
   "source": [
    "## Méthode 3 - K-Nearest-Neighbors"
   ]
  },
  {
   "cell_type": "code",
   "execution_count": null,
   "metadata": {},
   "outputs": [
    {
     "name": "stdout",
     "output_type": "stream",
     "text": [
      "Erreur quadratique moyenne du modèle de régression linéaire sur les données d'entrainement:\n",
      "0.206 ± 0.001\n",
      "Erreur quadratique moyenne du modèle de régression linéaire sur les données de test:\n",
      "0.628 ± 0.089\n"
     ]
    }
   ],
   "source": [
    "from sklearn.linear_model import LinearRegression\n",
    "model2 = make_pipeline(preprocessors, LinearRegression())\n",
    "cv_results2 = cross_validate(\n",
    "    model2, data, target, cv=2, return_estimator=True,\n",
    "    return_train_score=True, scoring=\"neg_mean_squared_error\"\n",
    ")\n",
    "scores_train2=-cv_results2[\"train_score\"]\n",
    "scores_test2=-cv_results2[\"test_score\"]\n",
    "\n",
    "print(f\"Erreur quadratique moyenne du modèle de régression linéaire sur les données d'entrainement:\\n\"\n",
    "      f\"{scores_train2.mean():.3f} ± {scores_train2.std():.3f}\")\n",
    "\n",
    "print(f\"Erreur quadratique moyenne du modèle de régression linéaire sur les données de test:\\n\"\n",
    "      f\"{scores_test2.mean():.3f} ± {scores_test2.std():.3f}\")\n",
    "#ExtraTreesRegressor(n_estimators=10, max_features=32, random_state=0),"
   ]
  },
  {
   "cell_type": "code",
   "execution_count": null,
   "metadata": {},
   "outputs": [
    {
     "name": "stdout",
     "output_type": "stream",
     "text": [
      "Erreur quadratique moyenne du modèle de régression linéaire sur les données d'entrainement:\n",
      "0.005 ± 0.000\n",
      "Erreur quadratique moyenne du modèle de régression linéaire sur les données de test:\n",
      "1.760 ± 0.431\n"
     ]
    }
   ],
   "source": [
    "model3 = make_pipeline(preprocessors, KNeighborsRegressor(n_neighbors=5,weights=\"distance\",p=1))\n",
    "cv_results3 = cross_validate(\n",
    "    model3, data, target, cv=2, return_estimator=True,\n",
    "    return_train_score=True, scoring=\"neg_mean_squared_error\"\n",
    ")\n",
    "\n",
    "scores_train3=-cv_results3[\"train_score\"]\n",
    "scores_test3=-cv_results3[\"test_score\"]\n",
    "\n",
    "print(f\"Erreur quadratique moyenne du modèle de régression linéaire sur les données d'entrainement:\\n\"\n",
    "      f\"{scores_train3.mean():.3f} ± {scores_train3.std():.3f}\")\n",
    "\n",
    "print(f\"Erreur quadratique moyenne du modèle de régression linéaire sur les données de test:\\n\"\n",
    "      f\"{scores_test3.mean():.3f} ± {scores_test3.std():.3f}\")"
   ]
  },
  {
   "cell_type": "code",
   "execution_count": null,
   "metadata": {},
   "outputs": [
    {
     "name": "stdout",
     "output_type": "stream",
     "text": [
      "Erreur quadratique moyenne du modèle de régression linéaire sur les données d'entrainement:\n",
      "4.937 ± 0.449\n",
      "Erreur quadratique moyenne du modèle de régression linéaire sur les données de test:\n",
      "10.236 ± 1.854\n"
     ]
    }
   ],
   "source": [
    "from sklearn.ensemble import GradientBoostingRegressor\n",
    "model5 = make_pipeline(preprocessors, GradientBoostingRegressor(n_estimators=1000, max_features=20))\n",
    "cv_results5 = cross_validate(\n",
    "    model5, data, target, cv=2, return_estimator=True,\n",
    "    return_train_score=True, scoring=\"neg_mean_squared_error\"\n",
    ")\n",
    "\n",
    "scores_train5=-cv_results5[\"train_score\"]\n",
    "scores_test5=-cv_results5[\"test_score\"]\n",
    "\n",
    "print(f\"Erreur quadratique moyenne du modèle de régression linéaire sur les données d'entrainement:\\n\"\n",
    "      f\"{scores_train5.mean():.3f} ± {scores_train5.std():.3f}\")\n",
    "\n",
    "print(f\"Erreur quadratique moyenne du modèle de régression linéaire sur les données de test:\\n\"\n",
    "      f\"{scores_test5.mean():.3f} ± {scores_test5.std():.3f}\")\n"
   ]
  },
  {
   "cell_type": "code",
   "execution_count": null,
   "metadata": {},
   "outputs": [],
   "source": [
    "from sklearn.ensemble import StackingRegressor\n",
    "from sklearn.ensemble import VotingRegressor\n",
    " \n",
    "#reg = StackingRegressor(estimators=RidgeCV(alphas=alphas,cv=2),final_estimator=KNeighborsRegressor(n_neighbors=20,weights=\"distance\",p=1))\n",
    "r1 = RidgeCV(alphas=alphas,cv=2)\n",
    "r2 = KNeighborsRegressor(n_neighbors=20,weights=\"distance\",p=1)\n",
    "model4 = make_pipeline(preprocessors,VotingRegressor(estimators=[('lr',r1),('rf',r2)]))"
   ]
  },
  {
   "cell_type": "code",
   "execution_count": null,
   "metadata": {},
   "outputs": [
    {
     "name": "stdout",
     "output_type": "stream",
     "text": [
      "Erreur quadratique moyenne du modèle de régression linéaire sur les données d'entrainement:\n",
      "0.064 ± 0.000\n",
      "Erreur quadratique moyenne du modèle de régression linéaire sur les données de test:\n",
      "0.896 ± 0.103\n"
     ]
    }
   ],
   "source": [
    "cv_results4 = cross_validate(\n",
    "    model4, data, target, cv=2, return_estimator=True,\n",
    "    return_train_score=True, scoring=\"neg_mean_squared_error\"\n",
    ")\n",
    "\n",
    "scores_train4=-cv_results4[\"train_score\"]\n",
    "scores_test4=-cv_results4[\"test_score\"]\n",
    "\n",
    "print(f\"Erreur quadratique moyenne du modèle de régression linéaire sur les données d'entrainement:\\n\"\n",
    "      f\"{scores_train4.mean():.3f} ± {scores_train4.std():.3f}\")\n",
    "\n",
    "print(f\"Erreur quadratique moyenne du modèle de régression linéaire sur les données de test:\\n\"\n",
    "      f\"{scores_test4.mean():.3f} ± {scores_test4.std():.3f}\")"
   ]
  }
 ],
 "metadata": {
  "kernelspec": {
   "argv": [
    "/usr/bin/python3",
    "-m",
    "ipykernel",
    "--HistoryManager.enabled=False",
    "--matplotlib=inline",
    "-c",
    "%config InlineBackend.figure_formats = set(['retina'])\nimport matplotlib; matplotlib.rcParams['figure.figsize'] = (12, 7)",
    "-f",
    "{connection_file}"
   ],
   "display_name": "Python 3 (system-wide)",
   "env": {},
   "language": "python",
   "metadata": {
    "cocalc": {
     "description": "Python 3 programming language",
     "priority": 100,
     "url": "https://www.python.org/"
    }
   },
   "name": "python3",
   "resource_dir": "/ext/jupyter/kernels/python3"
  },
  "language_info": {
   "codemirror_mode": {
    "name": "ipython",
    "version": 3
   },
   "file_extension": ".py",
   "mimetype": "text/x-python",
   "name": "python",
   "nbconvert_exporter": "python",
   "pygments_lexer": "ipython3",
   "version": "3.11.3"
  }
 },
 "nbformat": 4,
 "nbformat_minor": 4
}
