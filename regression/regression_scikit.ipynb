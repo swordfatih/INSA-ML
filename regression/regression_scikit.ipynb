{
 "cells": [
  {
   "cell_type": "markdown",
   "metadata": {
    "collapsed": false
   },
   "source": [
    "# Régression\n",
    "\n",
    "## Objectif\n",
    "\n",
    "Dans cette partie \"Régression\", on cherche à prédire les émissions de CO2 de voitures, en se basant sur leurs caractéristiques \\(poids, carburant utilisé, etc\\). L'objectif est de minimiser la moyenne des erreurs absolues entre les valeurs prédites et les valeurs réelles.\n",
    "\n",
    "## Traitement des données\n",
    "\n",
    "### Importation des dépendances\n",
    "\n",
    "Nous importons les dépendances python en début de fichier pour faciliter leur installation."
   ]
  },
  {
   "cell_type": "markdown",
   "metadata": {},
   "source": [
    "# Regréssion avec Scikit learn\n",
    "\n",
    "Dans cette partie, nous allons reprendre notre reégrression linéaire mais avec la bibliothèque Scikit-learn, qui propose des modèles très interessants"
   ]
  },
  {
   "cell_type": "code",
   "execution_count": 1,
   "metadata": {},
   "outputs": [],
   "source": [
    "from sklearn.preprocessing import StandardScaler\n",
    "from sklearn.linear_model import LogisticRegression\n",
    "from sklearn.pipeline import make_pipeline\n",
    "from sklearn.model_selection import cross_validate\n",
    "from sklearn.preprocessing import OneHotEncoder\n",
    "from sklearn.compose import ColumnTransformer\n",
    "from sklearn.compose import make_column_selector as selector\n",
    "from sklearn.linear_model import RidgeCV\n",
    "from sklearn.neighbors import KNeighborsRegressor\n",
    "from sklearn.ensemble import RandomForestRegressor\n",
    "from pandas.plotting import scatter_matrix\n",
    "import matplotlib.pyplot as plt\n",
    "from sklearn.ensemble import AdaBoostRegressor\n",
    "from sklearn.model_selection import RandomizedSearchCV\n",
    "from sklearn.pipeline import Pipeline\n",
    "from sklearn.impute import SimpleImputer\n",
    "from sklearn.model_selection import train_test_split\n",
    "from sklearn.metrics import mean_absolute_error\n",
    "import pandas as pd\n",
    "import sklearn"
   ]
  },
  {
   "cell_type": "markdown",
   "metadata": {},
   "source": [
    "## Importation des données"
   ]
  },
  {
   "cell_type": "code",
   "execution_count": 2,
   "metadata": {},
   "outputs": [],
   "source": [
    "df_train = pd.read_csv(\"dataset/train.csv\")\n",
    "df_test = pd.read_csv(\"dataset/test.csv\")"
   ]
  },
  {
   "cell_type": "markdown",
   "metadata": {},
   "source": [
    "On supprime la colonne \"id\". On sépare la cible des autres variables"
   ]
  },
  {
   "cell_type": "code",
   "execution_count": 3,
   "metadata": {},
   "outputs": [],
   "source": [
    "target_name = \"co2\"\n",
    "target, data = df_train[target_name] , df_train.drop(columns=[target_name,\"id\"])   #On sépare la colonne target des autres colonnes"
   ]
  },
  {
   "cell_type": "markdown",
   "metadata": {},
   "source": [
    "## Vérifions les valeurs nulles\n",
    "\n",
    "Beaucoup de valeurs nulles dans les colonnes hc, nox, hcnox"
   ]
  },
  {
   "cell_type": "code",
   "execution_count": 61,
   "metadata": {},
   "outputs": [
    {
     "data": {
      "text/plain": [
       "brand                   0\n",
       "model                   0\n",
       "car_class               0\n",
       "range                   0\n",
       "fuel_type               0\n",
       "hybrid                  0\n",
       "max_power               0\n",
       "grbx_type_ratios        0\n",
       "weight_min              0\n",
       "weight_max              0\n",
       "urb_cons                6\n",
       "exturb_cons             6\n",
       "overall_cons            0\n",
       "co                     86\n",
       "hc                  33890\n",
       "nox                    86\n",
       "hcnox                7416\n",
       "ptcl                 1965\n",
       "dtype: int64"
      ]
     },
     "execution_count": 61,
     "metadata": {},
     "output_type": "execute_result"
    }
   ],
   "source": [
    "data.isna().sum()"
   ]
  },
  {
   "cell_type": "markdown",
   "metadata": {},
   "source": [
    "## Parcours des données"
   ]
  },
  {
   "cell_type": "code",
   "execution_count": 62,
   "metadata": {},
   "outputs": [
    {
     "data": {
      "text/html": [
       "<div>\n",
       "<style scoped>\n",
       "    .dataframe tbody tr th:only-of-type {\n",
       "        vertical-align: middle;\n",
       "    }\n",
       "\n",
       "    .dataframe tbody tr th {\n",
       "        vertical-align: top;\n",
       "    }\n",
       "\n",
       "    .dataframe thead th {\n",
       "        text-align: right;\n",
       "    }\n",
       "</style>\n",
       "<table border=\"1\" class=\"dataframe\">\n",
       "  <thead>\n",
       "    <tr style=\"text-align: right;\">\n",
       "      <th></th>\n",
       "      <th>brand</th>\n",
       "      <th>model</th>\n",
       "      <th>car_class</th>\n",
       "      <th>range</th>\n",
       "      <th>fuel_type</th>\n",
       "      <th>hybrid</th>\n",
       "      <th>max_power</th>\n",
       "      <th>grbx_type_ratios</th>\n",
       "      <th>weight_min</th>\n",
       "      <th>weight_max</th>\n",
       "      <th>urb_cons</th>\n",
       "      <th>exturb_cons</th>\n",
       "      <th>overall_cons</th>\n",
       "      <th>co</th>\n",
       "      <th>hc</th>\n",
       "      <th>nox</th>\n",
       "      <th>hcnox</th>\n",
       "      <th>ptcl</th>\n",
       "    </tr>\n",
       "  </thead>\n",
       "  <tbody>\n",
       "    <tr>\n",
       "      <th>0</th>\n",
       "      <td>MERCEDES</td>\n",
       "      <td>COMBI 110 CDI</td>\n",
       "      <td>MINIBUS</td>\n",
       "      <td>MOY-INFER</td>\n",
       "      <td>GO</td>\n",
       "      <td>non</td>\n",
       "      <td>70.0</td>\n",
       "      <td>M 6</td>\n",
       "      <td>1976</td>\n",
       "      <td>2075</td>\n",
       "      <td>9.1</td>\n",
       "      <td>6.4</td>\n",
       "      <td>7.4</td>\n",
       "      <td>0.083</td>\n",
       "      <td>NaN</td>\n",
       "      <td>0.229</td>\n",
       "      <td>0.250</td>\n",
       "      <td>0.001</td>\n",
       "    </tr>\n",
       "    <tr>\n",
       "      <th>1</th>\n",
       "      <td>MERCEDES</td>\n",
       "      <td>VIANO 2.0 CDI</td>\n",
       "      <td>MINIBUS</td>\n",
       "      <td>MOY-SUPER</td>\n",
       "      <td>GO</td>\n",
       "      <td>non</td>\n",
       "      <td>100.0</td>\n",
       "      <td>A 5</td>\n",
       "      <td>2186</td>\n",
       "      <td>2355</td>\n",
       "      <td>10.2</td>\n",
       "      <td>7.0</td>\n",
       "      <td>8.2</td>\n",
       "      <td>0.078</td>\n",
       "      <td>NaN</td>\n",
       "      <td>0.224</td>\n",
       "      <td>0.233</td>\n",
       "      <td>0.001</td>\n",
       "    </tr>\n",
       "    <tr>\n",
       "      <th>2</th>\n",
       "      <td>MERCEDES</td>\n",
       "      <td>SPRINTER COMBI 319 CDI</td>\n",
       "      <td>MINIBUS</td>\n",
       "      <td>MOY-INFER</td>\n",
       "      <td>GO</td>\n",
       "      <td>non</td>\n",
       "      <td>140.0</td>\n",
       "      <td>A 5</td>\n",
       "      <td>2586</td>\n",
       "      <td>2869</td>\n",
       "      <td>12.5</td>\n",
       "      <td>9.0</td>\n",
       "      <td>10.3</td>\n",
       "      <td>0.067</td>\n",
       "      <td>0.014</td>\n",
       "      <td>1.846</td>\n",
       "      <td>NaN</td>\n",
       "      <td>0.002</td>\n",
       "    </tr>\n",
       "    <tr>\n",
       "      <th>3</th>\n",
       "      <td>RENAULT</td>\n",
       "      <td>MEGANE Coupé EnergyTCe (115ch) eco2</td>\n",
       "      <td>COUPE</td>\n",
       "      <td>MOY-INFER</td>\n",
       "      <td>ES</td>\n",
       "      <td>non</td>\n",
       "      <td>85.0</td>\n",
       "      <td>M 6</td>\n",
       "      <td>1280</td>\n",
       "      <td>1280</td>\n",
       "      <td>6.4</td>\n",
       "      <td>4.6</td>\n",
       "      <td>5.3</td>\n",
       "      <td>0.167</td>\n",
       "      <td>0.039</td>\n",
       "      <td>0.039</td>\n",
       "      <td>NaN</td>\n",
       "      <td>0.001</td>\n",
       "    </tr>\n",
       "    <tr>\n",
       "      <th>4</th>\n",
       "      <td>MERCEDES</td>\n",
       "      <td>COMBI 116 CDI</td>\n",
       "      <td>MINIBUS</td>\n",
       "      <td>MOY-INFER</td>\n",
       "      <td>GO</td>\n",
       "      <td>non</td>\n",
       "      <td>120.0</td>\n",
       "      <td>A 5</td>\n",
       "      <td>2356</td>\n",
       "      <td>2450</td>\n",
       "      <td>10.1</td>\n",
       "      <td>6.9</td>\n",
       "      <td>8.1</td>\n",
       "      <td>0.042</td>\n",
       "      <td>NaN</td>\n",
       "      <td>0.190</td>\n",
       "      <td>0.201</td>\n",
       "      <td>0.001</td>\n",
       "    </tr>\n",
       "  </tbody>\n",
       "</table>\n",
       "</div>"
      ],
      "text/plain": [
       "      brand                                model car_class      range  \\\n",
       "0  MERCEDES                        COMBI 110 CDI   MINIBUS  MOY-INFER   \n",
       "1  MERCEDES                        VIANO 2.0 CDI   MINIBUS  MOY-SUPER   \n",
       "2  MERCEDES               SPRINTER COMBI 319 CDI   MINIBUS  MOY-INFER   \n",
       "3   RENAULT  MEGANE Coupé EnergyTCe (115ch) eco2     COUPE  MOY-INFER   \n",
       "4  MERCEDES                        COMBI 116 CDI   MINIBUS  MOY-INFER   \n",
       "\n",
       "  fuel_type hybrid  max_power grbx_type_ratios  weight_min  weight_max  \\\n",
       "0        GO    non       70.0              M 6        1976        2075   \n",
       "1        GO    non      100.0              A 5        2186        2355   \n",
       "2        GO    non      140.0              A 5        2586        2869   \n",
       "3        ES    non       85.0              M 6        1280        1280   \n",
       "4        GO    non      120.0              A 5        2356        2450   \n",
       "\n",
       "   urb_cons  exturb_cons  overall_cons     co     hc    nox  hcnox   ptcl  \n",
       "0       9.1          6.4           7.4  0.083    NaN  0.229  0.250  0.001  \n",
       "1      10.2          7.0           8.2  0.078    NaN  0.224  0.233  0.001  \n",
       "2      12.5          9.0          10.3  0.067  0.014  1.846    NaN  0.002  \n",
       "3       6.4          4.6           5.3  0.167  0.039  0.039    NaN  0.001  \n",
       "4      10.1          6.9           8.1  0.042    NaN  0.190  0.201  0.001  "
      ]
     },
     "execution_count": 62,
     "metadata": {},
     "output_type": "execute_result"
    }
   ],
   "source": [
    "data.head()"
   ]
  },
  {
   "cell_type": "code",
   "execution_count": 63,
   "metadata": {},
   "outputs": [
    {
     "data": {
      "text/html": [
       "<div>\n",
       "<style scoped>\n",
       "    .dataframe tbody tr th:only-of-type {\n",
       "        vertical-align: middle;\n",
       "    }\n",
       "\n",
       "    .dataframe tbody tr th {\n",
       "        vertical-align: top;\n",
       "    }\n",
       "\n",
       "    .dataframe thead th {\n",
       "        text-align: right;\n",
       "    }\n",
       "</style>\n",
       "<table border=\"1\" class=\"dataframe\">\n",
       "  <thead>\n",
       "    <tr style=\"text-align: right;\">\n",
       "      <th></th>\n",
       "      <th>max_power</th>\n",
       "      <th>weight_min</th>\n",
       "      <th>weight_max</th>\n",
       "      <th>urb_cons</th>\n",
       "      <th>exturb_cons</th>\n",
       "      <th>overall_cons</th>\n",
       "      <th>co</th>\n",
       "      <th>hc</th>\n",
       "      <th>nox</th>\n",
       "      <th>hcnox</th>\n",
       "      <th>ptcl</th>\n",
       "    </tr>\n",
       "  </thead>\n",
       "  <tbody>\n",
       "    <tr>\n",
       "      <th>count</th>\n",
       "      <td>41257.000000</td>\n",
       "      <td>41257.000000</td>\n",
       "      <td>41257.000000</td>\n",
       "      <td>41251.000000</td>\n",
       "      <td>41251.000000</td>\n",
       "      <td>41257.000000</td>\n",
       "      <td>41171.000000</td>\n",
       "      <td>7367.000000</td>\n",
       "      <td>41171.000000</td>\n",
       "      <td>33841.000000</td>\n",
       "      <td>39292.000000</td>\n",
       "    </tr>\n",
       "    <tr>\n",
       "      <th>mean</th>\n",
       "      <td>118.982960</td>\n",
       "      <td>2102.832901</td>\n",
       "      <td>2342.408609</td>\n",
       "      <td>9.570216</td>\n",
       "      <td>6.728448</td>\n",
       "      <td>7.761779</td>\n",
       "      <td>0.181025</td>\n",
       "      <td>0.026455</td>\n",
       "      <td>0.300336</td>\n",
       "      <td>0.233684</td>\n",
       "      <td>0.000896</td>\n",
       "    </tr>\n",
       "    <tr>\n",
       "      <th>std</th>\n",
       "      <td>45.282568</td>\n",
       "      <td>293.810948</td>\n",
       "      <td>423.303792</td>\n",
       "      <td>2.079990</td>\n",
       "      <td>1.035866</td>\n",
       "      <td>1.378721</td>\n",
       "      <td>0.145250</td>\n",
       "      <td>0.019502</td>\n",
       "      <td>0.418976</td>\n",
       "      <td>0.037348</td>\n",
       "      <td>0.000994</td>\n",
       "    </tr>\n",
       "    <tr>\n",
       "      <th>min</th>\n",
       "      <td>28.000000</td>\n",
       "      <td>825.000000</td>\n",
       "      <td>825.000000</td>\n",
       "      <td>0.000000</td>\n",
       "      <td>2.800000</td>\n",
       "      <td>0.600000</td>\n",
       "      <td>0.005000</td>\n",
       "      <td>0.000000</td>\n",
       "      <td>0.000000</td>\n",
       "      <td>0.000000</td>\n",
       "      <td>0.000000</td>\n",
       "    </tr>\n",
       "    <tr>\n",
       "      <th>25%</th>\n",
       "      <td>100.000000</td>\n",
       "      <td>1982.000000</td>\n",
       "      <td>2075.000000</td>\n",
       "      <td>8.800000</td>\n",
       "      <td>6.500000</td>\n",
       "      <td>7.300000</td>\n",
       "      <td>0.061000</td>\n",
       "      <td>0.008000</td>\n",
       "      <td>0.197000</td>\n",
       "      <td>0.216000</td>\n",
       "      <td>0.000000</td>\n",
       "    </tr>\n",
       "    <tr>\n",
       "      <th>50%</th>\n",
       "      <td>120.000000</td>\n",
       "      <td>2076.000000</td>\n",
       "      <td>2355.000000</td>\n",
       "      <td>9.400000</td>\n",
       "      <td>6.900000</td>\n",
       "      <td>7.800000</td>\n",
       "      <td>0.137000</td>\n",
       "      <td>0.029000</td>\n",
       "      <td>0.214000</td>\n",
       "      <td>0.239000</td>\n",
       "      <td>0.001000</td>\n",
       "    </tr>\n",
       "    <tr>\n",
       "      <th>75%</th>\n",
       "      <td>120.000000</td>\n",
       "      <td>2246.000000</td>\n",
       "      <td>2709.000000</td>\n",
       "      <td>10.200000</td>\n",
       "      <td>7.200000</td>\n",
       "      <td>8.300000</td>\n",
       "      <td>0.297000</td>\n",
       "      <td>0.042000</td>\n",
       "      <td>0.228000</td>\n",
       "      <td>0.253000</td>\n",
       "      <td>0.001000</td>\n",
       "    </tr>\n",
       "    <tr>\n",
       "      <th>max</th>\n",
       "      <td>585.000000</td>\n",
       "      <td>2760.000000</td>\n",
       "      <td>3094.000000</td>\n",
       "      <td>41.099998</td>\n",
       "      <td>14.900000</td>\n",
       "      <td>24.500000</td>\n",
       "      <td>0.968000</td>\n",
       "      <td>0.510000</td>\n",
       "      <td>1.846000</td>\n",
       "      <td>0.570000</td>\n",
       "      <td>0.023000</td>\n",
       "    </tr>\n",
       "  </tbody>\n",
       "</table>\n",
       "</div>"
      ],
      "text/plain": [
       "          max_power    weight_min    weight_max      urb_cons   exturb_cons  \\\n",
       "count  41257.000000  41257.000000  41257.000000  41251.000000  41251.000000   \n",
       "mean     118.982960   2102.832901   2342.408609      9.570216      6.728448   \n",
       "std       45.282568    293.810948    423.303792      2.079990      1.035866   \n",
       "min       28.000000    825.000000    825.000000      0.000000      2.800000   \n",
       "25%      100.000000   1982.000000   2075.000000      8.800000      6.500000   \n",
       "50%      120.000000   2076.000000   2355.000000      9.400000      6.900000   \n",
       "75%      120.000000   2246.000000   2709.000000     10.200000      7.200000   \n",
       "max      585.000000   2760.000000   3094.000000     41.099998     14.900000   \n",
       "\n",
       "       overall_cons            co           hc           nox         hcnox  \\\n",
       "count  41257.000000  41171.000000  7367.000000  41171.000000  33841.000000   \n",
       "mean       7.761779      0.181025     0.026455      0.300336      0.233684   \n",
       "std        1.378721      0.145250     0.019502      0.418976      0.037348   \n",
       "min        0.600000      0.005000     0.000000      0.000000      0.000000   \n",
       "25%        7.300000      0.061000     0.008000      0.197000      0.216000   \n",
       "50%        7.800000      0.137000     0.029000      0.214000      0.239000   \n",
       "75%        8.300000      0.297000     0.042000      0.228000      0.253000   \n",
       "max       24.500000      0.968000     0.510000      1.846000      0.570000   \n",
       "\n",
       "               ptcl  \n",
       "count  39292.000000  \n",
       "mean       0.000896  \n",
       "std        0.000994  \n",
       "min        0.000000  \n",
       "25%        0.000000  \n",
       "50%        0.001000  \n",
       "75%        0.001000  \n",
       "max        0.023000  "
      ]
     },
     "execution_count": 63,
     "metadata": {},
     "output_type": "execute_result"
    }
   ],
   "source": [
    "data.describe()"
   ]
  },
  {
   "cell_type": "markdown",
   "metadata": {},
   "source": [
    "## Transformation des Données"
   ]
  },
  {
   "cell_type": "markdown",
   "metadata": {},
   "source": [
    "----- D'après la description des données hcnox = hc +nox\n",
    "\n",
    "Ainsi, on peut donc retrouver les valeurs nulles dans la colonne hc à partir de hcnox et nox. Une fois cela fait, on supprime la colonne hcnox."
   ]
  },
  {
   "cell_type": "code",
   "execution_count": 4,
   "metadata": {},
   "outputs": [],
   "source": [
    "# Vérifier si la colonne \"hcnox\" est vide\n",
    "is_empty = (data['hc'].isnull() & data['hcnox'].notnull() & data['nox'].notnull())\n",
    "\n",
    "# Remplir les valeurs manquantes dans \"hcnox\" avec la somme de \"hc\" et \"nox\"\n",
    "data.loc[is_empty,'hc'] = data.loc[is_empty,'hcnox'] - data.loc[is_empty,'nox']\n",
    "data = data.drop(columns=[\"hcnox\"])"
   ]
  },
  {
   "cell_type": "markdown",
   "metadata": {},
   "source": [
    "---- Variable Range"
   ]
  },
  {
   "cell_type": "code",
   "execution_count": 5,
   "metadata": {},
   "outputs": [
    {
     "data": {
      "text/plain": [
       "range\n",
       "MOY-INFER         25118\n",
       "MOY-SUPER         11275\n",
       "LUXE               2677\n",
       "SUPERIEURE         1163\n",
       "INFERIEURE          800\n",
       "ECONOMIQUE          186\n",
       "MOY-INFERIEURE       38\n",
       "Name: count, dtype: int64"
      ]
     },
     "execution_count": 5,
     "metadata": {},
     "output_type": "execute_result"
    }
   ],
   "source": [
    "data[\"range\"].value_counts()"
   ]
  },
  {
   "cell_type": "markdown",
   "metadata": {},
   "source": [
    "### --- Model\n",
    "Trop de valeurs différentes. Il serait judicieux de la supprimer"
   ]
  },
  {
   "cell_type": "code",
   "execution_count": 131,
   "metadata": {},
   "outputs": [
    {
     "name": "stdout",
     "output_type": "stream",
     "text": [
      "model\n",
      "VIANO 2.2 CDI                                                  4405\n",
      "VIANO 2.0 CDI                                                  2931\n",
      "COMBI 116 CDI                                                  2847\n",
      "COMBI 113 CDI                                                  1968\n",
      "VIANO 3.0 CDI                                                  1180\n",
      "                                                               ... \n",
      "2008 1.6 e-Hdi FAP BVM6                                           1\n",
      "A6 2.0 TDI (136ch) MULTITRONIC 8                                  1\n",
      "PASSAT SW 1.6 TDI (105ch) CR FAP BMT BVM6                         1\n",
      "MULTIVAN CONFORTLINE ET HIGHLINE 2.0 TDI (180ch) BlueMotion       1\n",
      "ASX CLEARTEC 1.8 DI-D Invite / Intense / Instyle 4WD              1\n",
      "Name: count, Length: 3141, dtype: int64\n",
      "3141\n"
     ]
    }
   ],
   "source": [
    "print(data[\"model\"].value_counts())\n",
    "print(data[\"model\"].nunique())"
   ]
  },
  {
   "cell_type": "code",
   "execution_count": null,
   "metadata": {},
   "outputs": [],
   "source": [
    "data = data.drop(columns=\"model\")"
   ]
  },
  {
   "cell_type": "markdown",
   "metadata": {},
   "source": [
    "### --- Car Class\n",
    "\n",
    "Rien à faire pour cette variable à priori"
   ]
  },
  {
   "cell_type": "code",
   "execution_count": 133,
   "metadata": {},
   "outputs": [
    {
     "name": "stdout",
     "output_type": "stream",
     "text": [
      "car_class\n",
      "MINIBUS                34570\n",
      "BERLINE                 3307\n",
      "BREAK                    933\n",
      "TS TERRAINS/CHEMINS      819\n",
      "COUPE                    661\n",
      "CABRIOLET                389\n",
      "MONOSPACE COMPACT        240\n",
      "COMBISPACE               179\n",
      "MINISPACE                111\n",
      "MONOSPACE                 44\n",
      "COMBISPCACE                4\n",
      "Name: count, dtype: int64\n",
      "11\n"
     ]
    }
   ],
   "source": [
    "print(data[\"car_class\"].value_counts())\n",
    "print(data[\"car_class\"].nunique())"
   ]
  },
  {
   "cell_type": "markdown",
   "metadata": {},
   "source": [
    "### ---- Variable grbx_type_ratios\n",
    "\n",
    "Scinder la colonnne \"grbx_type_ratios\" en deux colonnes :  le Gear_box type et le nombre de ratio"
   ]
  },
  {
   "cell_type": "code",
   "execution_count": 66,
   "metadata": {},
   "outputs": [
    {
     "data": {
      "text/plain": [
       "grbx_type_ratios\n",
       "M 6    23823\n",
       "A 5    10169\n",
       "A 7     5103\n",
       "M 5      738\n",
       "A 6      647\n",
       "A 8      385\n",
       "V 0      238\n",
       "D 5       51\n",
       "A 9       27\n",
       "D 6       23\n",
       "A 4       19\n",
       "D 7       18\n",
       "M 7       13\n",
       "V .        2\n",
       "S 6        1\n",
       "Name: count, dtype: int64"
      ]
     },
     "execution_count": 66,
     "metadata": {},
     "output_type": "execute_result"
    }
   ],
   "source": [
    "data[\"grbx_type_ratios\"].value_counts()"
   ]
  },
  {
   "cell_type": "code",
   "execution_count": 115,
   "metadata": {},
   "outputs": [],
   "source": [
    "data[['gearbox', 'ratio']] = data[\"grbx_type_ratios\"].str.split(' ', n=1, expand=True)\n",
    "data['ratio'] = data['ratio'].replace({'.': '0'})                                          #Remplacer les points par zéro\n",
    "data['ratio'] = pd.to_numeric(data['ratio'], errors='coerce').fillna(0)\n",
    "data = data.drop(columns=\"grbx_type_ratios\")"
   ]
  },
  {
   "cell_type": "markdown",
   "metadata": {},
   "source": [
    "----- Variable Brand ??\n",
    "\n",
    "Beaucoup de valeurs différentes (44). On peut conserver les deux premières car elles sont les plus présentes dans le dataset"
   ]
  },
  {
   "cell_type": "code",
   "execution_count": 68,
   "metadata": {},
   "outputs": [
    {
     "name": "stdout",
     "output_type": "stream",
     "text": [
      "brand\n",
      "MERCEDES        27127\n",
      "VOLKSWAGEN      10266\n",
      "FIAT              394\n",
      "BMW               342\n",
      "OPEL              308\n",
      "LEXUS             277\n",
      "AUDI              264\n",
      "FORD              220\n",
      "NISSAN            215\n",
      "CITROEN           166\n",
      "ALFA-ROMEO        142\n",
      "PEUGEOT           125\n",
      "RENAULT           109\n",
      "TOYOTA            103\n",
      "SKODA              96\n",
      "MINI               95\n",
      "VOLVO              86\n",
      "PORSCHE            82\n",
      "SEAT               78\n",
      "CHEVROLET          61\n",
      "JEEP               60\n",
      "LAND ROVER         60\n",
      "ASTON MARTIN       55\n",
      "KIA                53\n",
      "HONDA              43\n",
      "HYUNDAI            43\n",
      "LANCIA             41\n",
      "MITSUBISHI         35\n",
      "MAZDA              31\n",
      "CADILLAC           31\n",
      "JAGUAR             29\n",
      "SMART              29\n",
      "LAMBORGHINI        26\n",
      "DACIA              22\n",
      "SUZUKI             21\n",
      "SUBARU             19\n",
      "LOTUS              18\n",
      "FERRARI            18\n",
      "MASERATI           16\n",
      "ROLLS-ROYCE        15\n",
      "BENTLEY            14\n",
      "INFINITI           12\n",
      "SSANGYONG           6\n",
      "LADA                4\n",
      "Name: count, dtype: int64\n",
      "Nombre de valeurs différentes dans la colonne Brand 44\n"
     ]
    }
   ],
   "source": [
    "print(data[\"brand\"].value_counts())\n",
    "print(f\"Nombre de valeurs différentes dans la colonne Brand {data['brand'].nunique()}\")"
   ]
  },
  {
   "cell_type": "code",
   "execution_count": 116,
   "metadata": {},
   "outputs": [],
   "source": [
    "is_not_abundant = ~data[\"brand\"].isin([\"MERCEDES\", \"VOLKSWAGEN\"])\n",
    "data.loc[is_not_abundant, \"brand\"] = \"AUTRE\""
   ]
  },
  {
   "cell_type": "markdown",
   "metadata": {},
   "source": [
    "### ---- Fuel Type\n",
    "\n",
    "Nous avons d'abord voulu fusionner GN/ES et ES/GN. Mais après des recherches, nous avons vu que c'est deux etiquetes differentes"
   ]
  },
  {
   "cell_type": "code",
   "execution_count": 6,
   "metadata": {},
   "outputs": [
    {
     "name": "stdout",
     "output_type": "stream",
     "text": [
      "fuel_type\n",
      "GO       36993\n",
      "ES        3853\n",
      "EH         233\n",
      "GH          63\n",
      "GN/ES       27\n",
      "ES/GN       23\n",
      "ES/GP       18\n",
      "GP/ES       17\n",
      "GN          15\n",
      "FE           8\n",
      "EE           6\n",
      "GL           1\n",
      "Name: count, dtype: int64\n",
      "12\n"
     ]
    }
   ],
   "source": [
    "print(data[\"fuel_type\"].value_counts())\n",
    "print(data[\"fuel_type\"].nunique())"
   ]
  },
  {
   "cell_type": "code",
   "execution_count": 70,
   "metadata": {},
   "outputs": [
    {
     "name": "stdout",
     "output_type": "stream",
     "text": [
      "brand\n",
      "MERCEDES      27127\n",
      "VOLKSWAGEN    10266\n",
      "AUTRE          3864\n",
      "Name: count, dtype: int64\n"
     ]
    }
   ],
   "source": [
    "print(data[\"brand\"].value_counts())"
   ]
  },
  {
   "cell_type": "markdown",
   "metadata": {},
   "source": [
    "### Utilisons Scikit learn pour diviser nos données"
   ]
  },
  {
   "cell_type": "code",
   "execution_count": 77,
   "metadata": {},
   "outputs": [],
   "source": [
    "x_train, x_val, y_train, y_val = train_test_split(data, target, test_size=0.2, random_state=1)\n",
    "x_train = x_train.reset_index().drop('index', axis=1)\n",
    "x_val = x_val.reset_index().drop('index', axis=1)"
   ]
  },
  {
   "cell_type": "code",
   "execution_count": 78,
   "metadata": {},
   "outputs": [
    {
     "data": {
      "text/html": [
       "<div>\n",
       "<style scoped>\n",
       "    .dataframe tbody tr th:only-of-type {\n",
       "        vertical-align: middle;\n",
       "    }\n",
       "\n",
       "    .dataframe tbody tr th {\n",
       "        vertical-align: top;\n",
       "    }\n",
       "\n",
       "    .dataframe thead th {\n",
       "        text-align: right;\n",
       "    }\n",
       "</style>\n",
       "<table border=\"1\" class=\"dataframe\">\n",
       "  <thead>\n",
       "    <tr style=\"text-align: right;\">\n",
       "      <th></th>\n",
       "      <th>brand</th>\n",
       "      <th>model</th>\n",
       "      <th>car_class</th>\n",
       "      <th>range</th>\n",
       "      <th>fuel_type</th>\n",
       "      <th>hybrid</th>\n",
       "      <th>max_power</th>\n",
       "      <th>weight_min</th>\n",
       "      <th>weight_max</th>\n",
       "      <th>urb_cons</th>\n",
       "      <th>exturb_cons</th>\n",
       "      <th>overall_cons</th>\n",
       "      <th>co</th>\n",
       "      <th>hc</th>\n",
       "      <th>nox</th>\n",
       "      <th>ptcl</th>\n",
       "      <th>gearbox</th>\n",
       "      <th>ratio</th>\n",
       "    </tr>\n",
       "  </thead>\n",
       "  <tbody>\n",
       "    <tr>\n",
       "      <th>0</th>\n",
       "      <td>MERCEDES</td>\n",
       "      <td>SPRINTER COMBI 213 CDI - 37</td>\n",
       "      <td>MINIBUS</td>\n",
       "      <td>MOY-INFER</td>\n",
       "      <td>GO</td>\n",
       "      <td>non</td>\n",
       "      <td>95.0</td>\n",
       "      <td>2076</td>\n",
       "      <td>2185</td>\n",
       "      <td>10.0</td>\n",
       "      <td>6.6</td>\n",
       "      <td>7.9</td>\n",
       "      <td>0.483</td>\n",
       "      <td>0.066</td>\n",
       "      <td>0.221</td>\n",
       "      <td>0.000</td>\n",
       "      <td>M</td>\n",
       "      <td>6</td>\n",
       "    </tr>\n",
       "    <tr>\n",
       "      <th>1</th>\n",
       "      <td>MERCEDES</td>\n",
       "      <td>SPRINTER COMBI 213 CDI - 37</td>\n",
       "      <td>MINIBUS</td>\n",
       "      <td>MOY-INFER</td>\n",
       "      <td>GO</td>\n",
       "      <td>non</td>\n",
       "      <td>95.0</td>\n",
       "      <td>2356</td>\n",
       "      <td>2585</td>\n",
       "      <td>10.1</td>\n",
       "      <td>7.4</td>\n",
       "      <td>8.4</td>\n",
       "      <td>0.100</td>\n",
       "      <td>0.006</td>\n",
       "      <td>0.247</td>\n",
       "      <td>0.001</td>\n",
       "      <td>A</td>\n",
       "      <td>7</td>\n",
       "    </tr>\n",
       "    <tr>\n",
       "      <th>2</th>\n",
       "      <td>VOLKSWAGEN</td>\n",
       "      <td>CRAFTER COMBI 35 L4H3 TDI (163ch) BlueMotion</td>\n",
       "      <td>MINIBUS</td>\n",
       "      <td>MOY-INFER</td>\n",
       "      <td>GO</td>\n",
       "      <td>non</td>\n",
       "      <td>120.0</td>\n",
       "      <td>2307</td>\n",
       "      <td>2815</td>\n",
       "      <td>8.0</td>\n",
       "      <td>6.6</td>\n",
       "      <td>7.1</td>\n",
       "      <td>0.401</td>\n",
       "      <td>0.038</td>\n",
       "      <td>0.213</td>\n",
       "      <td>0.001</td>\n",
       "      <td>M</td>\n",
       "      <td>6</td>\n",
       "    </tr>\n",
       "    <tr>\n",
       "      <th>3</th>\n",
       "      <td>MERCEDES</td>\n",
       "      <td>VIANO 2.0 CDI</td>\n",
       "      <td>MINIBUS</td>\n",
       "      <td>MOY-SUPER</td>\n",
       "      <td>GO</td>\n",
       "      <td>non</td>\n",
       "      <td>100.0</td>\n",
       "      <td>2075</td>\n",
       "      <td>2075</td>\n",
       "      <td>8.8</td>\n",
       "      <td>6.4</td>\n",
       "      <td>7.2</td>\n",
       "      <td>0.175</td>\n",
       "      <td>0.022</td>\n",
       "      <td>0.226</td>\n",
       "      <td>0.001</td>\n",
       "      <td>M</td>\n",
       "      <td>6</td>\n",
       "    </tr>\n",
       "    <tr>\n",
       "      <th>4</th>\n",
       "      <td>MERCEDES</td>\n",
       "      <td>COMBI 116 CDI</td>\n",
       "      <td>MINIBUS</td>\n",
       "      <td>MOY-INFER</td>\n",
       "      <td>GO</td>\n",
       "      <td>non</td>\n",
       "      <td>120.0</td>\n",
       "      <td>2186</td>\n",
       "      <td>2355</td>\n",
       "      <td>8.9</td>\n",
       "      <td>6.5</td>\n",
       "      <td>7.3</td>\n",
       "      <td>0.046</td>\n",
       "      <td>0.019</td>\n",
       "      <td>0.197</td>\n",
       "      <td>0.000</td>\n",
       "      <td>M</td>\n",
       "      <td>6</td>\n",
       "    </tr>\n",
       "  </tbody>\n",
       "</table>\n",
       "</div>"
      ],
      "text/plain": [
       "        brand                                         model car_class  \\\n",
       "0    MERCEDES                   SPRINTER COMBI 213 CDI - 37   MINIBUS   \n",
       "1    MERCEDES                   SPRINTER COMBI 213 CDI - 37   MINIBUS   \n",
       "2  VOLKSWAGEN  CRAFTER COMBI 35 L4H3 TDI (163ch) BlueMotion   MINIBUS   \n",
       "3    MERCEDES                                 VIANO 2.0 CDI   MINIBUS   \n",
       "4    MERCEDES                                 COMBI 116 CDI   MINIBUS   \n",
       "\n",
       "       range fuel_type hybrid  max_power  weight_min  weight_max  urb_cons  \\\n",
       "0  MOY-INFER        GO    non       95.0        2076        2185      10.0   \n",
       "1  MOY-INFER        GO    non       95.0        2356        2585      10.1   \n",
       "2  MOY-INFER        GO    non      120.0        2307        2815       8.0   \n",
       "3  MOY-SUPER        GO    non      100.0        2075        2075       8.8   \n",
       "4  MOY-INFER        GO    non      120.0        2186        2355       8.9   \n",
       "\n",
       "   exturb_cons  overall_cons     co     hc    nox   ptcl gearbox  ratio  \n",
       "0          6.6           7.9  0.483  0.066  0.221  0.000       M      6  \n",
       "1          7.4           8.4  0.100  0.006  0.247  0.001       A      7  \n",
       "2          6.6           7.1  0.401  0.038  0.213  0.001       M      6  \n",
       "3          6.4           7.2  0.175  0.022  0.226  0.001       M      6  \n",
       "4          6.5           7.3  0.046  0.019  0.197  0.000       M      6  "
      ]
     },
     "execution_count": 78,
     "metadata": {},
     "output_type": "execute_result"
    }
   ],
   "source": [
    "x_train.head()"
   ]
  },
  {
   "cell_type": "markdown",
   "metadata": {},
   "source": [
    "## Sélection des variables numériques et catégoriques"
   ]
  },
  {
   "cell_type": "code",
   "execution_count": 117,
   "metadata": {},
   "outputs": [],
   "source": [
    "numerical_columns_selector = selector(dtype_exclude=object)\n",
    "categorical_columns_selector = selector(dtype_include=object)\n",
    "\n",
    "numerical_columns = numerical_columns_selector(data)\n",
    "categorical_columns = categorical_columns_selector(data)"
   ]
  },
  {
   "cell_type": "markdown",
   "metadata": {},
   "source": [
    "## Pipeline de préprocessing"
   ]
  },
  {
   "cell_type": "code",
   "execution_count": 118,
   "metadata": {},
   "outputs": [],
   "source": [
    "categorical_preprocessor = Pipeline(steps=[\n",
    "    ('imputer', SimpleImputer(strategy='constant', fill_value='missing')),\n",
    "    ('encoder', OneHotEncoder(handle_unknown='ignore'))])\n",
    "\n",
    "# Define the preprocessing steps for numeric variables\n",
    "numerical_preprocessor = Pipeline(steps=[\n",
    "    ('imputer', SimpleImputer(strategy='mean')),\n",
    "    ('scaler', StandardScaler())])\n",
    "\n",
    "\n",
    "#Notre modèle qui est un pipeline, standarisation des données puis, regréssion logistique\n",
    "preprocessors = ColumnTransformer([\n",
    "    ('categorical preprocessing', categorical_preprocessor, categorical_columns),\n",
    "    ('numerical preprocessing', numerical_preprocessor, numerical_columns)])"
   ]
  },
  {
   "cell_type": "markdown",
   "metadata": {},
   "source": [
    "## Construction des modèles\n",
    "\n",
    "Faisons d'abord les fonctions de prédictions et de Cross Validation"
   ]
  },
  {
   "cell_type": "markdown",
   "metadata": {},
   "source": [
    "### Fonction pour le prétraitement des données de test"
   ]
  },
  {
   "cell_type": "code",
   "execution_count": 119,
   "metadata": {},
   "outputs": [],
   "source": [
    "def preprocess(df_test):\n",
    "    is_empty = (df_test['hc'].isnull() & df_test['hcnox'].notnull() & df_test['nox'].notnull())\n",
    "\n",
    "    # Remplir les valeurs manquantes dans \"hcnox\" avec la somme de \"hc\" et \"nox\"\n",
    "    df_test.loc[is_empty,'hc'] = df_test.loc[is_empty,'hcnox'] - df_test.loc[is_empty,'nox']\n",
    "    df_test = df_test.drop(columns=[\"id\",\"hcnox\",\"model\"])\n",
    "\n",
    "    df_test[['gearbox', 'ratio']] = df_test[\"grbx_type_ratios\"].str.split(' ', n=1, expand=True)\n",
    "    df_test['ratio'] = df_test['ratio'].replace({'.': '0'})                                          #Remplacer les points par zéro\n",
    "    df_test['ratio'] = pd.to_numeric(df_test['ratio'], errors='coerce').fillna(0)\n",
    "    df_test = df_test.drop(columns=\"grbx_type_ratios\")\n",
    "\n",
    "    is_not_abundant = ~df_test[\"brand\"].isin([\"MERCEDES\", \"VOLKSWAGEN\"])\n",
    "    df_test.loc[is_not_abundant, \"brand\"] = \"AUTRE\"\n",
    "\n",
    "    return df_test"
   ]
  },
  {
   "cell_type": "markdown",
   "metadata": {},
   "source": [
    "### Fonction pour avoir les prédictions"
   ]
  },
  {
   "cell_type": "code",
   "execution_count": 91,
   "metadata": {},
   "outputs": [],
   "source": [
    "def get_prediction(X_val, y_val, model):\n",
    "    pred = model.predict(X_val) # Your code here\n",
    "    \n",
    "    # Calculate MAE\n",
    "    mae = mean_absolute_error(y_val, pred)\n",
    "\n",
    "    # Uncomment to print MAE\n",
    "    print(\"Mean Absolute Error:\" , mae)"
   ]
  },
  {
   "cell_type": "markdown",
   "metadata": {},
   "source": [
    "### Fonction pour la Cross Validation"
   ]
  },
  {
   "cell_type": "code",
   "execution_count": 92,
   "metadata": {},
   "outputs": [],
   "source": [
    "def validation(model,nb_validate):    \n",
    "    cv_results = cross_validate(\n",
    "        model, data, target, cv=nb_validate, return_estimator=True,           #nb_validate validations croisées\n",
    "        return_train_score=True, scoring=\"neg_mean_squared_error\"\n",
    "    )\n",
    "    scores_train=-cv_results[\"train_score\"]\n",
    "    scores_test=-cv_results[\"test_score\"]\n",
    "    print(f\"Erreur quadratique moyenne du modèle de régression linéaire sur les données d'entrainement:\\n\"\n",
    "        f\"{scores_train.mean():.3f} ± {scores_train.std():.3f}\")\n",
    "\n",
    "    print(f\"Erreur quadratique moyenne du modèle de régression linéaire sur les données de test:\\n\"\n",
    "        f\"{scores_test.mean():.3f} ± {scores_test.std():.3f}\")    "
   ]
  },
  {
   "cell_type": "markdown",
   "metadata": {},
   "source": [
    "## -- XGBoost Pipeline"
   ]
  },
  {
   "cell_type": "code",
   "execution_count": 124,
   "metadata": {},
   "outputs": [],
   "source": [
    "xg_regressor = XGBRegressor(n_estimators=10000, \n",
    "                     random_state=0, \n",
    "                     learning_rate=0.01,\n",
    "                     max_depth=100,\n",
    "                     enable_categorical=True)\n",
    "\n",
    "xg_pipeline = Pipeline(steps=[\n",
    "        ('preprocessor', preprocessors),\n",
    "        ('regressor', xg_regressor)\n",
    "    ])"
   ]
  },
  {
   "cell_type": "code",
   "execution_count": null,
   "metadata": {},
   "outputs": [],
   "source": [
    "xg_regressor.fit(x_train,y_train)"
   ]
  },
  {
   "cell_type": "markdown",
   "metadata": {},
   "source": [
    "### Hyper parameter Tuning du XGBoost"
   ]
  },
  {
   "cell_type": "code",
   "execution_count": null,
   "metadata": {},
   "outputs": [],
   "source": [
    "param_grid = {\n",
    "    'model__n_estimators': [1500,2000, 2300, 2500,3000],\n",
    "    'model__max_depth': [3, 6, 9, 12],\n",
    "    'model__learning_rate': [0.07, 0.1, 0.13, 0.15, 0.2]\n",
    "}"
   ]
  },
  {
   "cell_type": "markdown",
   "metadata": {},
   "source": [
    "RandomizedSearchCV a été préféré à GridSearchCV car GridSearchCV teste toutes les combinaisons ce qui prend énormément de temps."
   ]
  },
  {
   "cell_type": "code",
   "execution_count": null,
   "metadata": {},
   "outputs": [],
   "source": [
    "random_cv = RandomizedSearchCV(\n",
    "    estimator=xg_pipeline,\n",
    "    param_distributions=param_grid,\n",
    "    cv=3,                                           #Trois validations croisées pour déterminer les meilleures hyper paramètres\n",
    "    n_iter=5,\n",
    "    scoring='neg_root_mean_squared_error',\n",
    "    n_jobs=-1,\n",
    "    verbose=5,\n",
    "    return_train_score=True,\n",
    "    return_test_score=True,\n",
    "    random_state=42\n",
    ")"
   ]
  },
  {
   "cell_type": "code",
   "execution_count": null,
   "metadata": {},
   "outputs": [],
   "source": [
    "random_cv.fit(X_train, y_train)"
   ]
  },
  {
   "cell_type": "code",
   "execution_count": null,
   "metadata": {},
   "outputs": [],
   "source": [
    "random_cv.best_params_"
   ]
  },
  {
   "cell_type": "markdown",
   "metadata": {},
   "source": [
    "### Testons notre modèle et création du fichier pour le submit sur Kaggle"
   ]
  },
  {
   "cell_type": "code",
   "execution_count": 125,
   "metadata": {},
   "outputs": [
    {
     "ename": "KeyboardInterrupt",
     "evalue": "",
     "output_type": "error",
     "traceback": [
      "\u001b[1;31m---------------------------------------------------------------------------\u001b[0m",
      "\u001b[1;31mKeyboardInterrupt\u001b[0m                         Traceback (most recent call last)",
      "Cell \u001b[1;32mIn[125], line 1\u001b[0m\n\u001b[1;32m----> 1\u001b[0m \u001b[43mxg_pipeline\u001b[49m\u001b[38;5;241;43m.\u001b[39;49m\u001b[43mfit\u001b[49m\u001b[43m(\u001b[49m\u001b[43mdata\u001b[49m\u001b[43m,\u001b[49m\u001b[43mtarget\u001b[49m\u001b[43m)\u001b[49m\n",
      "File \u001b[1;32m~\\AppData\\Local\\Packages\\PythonSoftwareFoundation.Python.3.11_qbz5n2kfra8p0\\LocalCache\\local-packages\\Python311\\site-packages\\sklearn\\base.py:1474\u001b[0m, in \u001b[0;36m_fit_context.<locals>.decorator.<locals>.wrapper\u001b[1;34m(estimator, *args, **kwargs)\u001b[0m\n\u001b[0;32m   1467\u001b[0m     estimator\u001b[38;5;241m.\u001b[39m_validate_params()\n\u001b[0;32m   1469\u001b[0m \u001b[38;5;28;01mwith\u001b[39;00m config_context(\n\u001b[0;32m   1470\u001b[0m     skip_parameter_validation\u001b[38;5;241m=\u001b[39m(\n\u001b[0;32m   1471\u001b[0m         prefer_skip_nested_validation \u001b[38;5;129;01mor\u001b[39;00m global_skip_validation\n\u001b[0;32m   1472\u001b[0m     )\n\u001b[0;32m   1473\u001b[0m ):\n\u001b[1;32m-> 1474\u001b[0m     \u001b[38;5;28;01mreturn\u001b[39;00m \u001b[43mfit_method\u001b[49m\u001b[43m(\u001b[49m\u001b[43mestimator\u001b[49m\u001b[43m,\u001b[49m\u001b[43m \u001b[49m\u001b[38;5;241;43m*\u001b[39;49m\u001b[43margs\u001b[49m\u001b[43m,\u001b[49m\u001b[43m \u001b[49m\u001b[38;5;241;43m*\u001b[39;49m\u001b[38;5;241;43m*\u001b[39;49m\u001b[43mkwargs\u001b[49m\u001b[43m)\u001b[49m\n",
      "File \u001b[1;32m~\\AppData\\Local\\Packages\\PythonSoftwareFoundation.Python.3.11_qbz5n2kfra8p0\\LocalCache\\local-packages\\Python311\\site-packages\\sklearn\\pipeline.py:475\u001b[0m, in \u001b[0;36mPipeline.fit\u001b[1;34m(self, X, y, **params)\u001b[0m\n\u001b[0;32m    473\u001b[0m     \u001b[38;5;28;01mif\u001b[39;00m \u001b[38;5;28mself\u001b[39m\u001b[38;5;241m.\u001b[39m_final_estimator \u001b[38;5;241m!=\u001b[39m \u001b[38;5;124m\"\u001b[39m\u001b[38;5;124mpassthrough\u001b[39m\u001b[38;5;124m\"\u001b[39m:\n\u001b[0;32m    474\u001b[0m         last_step_params \u001b[38;5;241m=\u001b[39m routed_params[\u001b[38;5;28mself\u001b[39m\u001b[38;5;241m.\u001b[39msteps[\u001b[38;5;241m-\u001b[39m\u001b[38;5;241m1\u001b[39m][\u001b[38;5;241m0\u001b[39m]]\n\u001b[1;32m--> 475\u001b[0m         \u001b[38;5;28;43mself\u001b[39;49m\u001b[38;5;241;43m.\u001b[39;49m\u001b[43m_final_estimator\u001b[49m\u001b[38;5;241;43m.\u001b[39;49m\u001b[43mfit\u001b[49m\u001b[43m(\u001b[49m\u001b[43mXt\u001b[49m\u001b[43m,\u001b[49m\u001b[43m \u001b[49m\u001b[43my\u001b[49m\u001b[43m,\u001b[49m\u001b[43m \u001b[49m\u001b[38;5;241;43m*\u001b[39;49m\u001b[38;5;241;43m*\u001b[39;49m\u001b[43mlast_step_params\u001b[49m\u001b[43m[\u001b[49m\u001b[38;5;124;43m\"\u001b[39;49m\u001b[38;5;124;43mfit\u001b[39;49m\u001b[38;5;124;43m\"\u001b[39;49m\u001b[43m]\u001b[49m\u001b[43m)\u001b[49m\n\u001b[0;32m    477\u001b[0m \u001b[38;5;28;01mreturn\u001b[39;00m \u001b[38;5;28mself\u001b[39m\n",
      "File \u001b[1;32m~\\AppData\\Local\\Packages\\PythonSoftwareFoundation.Python.3.11_qbz5n2kfra8p0\\LocalCache\\local-packages\\Python311\\site-packages\\xgboost\\core.py:730\u001b[0m, in \u001b[0;36mrequire_keyword_args.<locals>.throw_if.<locals>.inner_f\u001b[1;34m(*args, **kwargs)\u001b[0m\n\u001b[0;32m    728\u001b[0m \u001b[38;5;28;01mfor\u001b[39;00m k, arg \u001b[38;5;129;01min\u001b[39;00m \u001b[38;5;28mzip\u001b[39m(sig\u001b[38;5;241m.\u001b[39mparameters, args):\n\u001b[0;32m    729\u001b[0m     kwargs[k] \u001b[38;5;241m=\u001b[39m arg\n\u001b[1;32m--> 730\u001b[0m \u001b[38;5;28;01mreturn\u001b[39;00m \u001b[43mfunc\u001b[49m\u001b[43m(\u001b[49m\u001b[38;5;241;43m*\u001b[39;49m\u001b[38;5;241;43m*\u001b[39;49m\u001b[43mkwargs\u001b[49m\u001b[43m)\u001b[49m\n",
      "File \u001b[1;32m~\\AppData\\Local\\Packages\\PythonSoftwareFoundation.Python.3.11_qbz5n2kfra8p0\\LocalCache\\local-packages\\Python311\\site-packages\\xgboost\\sklearn.py:1090\u001b[0m, in \u001b[0;36mXGBModel.fit\u001b[1;34m(self, X, y, sample_weight, base_margin, eval_set, eval_metric, early_stopping_rounds, verbose, xgb_model, sample_weight_eval_set, base_margin_eval_set, feature_weights, callbacks)\u001b[0m\n\u001b[0;32m   1079\u001b[0m     obj \u001b[38;5;241m=\u001b[39m \u001b[38;5;28;01mNone\u001b[39;00m\n\u001b[0;32m   1081\u001b[0m (\n\u001b[0;32m   1082\u001b[0m     model,\n\u001b[0;32m   1083\u001b[0m     metric,\n\u001b[1;32m   (...)\u001b[0m\n\u001b[0;32m   1088\u001b[0m     xgb_model, eval_metric, params, early_stopping_rounds, callbacks\n\u001b[0;32m   1089\u001b[0m )\n\u001b[1;32m-> 1090\u001b[0m \u001b[38;5;28mself\u001b[39m\u001b[38;5;241m.\u001b[39m_Booster \u001b[38;5;241m=\u001b[39m \u001b[43mtrain\u001b[49m\u001b[43m(\u001b[49m\n\u001b[0;32m   1091\u001b[0m \u001b[43m    \u001b[49m\u001b[43mparams\u001b[49m\u001b[43m,\u001b[49m\n\u001b[0;32m   1092\u001b[0m \u001b[43m    \u001b[49m\u001b[43mtrain_dmatrix\u001b[49m\u001b[43m,\u001b[49m\n\u001b[0;32m   1093\u001b[0m \u001b[43m    \u001b[49m\u001b[38;5;28;43mself\u001b[39;49m\u001b[38;5;241;43m.\u001b[39;49m\u001b[43mget_num_boosting_rounds\u001b[49m\u001b[43m(\u001b[49m\u001b[43m)\u001b[49m\u001b[43m,\u001b[49m\n\u001b[0;32m   1094\u001b[0m \u001b[43m    \u001b[49m\u001b[43mevals\u001b[49m\u001b[38;5;241;43m=\u001b[39;49m\u001b[43mevals\u001b[49m\u001b[43m,\u001b[49m\n\u001b[0;32m   1095\u001b[0m \u001b[43m    \u001b[49m\u001b[43mearly_stopping_rounds\u001b[49m\u001b[38;5;241;43m=\u001b[39;49m\u001b[43mearly_stopping_rounds\u001b[49m\u001b[43m,\u001b[49m\n\u001b[0;32m   1096\u001b[0m \u001b[43m    \u001b[49m\u001b[43mevals_result\u001b[49m\u001b[38;5;241;43m=\u001b[39;49m\u001b[43mevals_result\u001b[49m\u001b[43m,\u001b[49m\n\u001b[0;32m   1097\u001b[0m \u001b[43m    \u001b[49m\u001b[43mobj\u001b[49m\u001b[38;5;241;43m=\u001b[39;49m\u001b[43mobj\u001b[49m\u001b[43m,\u001b[49m\n\u001b[0;32m   1098\u001b[0m \u001b[43m    \u001b[49m\u001b[43mcustom_metric\u001b[49m\u001b[38;5;241;43m=\u001b[39;49m\u001b[43mmetric\u001b[49m\u001b[43m,\u001b[49m\n\u001b[0;32m   1099\u001b[0m \u001b[43m    \u001b[49m\u001b[43mverbose_eval\u001b[49m\u001b[38;5;241;43m=\u001b[39;49m\u001b[43mverbose\u001b[49m\u001b[43m,\u001b[49m\n\u001b[0;32m   1100\u001b[0m \u001b[43m    \u001b[49m\u001b[43mxgb_model\u001b[49m\u001b[38;5;241;43m=\u001b[39;49m\u001b[43mmodel\u001b[49m\u001b[43m,\u001b[49m\n\u001b[0;32m   1101\u001b[0m \u001b[43m    \u001b[49m\u001b[43mcallbacks\u001b[49m\u001b[38;5;241;43m=\u001b[39;49m\u001b[43mcallbacks\u001b[49m\u001b[43m,\u001b[49m\n\u001b[0;32m   1102\u001b[0m \u001b[43m\u001b[49m\u001b[43m)\u001b[49m\n\u001b[0;32m   1104\u001b[0m \u001b[38;5;28mself\u001b[39m\u001b[38;5;241m.\u001b[39m_set_evaluation_result(evals_result)\n\u001b[0;32m   1105\u001b[0m \u001b[38;5;28;01mreturn\u001b[39;00m \u001b[38;5;28mself\u001b[39m\n",
      "File \u001b[1;32m~\\AppData\\Local\\Packages\\PythonSoftwareFoundation.Python.3.11_qbz5n2kfra8p0\\LocalCache\\local-packages\\Python311\\site-packages\\xgboost\\core.py:730\u001b[0m, in \u001b[0;36mrequire_keyword_args.<locals>.throw_if.<locals>.inner_f\u001b[1;34m(*args, **kwargs)\u001b[0m\n\u001b[0;32m    728\u001b[0m \u001b[38;5;28;01mfor\u001b[39;00m k, arg \u001b[38;5;129;01min\u001b[39;00m \u001b[38;5;28mzip\u001b[39m(sig\u001b[38;5;241m.\u001b[39mparameters, args):\n\u001b[0;32m    729\u001b[0m     kwargs[k] \u001b[38;5;241m=\u001b[39m arg\n\u001b[1;32m--> 730\u001b[0m \u001b[38;5;28;01mreturn\u001b[39;00m \u001b[43mfunc\u001b[49m\u001b[43m(\u001b[49m\u001b[38;5;241;43m*\u001b[39;49m\u001b[38;5;241;43m*\u001b[39;49m\u001b[43mkwargs\u001b[49m\u001b[43m)\u001b[49m\n",
      "File \u001b[1;32m~\\AppData\\Local\\Packages\\PythonSoftwareFoundation.Python.3.11_qbz5n2kfra8p0\\LocalCache\\local-packages\\Python311\\site-packages\\xgboost\\training.py:181\u001b[0m, in \u001b[0;36mtrain\u001b[1;34m(params, dtrain, num_boost_round, evals, obj, feval, maximize, early_stopping_rounds, evals_result, verbose_eval, xgb_model, callbacks, custom_metric)\u001b[0m\n\u001b[0;32m    179\u001b[0m \u001b[38;5;28;01mif\u001b[39;00m cb_container\u001b[38;5;241m.\u001b[39mbefore_iteration(bst, i, dtrain, evals):\n\u001b[0;32m    180\u001b[0m     \u001b[38;5;28;01mbreak\u001b[39;00m\n\u001b[1;32m--> 181\u001b[0m \u001b[43mbst\u001b[49m\u001b[38;5;241;43m.\u001b[39;49m\u001b[43mupdate\u001b[49m\u001b[43m(\u001b[49m\u001b[43mdtrain\u001b[49m\u001b[43m,\u001b[49m\u001b[43m \u001b[49m\u001b[43mi\u001b[49m\u001b[43m,\u001b[49m\u001b[43m \u001b[49m\u001b[43mobj\u001b[49m\u001b[43m)\u001b[49m\n\u001b[0;32m    182\u001b[0m \u001b[38;5;28;01mif\u001b[39;00m cb_container\u001b[38;5;241m.\u001b[39mafter_iteration(bst, i, dtrain, evals):\n\u001b[0;32m    183\u001b[0m     \u001b[38;5;28;01mbreak\u001b[39;00m\n",
      "File \u001b[1;32m~\\AppData\\Local\\Packages\\PythonSoftwareFoundation.Python.3.11_qbz5n2kfra8p0\\LocalCache\\local-packages\\Python311\\site-packages\\xgboost\\core.py:2051\u001b[0m, in \u001b[0;36mBooster.update\u001b[1;34m(self, dtrain, iteration, fobj)\u001b[0m\n\u001b[0;32m   2047\u001b[0m \u001b[38;5;28mself\u001b[39m\u001b[38;5;241m.\u001b[39m_assign_dmatrix_features(dtrain)\n\u001b[0;32m   2049\u001b[0m \u001b[38;5;28;01mif\u001b[39;00m fobj \u001b[38;5;129;01mis\u001b[39;00m \u001b[38;5;28;01mNone\u001b[39;00m:\n\u001b[0;32m   2050\u001b[0m     _check_call(\n\u001b[1;32m-> 2051\u001b[0m         \u001b[43m_LIB\u001b[49m\u001b[38;5;241;43m.\u001b[39;49m\u001b[43mXGBoosterUpdateOneIter\u001b[49m\u001b[43m(\u001b[49m\n\u001b[0;32m   2052\u001b[0m \u001b[43m            \u001b[49m\u001b[38;5;28;43mself\u001b[39;49m\u001b[38;5;241;43m.\u001b[39;49m\u001b[43mhandle\u001b[49m\u001b[43m,\u001b[49m\u001b[43m \u001b[49m\u001b[43mctypes\u001b[49m\u001b[38;5;241;43m.\u001b[39;49m\u001b[43mc_int\u001b[49m\u001b[43m(\u001b[49m\u001b[43miteration\u001b[49m\u001b[43m)\u001b[49m\u001b[43m,\u001b[49m\u001b[43m \u001b[49m\u001b[43mdtrain\u001b[49m\u001b[38;5;241;43m.\u001b[39;49m\u001b[43mhandle\u001b[49m\n\u001b[0;32m   2053\u001b[0m \u001b[43m        \u001b[49m\u001b[43m)\u001b[49m\n\u001b[0;32m   2054\u001b[0m     )\n\u001b[0;32m   2055\u001b[0m \u001b[38;5;28;01melse\u001b[39;00m:\n\u001b[0;32m   2056\u001b[0m     pred \u001b[38;5;241m=\u001b[39m \u001b[38;5;28mself\u001b[39m\u001b[38;5;241m.\u001b[39mpredict(dtrain, output_margin\u001b[38;5;241m=\u001b[39m\u001b[38;5;28;01mTrue\u001b[39;00m, training\u001b[38;5;241m=\u001b[39m\u001b[38;5;28;01mTrue\u001b[39;00m)\n",
      "\u001b[1;31mKeyboardInterrupt\u001b[0m: "
     ]
    }
   ],
   "source": [
    "xg_pipeline.fit(data,target)"
   ]
  },
  {
   "cell_type": "code",
   "execution_count": 122,
   "metadata": {},
   "outputs": [],
   "source": [
    "df_test_processed = preprocess(df_test)\n",
    "predictions  = xg_pipeline.predict(df_test_processed)"
   ]
  },
  {
   "cell_type": "code",
   "execution_count": 123,
   "metadata": {},
   "outputs": [],
   "source": [
    "submit = pd.DataFrame({'id': df_test[\"id\"], 'co2': predictions})\n",
    "submit.to_csv(\"predictions.csv\", index=False)"
   ]
  },
  {
   "cell_type": "markdown",
   "metadata": {},
   "source": [
    "## -- AdaBoost"
   ]
  },
  {
   "cell_type": "code",
   "execution_count": null,
   "metadata": {},
   "outputs": [],
   "source": [
    "ada = make_pipeline(preprocessors, AdaBoostRegressor(n_estimators=4000, learning_rate=1.0, loss='linear'))\n",
    "ada_regressor = ada.fit(data,target)"
   ]
  },
  {
   "cell_type": "markdown",
   "metadata": {},
   "source": [
    "## -- RidgeCV"
   ]
  },
  {
   "cell_type": "code",
   "execution_count": 147,
   "metadata": {},
   "outputs": [],
   "source": [
    "alphas = np.logspace(-5, 5, num=101)\n",
    "ridge = make_pipeline(preprocessors, RidgeCV(alphas=alphas,cv=2))\n",
    "ridge_regressor = ridge.fit(data,target)"
   ]
  },
  {
   "cell_type": "code",
   "execution_count": 148,
   "metadata": {},
   "outputs": [
    {
     "name": "stdout",
     "output_type": "stream",
     "text": [
      "Erreur quadratique moyenne du modèle de régression linéaire sur les données d'entrainement:\n",
      "0.225 ± 0.010\n",
      "Erreur quadratique moyenne du modèle de régression linéaire sur les données de test:\n",
      "0.282 ± 0.040\n"
     ]
    }
   ],
   "source": []
  },
  {
   "cell_type": "markdown",
   "metadata": {},
   "source": [
    "## Régression linéaire"
   ]
  },
  {
   "cell_type": "code",
   "execution_count": 112,
   "metadata": {},
   "outputs": [
    {
     "name": "stdout",
     "output_type": "stream",
     "text": [
      "Erreur quadratique moyenne du modèle de régression linéaire sur les données d'entrainement:\n",
      "0.206 ± 0.001\n",
      "Erreur quadratique moyenne du modèle de régression linéaire sur les données de test:\n",
      "0.628 ± 0.089\n"
     ]
    }
   ],
   "source": [
    "from sklearn.linear_model import LinearRegression\n",
    "model2 = make_pipeline(preprocessors, LinearRegression())\n",
    "cv_results2 = cross_validate(\n",
    "    model2, data, target, cv=2, return_estimator=True,\n",
    "    return_train_score=True, scoring=\"neg_mean_squared_error\"\n",
    ")\n",
    "scores_train2=-cv_results2[\"train_score\"]\n",
    "scores_test2=-cv_results2[\"test_score\"]\n",
    "\n",
    "print(f\"Erreur quadratique moyenne du modèle de régression linéaire sur les données d'entrainement:\\n\"\n",
    "      f\"{scores_train2.mean():.3f} ± {scores_train2.std():.3f}\")\n",
    "\n",
    "print(f\"Erreur quadratique moyenne du modèle de régression linéaire sur les données de test:\\n\"\n",
    "      f\"{scores_test2.mean():.3f} ± {scores_test2.std():.3f}\")\n",
    "#ExtraTreesRegressor(n_estimators=10, max_features=32, random_state=0),"
   ]
  },
  {
   "cell_type": "markdown",
   "metadata": {},
   "source": [
    "## K Nearest Neighbors"
   ]
  },
  {
   "cell_type": "code",
   "execution_count": 145,
   "metadata": {},
   "outputs": [
    {
     "name": "stdout",
     "output_type": "stream",
     "text": [
      "Erreur quadratique moyenne du modèle de régression linéaire sur les données d'entrainement:\n",
      "0.005 ± 0.000\n",
      "Erreur quadratique moyenne du modèle de régression linéaire sur les données de test:\n",
      "1.760 ± 0.431\n"
     ]
    }
   ],
   "source": [
    "model3 = make_pipeline(preprocessors, KNeighborsRegressor(n_neighbors=5,weights=\"distance\",p=1))\n",
    "cv_results3 = cross_validate(\n",
    "    model3, data, target, cv=2, return_estimator=True,\n",
    "    return_train_score=True, scoring=\"neg_mean_squared_error\"\n",
    ")\n",
    "\n",
    "scores_train3=-cv_results3[\"train_score\"]\n",
    "scores_test3=-cv_results3[\"test_score\"]\n",
    "\n",
    "print(f\"Erreur quadratique moyenne du modèle de régression linéaire sur les données d'entrainement:\\n\"\n",
    "      f\"{scores_train3.mean():.3f} ± {scores_train3.std():.3f}\")\n",
    "\n",
    "print(f\"Erreur quadratique moyenne du modèle de régression linéaire sur les données de test:\\n\"\n",
    "      f\"{scores_test3.mean():.3f} ± {scores_test3.std():.3f}\")"
   ]
  },
  {
   "cell_type": "code",
   "execution_count": 100,
   "metadata": {},
   "outputs": [
    {
     "name": "stdout",
     "output_type": "stream",
     "text": [
      "Erreur quadratique moyenne du modèle de régression linéaire sur les données d'entrainement:\n",
      "4.937 ± 0.449\n",
      "Erreur quadratique moyenne du modèle de régression linéaire sur les données de test:\n",
      "10.236 ± 1.854\n"
     ]
    }
   ],
   "source": [
    "from sklearn.ensemble import GradientBoostingRegressor\n",
    "model5 = make_pipeline(preprocessors, GradientBoostingRegressor(n_estimators=1000, max_features=20))\n",
    "cv_results5 = cross_validate(\n",
    "    model5, data, target, cv=2, return_estimator=True,\n",
    "    return_train_score=True, scoring=\"neg_mean_squared_error\"\n",
    ")\n",
    "\n",
    "scores_train5=-cv_results5[\"train_score\"]\n",
    "scores_test5=-cv_results5[\"test_score\"]\n",
    "\n",
    "print(f\"Erreur quadratique moyenne du modèle de régression linéaire sur les données d'entrainement:\\n\"\n",
    "      f\"{scores_train5.mean():.3f} ± {scores_train5.std():.3f}\")\n",
    "\n",
    "print(f\"Erreur quadratique moyenne du modèle de régression linéaire sur les données de test:\\n\"\n",
    "      f\"{scores_test5.mean():.3f} ± {scores_test5.std():.3f}\")\n"
   ]
  },
  {
   "cell_type": "code",
   "execution_count": 117,
   "metadata": {},
   "outputs": [],
   "source": [
    "from sklearn.ensemble import StackingRegressor\n",
    "from sklearn.ensemble import VotingRegressor\n",
    " \n",
    "#reg = StackingRegressor(estimators=RidgeCV(alphas=alphas,cv=2),final_estimator=KNeighborsRegressor(n_neighbors=20,weights=\"distance\",p=1))\n",
    "r1 = RidgeCV(alphas=alphas,cv=2)\n",
    "r2 = KNeighborsRegressor(n_neighbors=20,weights=\"distance\",p=1)\n",
    "model4 = make_pipeline(preprocessors,VotingRegressor(estimators=[('lr',r1),('rf',r2)]))"
   ]
  },
  {
   "cell_type": "code",
   "execution_count": 118,
   "metadata": {},
   "outputs": [
    {
     "name": "stdout",
     "output_type": "stream",
     "text": [
      "Erreur quadratique moyenne du modèle de régression linéaire sur les données d'entrainement:\n",
      "0.064 ± 0.000\n",
      "Erreur quadratique moyenne du modèle de régression linéaire sur les données de test:\n",
      "0.896 ± 0.103\n"
     ]
    }
   ],
   "source": [
    "cv_results4 = cross_validate(\n",
    "    model4, data, target, cv=2, return_estimator=True,\n",
    "    return_train_score=True, scoring=\"neg_mean_squared_error\"\n",
    ")\n",
    "\n",
    "scores_train4=-cv_results4[\"train_score\"]\n",
    "scores_test4=-cv_results4[\"test_score\"]\n",
    "\n",
    "print(f\"Erreur quadratique moyenne du modèle de régression linéaire sur les données d'entrainement:\\n\"\n",
    "      f\"{scores_train4.mean():.3f} ± {scores_train4.std():.3f}\")\n",
    "\n",
    "print(f\"Erreur quadratique moyenne du modèle de régression linéaire sur les données de test:\\n\"\n",
    "      f\"{scores_test4.mean():.3f} ± {scores_test4.std():.3f}\")"
   ]
  },
  {
   "cell_type": "code",
   "execution_count": null,
   "metadata": {},
   "outputs": [],
   "source": []
  }
 ],
 "metadata": {
  "kernelspec": {
   "argv": [
    "/usr/bin/python3",
    "-m",
    "ipykernel",
    "--HistoryManager.enabled=False",
    "--matplotlib=inline",
    "-c",
    "%config InlineBackend.figure_formats = set(['retina'])\nimport matplotlib; matplotlib.rcParams['figure.figsize'] = (12, 7)",
    "-f",
    "{connection_file}"
   ],
   "display_name": "Python 3 (system-wide)",
   "env": {},
   "language": "python",
   "metadata": {
    "cocalc": {
     "description": "Python 3 programming language",
     "priority": 100,
     "url": "https://www.python.org/"
    }
   },
   "name": "python3",
   "resource_dir": "/ext/jupyter/kernels/python3"
  },
  "language_info": {
   "codemirror_mode": {
    "name": "ipython",
    "version": 3
   },
   "file_extension": ".py",
   "mimetype": "text/x-python",
   "name": "python",
   "nbconvert_exporter": "python",
   "pygments_lexer": "ipython3",
   "version": "3.11.8"
  }
 },
 "nbformat": 4,
 "nbformat_minor": 4
}
