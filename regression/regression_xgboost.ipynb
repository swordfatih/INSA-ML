{
 "cells": [
  {
   "cell_type": "code",
   "execution_count": 2,
   "metadata": {},
   "outputs": [],
   "source": [
    "from xgboost import XGBRegressor "
   ]
  },
  {
   "cell_type": "code",
   "execution_count": 3,
   "metadata": {},
   "outputs": [
    {
     "name": "stdout",
     "output_type": "stream",
     "text": [
      "model\n",
      "VIANO 2.2 CDI                                                  4405\n",
      "VIANO 2.0 CDI                                                  2931\n",
      "COMBI 116 CDI                                                  2847\n",
      "COMBI 113 CDI                                                  1968\n",
      "VIANO 3.0 CDI                                                  1180\n",
      "                                                               ... \n",
      "2008 1.6 e-Hdi FAP BVM6                                           1\n",
      "A6 2.0 TDI (136ch) MULTITRONIC 8                                  1\n",
      "PASSAT SW 1.6 TDI (105ch) CR FAP BMT BVM6                         1\n",
      "MULTIVAN CONFORTLINE ET HIGHLINE 2.0 TDI (180ch) BlueMotion       1\n",
      "ASX CLEARTEC 1.8 DI-D Invite / Intense / Instyle 4WD              1\n",
      "Name: count, Length: 3141, dtype: int64\n",
      "3141\n",
      "car_class\n",
      "MINIBUS                34570\n",
      "BERLINE                 3307\n",
      "BREAK                    933\n",
      "TS TERRAINS/CHEMINS      819\n",
      "COUPE                    661\n",
      "CABRIOLET                389\n",
      "MONOSPACE COMPACT        240\n",
      "COMBISPACE               179\n",
      "MINISPACE                111\n",
      "MONOSPACE                 44\n",
      "COMBISPCACE                4\n",
      "Name: count, dtype: int64\n",
      "11\n",
      "brand\n",
      "MERCEDES        27127\n",
      "VOLKSWAGEN      10266\n",
      "FIAT              394\n",
      "BMW               342\n",
      "OPEL              308\n",
      "LEXUS             277\n",
      "AUDI              264\n",
      "FORD              220\n",
      "NISSAN            215\n",
      "CITROEN           166\n",
      "ALFA-ROMEO        142\n",
      "PEUGEOT           125\n",
      "RENAULT           109\n",
      "TOYOTA            103\n",
      "SKODA              96\n",
      "MINI               95\n",
      "VOLVO              86\n",
      "PORSCHE            82\n",
      "SEAT               78\n",
      "CHEVROLET          61\n",
      "JEEP               60\n",
      "LAND ROVER         60\n",
      "ASTON MARTIN       55\n",
      "KIA                53\n",
      "HONDA              43\n",
      "HYUNDAI            43\n",
      "LANCIA             41\n",
      "MITSUBISHI         35\n",
      "MAZDA              31\n",
      "CADILLAC           31\n",
      "JAGUAR             29\n",
      "SMART              29\n",
      "LAMBORGHINI        26\n",
      "DACIA              22\n",
      "SUZUKI             21\n",
      "SUBARU             19\n",
      "LOTUS              18\n",
      "FERRARI            18\n",
      "MASERATI           16\n",
      "ROLLS-ROYCE        15\n",
      "BENTLEY            14\n",
      "INFINITI           12\n",
      "SSANGYONG           6\n",
      "LADA                4\n",
      "Name: count, dtype: int64\n",
      "Nombre de valeurs différentes dans la colonne Brand 44\n",
      "fuel_type\n",
      "GO       36993\n",
      "ES        3853\n",
      "EH         233\n",
      "GH          63\n",
      "GN/ES       27\n",
      "ES/GN       23\n",
      "ES/GP       18\n",
      "GP/ES       17\n",
      "GN          15\n",
      "FE           8\n",
      "EE           6\n",
      "GL           1\n",
      "Name: count, dtype: int64\n",
      "12\n",
      "brand\n",
      "MERCEDES      27127\n",
      "VOLKSWAGEN    10266\n",
      "AUTRE          3864\n",
      "Name: count, dtype: int64\n"
     ]
    }
   ],
   "source": [
    "%run preprocess_scikit.ipynb"
   ]
  },
  {
   "cell_type": "markdown",
   "metadata": {},
   "source": [
    "## Construction des modèles\n",
    "\n",
    "Faisons d'abord les fonctions de prédictions et de Cross Validation"
   ]
  },
  {
   "cell_type": "markdown",
   "metadata": {},
   "source": [
    "### Fonction pour le prétraitement des données de test"
   ]
  },
  {
   "cell_type": "code",
   "execution_count": 4,
   "metadata": {},
   "outputs": [],
   "source": [
    "def preprocess(df_test):\n",
    "    is_empty = (df_test['hc'].isnull() & df_test['hcnox'].notnull() & df_test['nox'].notnull())\n",
    "\n",
    "    # Remplir les valeurs manquantes dans \"hcnox\" avec la somme de \"hc\" et \"nox\"\n",
    "    df_test.loc[is_empty,'hc'] = df_test.loc[is_empty,'hcnox'] - df_test.loc[is_empty,'nox']\n",
    "    df_test = df_test.drop(columns=[\"id\",\"hcnox\",\"model\"])\n",
    "\n",
    "    df_test[['gearbox', 'ratio']] = df_test[\"grbx_type_ratios\"].str.split(' ', n=1, expand=True)\n",
    "    df_test['ratio'] = df_test['ratio'].replace({'.': '0'})                                          #Remplacer les points par zéro\n",
    "    df_test['ratio'] = pd.to_numeric(df_test['ratio'], errors='coerce').fillna(0)\n",
    "    df_test = df_test.drop(columns=\"grbx_type_ratios\")\n",
    "\n",
    "    is_not_abundant = ~df_test[\"brand\"].isin([\"MERCEDES\", \"VOLKSWAGEN\"])\n",
    "    df_test.loc[is_not_abundant, \"brand\"] = \"AUTRE\"\n",
    "\n",
    "    return df_test"
   ]
  },
  {
   "cell_type": "markdown",
   "metadata": {},
   "source": [
    "### Fonction pour avoir les prédictions"
   ]
  },
  {
   "cell_type": "code",
   "execution_count": 5,
   "metadata": {},
   "outputs": [],
   "source": [
    "def get_prediction(X_val, y_val, model):\n",
    "    pred = model.predict(X_val) # Your code here\n",
    "    \n",
    "    # Calculate MAE\n",
    "    mae = mean_absolute_error(y_val, pred)\n",
    "\n",
    "    # Uncomment to print MAE\n",
    "    print(\"Mean Absolute Error:\" , mae)"
   ]
  },
  {
   "cell_type": "markdown",
   "metadata": {},
   "source": [
    "### Fonction pour la Cross Validation"
   ]
  },
  {
   "cell_type": "code",
   "execution_count": 6,
   "metadata": {},
   "outputs": [],
   "source": [
    "def validation(model,nb_validate):    \n",
    "    cv_results = cross_validate(\n",
    "        model, data, target, cv=nb_validate, return_estimator=True,           #nb_validate validations croisées\n",
    "        return_train_score=True, scoring=\"neg_mean_squared_error\"\n",
    "    )\n",
    "    scores_train=-cv_results[\"train_score\"]\n",
    "    scores_test=-cv_results[\"test_score\"]\n",
    "    print(f\"Erreur quadratique moyenne du modèle de régression linéaire sur les données d'entrainement:\\n\"\n",
    "        f\"{scores_train.mean():.3f} ± {scores_train.std():.3f}\")\n",
    "\n",
    "    print(f\"Erreur quadratique moyenne du modèle de régression linéaire sur les données de test:\\n\"\n",
    "        f\"{scores_test.mean():.3f} ± {scores_test.std():.3f}\")    "
   ]
  },
  {
   "cell_type": "markdown",
   "metadata": {},
   "source": [
    "## -- XGBoost Pipeline"
   ]
  },
  {
   "cell_type": "code",
   "execution_count": 9,
   "metadata": {},
   "outputs": [],
   "source": [
    "xg_regressor = XGBRegressor(n_estimators=10000, \n",
    "                     random_state=0, \n",
    "                     learning_rate=0.01,\n",
    "                     max_depth=100,\n",
    "                     enable_categorical=True)\n",
    "\n",
    "xg_pipeline = Pipeline(steps=[\n",
    "        ('preprocessor', preprocessors),\n",
    "        ('regressor', xg_regressor)\n",
    "    ])"
   ]
  },
  {
   "cell_type": "markdown",
   "metadata": {},
   "source": [
    "### Hyper parameter Tuning du XGBoost"
   ]
  },
  {
   "cell_type": "code",
   "execution_count": 22,
   "metadata": {},
   "outputs": [],
   "source": [
    "param_grid = {\n",
    "    'regressor__n_estimators': [1500, 2000, 2300, 2500, 3000],\n",
    "    'regressor__max_depth': [3, 6, 9, 12],\n",
    "    'regressor__learning_rate': [0.07, 0.1, 0.13, 0.15, 0.2]\n",
    "}"
   ]
  },
  {
   "cell_type": "markdown",
   "metadata": {},
   "source": [
    "RandomizedSearchCV a été préféré à GridSearchCV car GridSearchCV teste toutes les combinaisons ce qui prend énormément de temps."
   ]
  },
  {
   "cell_type": "code",
   "execution_count": 24,
   "metadata": {},
   "outputs": [],
   "source": [
    "random_cv = RandomizedSearchCV(\n",
    "    estimator=xg_pipeline,\n",
    "    param_distributions=param_grid,\n",
    "    cv=3,                                           # Trois validations croisées pour déterminer les meilleures hyper paramètres\n",
    "    n_iter=5,\n",
    "    scoring='neg_root_mean_squared_error',\n",
    "    n_jobs=-1,\n",
    "    verbose=5,\n",
    "    return_train_score=True,\n",
    "    random_state=42\n",
    ")"
   ]
  },
  {
   "cell_type": "code",
   "execution_count": 21,
   "metadata": {},
   "outputs": [
    {
     "data": {
      "text/plain": [
       "dict_keys(['memory', 'steps', 'verbose', 'preprocessor', 'regressor', 'preprocessor__n_jobs', 'preprocessor__remainder', 'preprocessor__sparse_threshold', 'preprocessor__transformer_weights', 'preprocessor__transformers', 'preprocessor__verbose', 'preprocessor__verbose_feature_names_out', 'preprocessor__categorical preprocessing', 'preprocessor__numerical preprocessing', 'preprocessor__categorical preprocessing__memory', 'preprocessor__categorical preprocessing__steps', 'preprocessor__categorical preprocessing__verbose', 'preprocessor__categorical preprocessing__imputer', 'preprocessor__categorical preprocessing__encoder', 'preprocessor__categorical preprocessing__imputer__add_indicator', 'preprocessor__categorical preprocessing__imputer__copy', 'preprocessor__categorical preprocessing__imputer__fill_value', 'preprocessor__categorical preprocessing__imputer__keep_empty_features', 'preprocessor__categorical preprocessing__imputer__missing_values', 'preprocessor__categorical preprocessing__imputer__strategy', 'preprocessor__categorical preprocessing__imputer__verbose', 'preprocessor__categorical preprocessing__encoder__categories', 'preprocessor__categorical preprocessing__encoder__drop', 'preprocessor__categorical preprocessing__encoder__dtype', 'preprocessor__categorical preprocessing__encoder__handle_unknown', 'preprocessor__categorical preprocessing__encoder__max_categories', 'preprocessor__categorical preprocessing__encoder__min_frequency', 'preprocessor__categorical preprocessing__encoder__sparse', 'preprocessor__categorical preprocessing__encoder__sparse_output', 'preprocessor__numerical preprocessing__memory', 'preprocessor__numerical preprocessing__steps', 'preprocessor__numerical preprocessing__verbose', 'preprocessor__numerical preprocessing__imputer', 'preprocessor__numerical preprocessing__scaler', 'preprocessor__numerical preprocessing__imputer__add_indicator', 'preprocessor__numerical preprocessing__imputer__copy', 'preprocessor__numerical preprocessing__imputer__fill_value', 'preprocessor__numerical preprocessing__imputer__keep_empty_features', 'preprocessor__numerical preprocessing__imputer__missing_values', 'preprocessor__numerical preprocessing__imputer__strategy', 'preprocessor__numerical preprocessing__imputer__verbose', 'preprocessor__numerical preprocessing__scaler__copy', 'preprocessor__numerical preprocessing__scaler__with_mean', 'preprocessor__numerical preprocessing__scaler__with_std', 'regressor__objective', 'regressor__base_score', 'regressor__booster', 'regressor__callbacks', 'regressor__colsample_bylevel', 'regressor__colsample_bynode', 'regressor__colsample_bytree', 'regressor__device', 'regressor__early_stopping_rounds', 'regressor__enable_categorical', 'regressor__eval_metric', 'regressor__feature_types', 'regressor__gamma', 'regressor__grow_policy', 'regressor__importance_type', 'regressor__interaction_constraints', 'regressor__learning_rate', 'regressor__max_bin', 'regressor__max_cat_threshold', 'regressor__max_cat_to_onehot', 'regressor__max_delta_step', 'regressor__max_depth', 'regressor__max_leaves', 'regressor__min_child_weight', 'regressor__missing', 'regressor__monotone_constraints', 'regressor__multi_strategy', 'regressor__n_estimators', 'regressor__n_jobs', 'regressor__num_parallel_tree', 'regressor__random_state', 'regressor__reg_alpha', 'regressor__reg_lambda', 'regressor__sampling_method', 'regressor__scale_pos_weight', 'regressor__subsample', 'regressor__tree_method', 'regressor__validate_parameters', 'regressor__verbosity'])"
      ]
     },
     "execution_count": 21,
     "metadata": {},
     "output_type": "execute_result"
    }
   ],
   "source": [
    "xg_pipeline.get_params().keys()"
   ]
  },
  {
   "cell_type": "code",
   "execution_count": 25,
   "metadata": {},
   "outputs": [
    {
     "name": "stdout",
     "output_type": "stream",
     "text": [
      "Fitting 3 folds for each of 5 candidates, totalling 15 fits\n"
     ]
    },
    {
     "data": {
      "text/html": [
       "<style>#sk-container-id-1 {color: black;background-color: white;}#sk-container-id-1 pre{padding: 0;}#sk-container-id-1 div.sk-toggleable {background-color: white;}#sk-container-id-1 label.sk-toggleable__label {cursor: pointer;display: block;width: 100%;margin-bottom: 0;padding: 0.3em;box-sizing: border-box;text-align: center;}#sk-container-id-1 label.sk-toggleable__label-arrow:before {content: \"▸\";float: left;margin-right: 0.25em;color: #696969;}#sk-container-id-1 label.sk-toggleable__label-arrow:hover:before {color: black;}#sk-container-id-1 div.sk-estimator:hover label.sk-toggleable__label-arrow:before {color: black;}#sk-container-id-1 div.sk-toggleable__content {max-height: 0;max-width: 0;overflow: hidden;text-align: left;background-color: #f0f8ff;}#sk-container-id-1 div.sk-toggleable__content pre {margin: 0.2em;color: black;border-radius: 0.25em;background-color: #f0f8ff;}#sk-container-id-1 input.sk-toggleable__control:checked~div.sk-toggleable__content {max-height: 200px;max-width: 100%;overflow: auto;}#sk-container-id-1 input.sk-toggleable__control:checked~label.sk-toggleable__label-arrow:before {content: \"▾\";}#sk-container-id-1 div.sk-estimator input.sk-toggleable__control:checked~label.sk-toggleable__label {background-color: #d4ebff;}#sk-container-id-1 div.sk-label input.sk-toggleable__control:checked~label.sk-toggleable__label {background-color: #d4ebff;}#sk-container-id-1 input.sk-hidden--visually {border: 0;clip: rect(1px 1px 1px 1px);clip: rect(1px, 1px, 1px, 1px);height: 1px;margin: -1px;overflow: hidden;padding: 0;position: absolute;width: 1px;}#sk-container-id-1 div.sk-estimator {font-family: monospace;background-color: #f0f8ff;border: 1px dotted black;border-radius: 0.25em;box-sizing: border-box;margin-bottom: 0.5em;}#sk-container-id-1 div.sk-estimator:hover {background-color: #d4ebff;}#sk-container-id-1 div.sk-parallel-item::after {content: \"\";width: 100%;border-bottom: 1px solid gray;flex-grow: 1;}#sk-container-id-1 div.sk-label:hover label.sk-toggleable__label {background-color: #d4ebff;}#sk-container-id-1 div.sk-serial::before {content: \"\";position: absolute;border-left: 1px solid gray;box-sizing: border-box;top: 0;bottom: 0;left: 50%;z-index: 0;}#sk-container-id-1 div.sk-serial {display: flex;flex-direction: column;align-items: center;background-color: white;padding-right: 0.2em;padding-left: 0.2em;position: relative;}#sk-container-id-1 div.sk-item {position: relative;z-index: 1;}#sk-container-id-1 div.sk-parallel {display: flex;align-items: stretch;justify-content: center;background-color: white;position: relative;}#sk-container-id-1 div.sk-item::before, #sk-container-id-1 div.sk-parallel-item::before {content: \"\";position: absolute;border-left: 1px solid gray;box-sizing: border-box;top: 0;bottom: 0;left: 50%;z-index: -1;}#sk-container-id-1 div.sk-parallel-item {display: flex;flex-direction: column;z-index: 1;position: relative;background-color: white;}#sk-container-id-1 div.sk-parallel-item:first-child::after {align-self: flex-end;width: 50%;}#sk-container-id-1 div.sk-parallel-item:last-child::after {align-self: flex-start;width: 50%;}#sk-container-id-1 div.sk-parallel-item:only-child::after {width: 0;}#sk-container-id-1 div.sk-dashed-wrapped {border: 1px dashed gray;margin: 0 0.4em 0.5em 0.4em;box-sizing: border-box;padding-bottom: 0.4em;background-color: white;}#sk-container-id-1 div.sk-label label {font-family: monospace;font-weight: bold;display: inline-block;line-height: 1.2em;}#sk-container-id-1 div.sk-label-container {text-align: center;}#sk-container-id-1 div.sk-container {/* jupyter's `normalize.less` sets `[hidden] { display: none; }` but bootstrap.min.css set `[hidden] { display: none !important; }` so we also need the `!important` here to be able to override the default hidden behavior on the sphinx rendered scikit-learn.org. See: https://github.com/scikit-learn/scikit-learn/issues/21755 */display: inline-block !important;position: relative;}#sk-container-id-1 div.sk-text-repr-fallback {display: none;}</style><div id=\"sk-container-id-1\" class=\"sk-top-container\"><div class=\"sk-text-repr-fallback\"><pre>RandomizedSearchCV(cv=3,\n",
       "                   estimator=Pipeline(steps=[(&#x27;preprocessor&#x27;,\n",
       "                                              ColumnTransformer(transformers=[(&#x27;categorical &#x27;\n",
       "                                                                               &#x27;preprocessing&#x27;,\n",
       "                                                                               Pipeline(steps=[(&#x27;imputer&#x27;,\n",
       "                                                                                                SimpleImputer(fill_value=&#x27;missing&#x27;,\n",
       "                                                                                                              strategy=&#x27;constant&#x27;)),\n",
       "                                                                                               (&#x27;encoder&#x27;,\n",
       "                                                                                                OneHotEncoder(handle_unknown=&#x27;ignore&#x27;))]),\n",
       "                                                                               [&#x27;brand&#x27;,\n",
       "                                                                                &#x27;car_class&#x27;,\n",
       "                                                                                &#x27;range&#x27;,\n",
       "                                                                                &#x27;fuel_type&#x27;,\n",
       "                                                                                &#x27;hybrid&#x27;,\n",
       "                                                                                &#x27;gearbox&#x27;]),\n",
       "                                                                              (&#x27;numerical &#x27;\n",
       "                                                                               &#x27;preprocess...\n",
       "                                                           multi_strategy=None,\n",
       "                                                           n_estimators=10000,\n",
       "                                                           n_jobs=None,\n",
       "                                                           num_parallel_tree=None,\n",
       "                                                           random_state=0, ...))]),\n",
       "                   n_iter=5, n_jobs=-1,\n",
       "                   param_distributions={&#x27;regressor__learning_rate&#x27;: [0.07, 0.1,\n",
       "                                                                     0.13, 0.15,\n",
       "                                                                     0.2],\n",
       "                                        &#x27;regressor__max_depth&#x27;: [3, 6, 9, 12],\n",
       "                                        &#x27;regressor__n_estimators&#x27;: [1500, 2000,\n",
       "                                                                    2300, 2500,\n",
       "                                                                    3000]},\n",
       "                   random_state=42, return_train_score=True,\n",
       "                   scoring=&#x27;neg_root_mean_squared_error&#x27;, verbose=5)</pre><b>In a Jupyter environment, please rerun this cell to show the HTML representation or trust the notebook. <br />On GitHub, the HTML representation is unable to render, please try loading this page with nbviewer.org.</b></div><div class=\"sk-container\" hidden><div class=\"sk-item sk-dashed-wrapped\"><div class=\"sk-label-container\"><div class=\"sk-label sk-toggleable\"><input class=\"sk-toggleable__control sk-hidden--visually\" id=\"sk-estimator-id-1\" type=\"checkbox\" ><label for=\"sk-estimator-id-1\" class=\"sk-toggleable__label sk-toggleable__label-arrow\">RandomizedSearchCV</label><div class=\"sk-toggleable__content\"><pre>RandomizedSearchCV(cv=3,\n",
       "                   estimator=Pipeline(steps=[(&#x27;preprocessor&#x27;,\n",
       "                                              ColumnTransformer(transformers=[(&#x27;categorical &#x27;\n",
       "                                                                               &#x27;preprocessing&#x27;,\n",
       "                                                                               Pipeline(steps=[(&#x27;imputer&#x27;,\n",
       "                                                                                                SimpleImputer(fill_value=&#x27;missing&#x27;,\n",
       "                                                                                                              strategy=&#x27;constant&#x27;)),\n",
       "                                                                                               (&#x27;encoder&#x27;,\n",
       "                                                                                                OneHotEncoder(handle_unknown=&#x27;ignore&#x27;))]),\n",
       "                                                                               [&#x27;brand&#x27;,\n",
       "                                                                                &#x27;car_class&#x27;,\n",
       "                                                                                &#x27;range&#x27;,\n",
       "                                                                                &#x27;fuel_type&#x27;,\n",
       "                                                                                &#x27;hybrid&#x27;,\n",
       "                                                                                &#x27;gearbox&#x27;]),\n",
       "                                                                              (&#x27;numerical &#x27;\n",
       "                                                                               &#x27;preprocess...\n",
       "                                                           multi_strategy=None,\n",
       "                                                           n_estimators=10000,\n",
       "                                                           n_jobs=None,\n",
       "                                                           num_parallel_tree=None,\n",
       "                                                           random_state=0, ...))]),\n",
       "                   n_iter=5, n_jobs=-1,\n",
       "                   param_distributions={&#x27;regressor__learning_rate&#x27;: [0.07, 0.1,\n",
       "                                                                     0.13, 0.15,\n",
       "                                                                     0.2],\n",
       "                                        &#x27;regressor__max_depth&#x27;: [3, 6, 9, 12],\n",
       "                                        &#x27;regressor__n_estimators&#x27;: [1500, 2000,\n",
       "                                                                    2300, 2500,\n",
       "                                                                    3000]},\n",
       "                   random_state=42, return_train_score=True,\n",
       "                   scoring=&#x27;neg_root_mean_squared_error&#x27;, verbose=5)</pre></div></div></div><div class=\"sk-parallel\"><div class=\"sk-parallel-item\"><div class=\"sk-item\"><div class=\"sk-label-container\"><div class=\"sk-label sk-toggleable\"><input class=\"sk-toggleable__control sk-hidden--visually\" id=\"sk-estimator-id-2\" type=\"checkbox\" ><label for=\"sk-estimator-id-2\" class=\"sk-toggleable__label sk-toggleable__label-arrow\">estimator: Pipeline</label><div class=\"sk-toggleable__content\"><pre>Pipeline(steps=[(&#x27;preprocessor&#x27;,\n",
       "                 ColumnTransformer(transformers=[(&#x27;categorical preprocessing&#x27;,\n",
       "                                                  Pipeline(steps=[(&#x27;imputer&#x27;,\n",
       "                                                                   SimpleImputer(fill_value=&#x27;missing&#x27;,\n",
       "                                                                                 strategy=&#x27;constant&#x27;)),\n",
       "                                                                  (&#x27;encoder&#x27;,\n",
       "                                                                   OneHotEncoder(handle_unknown=&#x27;ignore&#x27;))]),\n",
       "                                                  [&#x27;brand&#x27;, &#x27;car_class&#x27;,\n",
       "                                                   &#x27;range&#x27;, &#x27;fuel_type&#x27;,\n",
       "                                                   &#x27;hybrid&#x27;, &#x27;gearbox&#x27;]),\n",
       "                                                 (&#x27;numerical preprocessing&#x27;,\n",
       "                                                  Pipeline(steps=[(&#x27;imputer&#x27;,\n",
       "                                                                   Simple...\n",
       "                              feature_types=None, gamma=None, grow_policy=None,\n",
       "                              importance_type=None,\n",
       "                              interaction_constraints=None, learning_rate=0.01,\n",
       "                              max_bin=None, max_cat_threshold=None,\n",
       "                              max_cat_to_onehot=None, max_delta_step=None,\n",
       "                              max_depth=100, max_leaves=None,\n",
       "                              min_child_weight=None, missing=nan,\n",
       "                              monotone_constraints=None, multi_strategy=None,\n",
       "                              n_estimators=10000, n_jobs=None,\n",
       "                              num_parallel_tree=None, random_state=0, ...))])</pre></div></div></div><div class=\"sk-serial\"><div class=\"sk-item\"><div class=\"sk-serial\"><div class=\"sk-item sk-dashed-wrapped\"><div class=\"sk-label-container\"><div class=\"sk-label sk-toggleable\"><input class=\"sk-toggleable__control sk-hidden--visually\" id=\"sk-estimator-id-3\" type=\"checkbox\" ><label for=\"sk-estimator-id-3\" class=\"sk-toggleable__label sk-toggleable__label-arrow\">preprocessor: ColumnTransformer</label><div class=\"sk-toggleable__content\"><pre>ColumnTransformer(transformers=[(&#x27;categorical preprocessing&#x27;,\n",
       "                                 Pipeline(steps=[(&#x27;imputer&#x27;,\n",
       "                                                  SimpleImputer(fill_value=&#x27;missing&#x27;,\n",
       "                                                                strategy=&#x27;constant&#x27;)),\n",
       "                                                 (&#x27;encoder&#x27;,\n",
       "                                                  OneHotEncoder(handle_unknown=&#x27;ignore&#x27;))]),\n",
       "                                 [&#x27;brand&#x27;, &#x27;car_class&#x27;, &#x27;range&#x27;, &#x27;fuel_type&#x27;,\n",
       "                                  &#x27;hybrid&#x27;, &#x27;gearbox&#x27;]),\n",
       "                                (&#x27;numerical preprocessing&#x27;,\n",
       "                                 Pipeline(steps=[(&#x27;imputer&#x27;, SimpleImputer()),\n",
       "                                                 (&#x27;scaler&#x27;, StandardScaler())]),\n",
       "                                 [&#x27;max_power&#x27;, &#x27;weight_min&#x27;, &#x27;weight_max&#x27;,\n",
       "                                  &#x27;urb_cons&#x27;, &#x27;exturb_cons&#x27;, &#x27;overall_cons&#x27;,\n",
       "                                  &#x27;co&#x27;, &#x27;hc&#x27;, &#x27;nox&#x27;, &#x27;ptcl&#x27;, &#x27;ratio&#x27;])])</pre></div></div></div><div class=\"sk-parallel\"><div class=\"sk-parallel-item\"><div class=\"sk-item\"><div class=\"sk-label-container\"><div class=\"sk-label sk-toggleable\"><input class=\"sk-toggleable__control sk-hidden--visually\" id=\"sk-estimator-id-4\" type=\"checkbox\" ><label for=\"sk-estimator-id-4\" class=\"sk-toggleable__label sk-toggleable__label-arrow\">categorical preprocessing</label><div class=\"sk-toggleable__content\"><pre>[&#x27;brand&#x27;, &#x27;car_class&#x27;, &#x27;range&#x27;, &#x27;fuel_type&#x27;, &#x27;hybrid&#x27;, &#x27;gearbox&#x27;]</pre></div></div></div><div class=\"sk-serial\"><div class=\"sk-item\"><div class=\"sk-serial\"><div class=\"sk-item\"><div class=\"sk-estimator sk-toggleable\"><input class=\"sk-toggleable__control sk-hidden--visually\" id=\"sk-estimator-id-5\" type=\"checkbox\" ><label for=\"sk-estimator-id-5\" class=\"sk-toggleable__label sk-toggleable__label-arrow\">SimpleImputer</label><div class=\"sk-toggleable__content\"><pre>SimpleImputer(fill_value=&#x27;missing&#x27;, strategy=&#x27;constant&#x27;)</pre></div></div></div><div class=\"sk-item\"><div class=\"sk-estimator sk-toggleable\"><input class=\"sk-toggleable__control sk-hidden--visually\" id=\"sk-estimator-id-6\" type=\"checkbox\" ><label for=\"sk-estimator-id-6\" class=\"sk-toggleable__label sk-toggleable__label-arrow\">OneHotEncoder</label><div class=\"sk-toggleable__content\"><pre>OneHotEncoder(handle_unknown=&#x27;ignore&#x27;)</pre></div></div></div></div></div></div></div></div><div class=\"sk-parallel-item\"><div class=\"sk-item\"><div class=\"sk-label-container\"><div class=\"sk-label sk-toggleable\"><input class=\"sk-toggleable__control sk-hidden--visually\" id=\"sk-estimator-id-7\" type=\"checkbox\" ><label for=\"sk-estimator-id-7\" class=\"sk-toggleable__label sk-toggleable__label-arrow\">numerical preprocessing</label><div class=\"sk-toggleable__content\"><pre>[&#x27;max_power&#x27;, &#x27;weight_min&#x27;, &#x27;weight_max&#x27;, &#x27;urb_cons&#x27;, &#x27;exturb_cons&#x27;, &#x27;overall_cons&#x27;, &#x27;co&#x27;, &#x27;hc&#x27;, &#x27;nox&#x27;, &#x27;ptcl&#x27;, &#x27;ratio&#x27;]</pre></div></div></div><div class=\"sk-serial\"><div class=\"sk-item\"><div class=\"sk-serial\"><div class=\"sk-item\"><div class=\"sk-estimator sk-toggleable\"><input class=\"sk-toggleable__control sk-hidden--visually\" id=\"sk-estimator-id-8\" type=\"checkbox\" ><label for=\"sk-estimator-id-8\" class=\"sk-toggleable__label sk-toggleable__label-arrow\">SimpleImputer</label><div class=\"sk-toggleable__content\"><pre>SimpleImputer()</pre></div></div></div><div class=\"sk-item\"><div class=\"sk-estimator sk-toggleable\"><input class=\"sk-toggleable__control sk-hidden--visually\" id=\"sk-estimator-id-9\" type=\"checkbox\" ><label for=\"sk-estimator-id-9\" class=\"sk-toggleable__label sk-toggleable__label-arrow\">StandardScaler</label><div class=\"sk-toggleable__content\"><pre>StandardScaler()</pre></div></div></div></div></div></div></div></div></div></div><div class=\"sk-item\"><div class=\"sk-estimator sk-toggleable\"><input class=\"sk-toggleable__control sk-hidden--visually\" id=\"sk-estimator-id-10\" type=\"checkbox\" ><label for=\"sk-estimator-id-10\" class=\"sk-toggleable__label sk-toggleable__label-arrow\">XGBRegressor</label><div class=\"sk-toggleable__content\"><pre>XGBRegressor(base_score=None, booster=None, callbacks=None,\n",
       "             colsample_bylevel=None, colsample_bynode=None,\n",
       "             colsample_bytree=None, device=None, early_stopping_rounds=None,\n",
       "             enable_categorical=True, eval_metric=None, feature_types=None,\n",
       "             gamma=None, grow_policy=None, importance_type=None,\n",
       "             interaction_constraints=None, learning_rate=0.01, max_bin=None,\n",
       "             max_cat_threshold=None, max_cat_to_onehot=None,\n",
       "             max_delta_step=None, max_depth=100, max_leaves=None,\n",
       "             min_child_weight=None, missing=nan, monotone_constraints=None,\n",
       "             multi_strategy=None, n_estimators=10000, n_jobs=None,\n",
       "             num_parallel_tree=None, random_state=0, ...)</pre></div></div></div></div></div></div></div></div></div></div></div></div>"
      ],
      "text/plain": [
       "RandomizedSearchCV(cv=3,\n",
       "                   estimator=Pipeline(steps=[('preprocessor',\n",
       "                                              ColumnTransformer(transformers=[('categorical '\n",
       "                                                                               'preprocessing',\n",
       "                                                                               Pipeline(steps=[('imputer',\n",
       "                                                                                                SimpleImputer(fill_value='missing',\n",
       "                                                                                                              strategy='constant')),\n",
       "                                                                                               ('encoder',\n",
       "                                                                                                OneHotEncoder(handle_unknown='ignore'))]),\n",
       "                                                                               ['brand',\n",
       "                                                                                'car_class',\n",
       "                                                                                'range',\n",
       "                                                                                'fuel_type',\n",
       "                                                                                'hybrid',\n",
       "                                                                                'gearbox']),\n",
       "                                                                              ('numerical '\n",
       "                                                                               'preprocess...\n",
       "                                                           multi_strategy=None,\n",
       "                                                           n_estimators=10000,\n",
       "                                                           n_jobs=None,\n",
       "                                                           num_parallel_tree=None,\n",
       "                                                           random_state=0, ...))]),\n",
       "                   n_iter=5, n_jobs=-1,\n",
       "                   param_distributions={'regressor__learning_rate': [0.07, 0.1,\n",
       "                                                                     0.13, 0.15,\n",
       "                                                                     0.2],\n",
       "                                        'regressor__max_depth': [3, 6, 9, 12],\n",
       "                                        'regressor__n_estimators': [1500, 2000,\n",
       "                                                                    2300, 2500,\n",
       "                                                                    3000]},\n",
       "                   random_state=42, return_train_score=True,\n",
       "                   scoring='neg_root_mean_squared_error', verbose=5)"
      ]
     },
     "execution_count": 25,
     "metadata": {},
     "output_type": "execute_result"
    }
   ],
   "source": [
    "random_cv.fit(x_train, y_train)"
   ]
  },
  {
   "cell_type": "code",
   "execution_count": 26,
   "metadata": {},
   "outputs": [
    {
     "data": {
      "text/plain": [
       "{'regressor__n_estimators': 3000,\n",
       " 'regressor__max_depth': 3,\n",
       " 'regressor__learning_rate': 0.13}"
      ]
     },
     "execution_count": 26,
     "metadata": {},
     "output_type": "execute_result"
    }
   ],
   "source": [
    "random_cv.best_params_"
   ]
  },
  {
   "cell_type": "markdown",
   "metadata": {},
   "source": [
    "### Testons notre modèle et création du fichier pour le submit sur Kaggle"
   ]
  },
  {
   "cell_type": "code",
   "execution_count": 27,
   "metadata": {},
   "outputs": [
    {
     "data": {
      "text/html": [
       "<style>#sk-container-id-2 {color: black;background-color: white;}#sk-container-id-2 pre{padding: 0;}#sk-container-id-2 div.sk-toggleable {background-color: white;}#sk-container-id-2 label.sk-toggleable__label {cursor: pointer;display: block;width: 100%;margin-bottom: 0;padding: 0.3em;box-sizing: border-box;text-align: center;}#sk-container-id-2 label.sk-toggleable__label-arrow:before {content: \"▸\";float: left;margin-right: 0.25em;color: #696969;}#sk-container-id-2 label.sk-toggleable__label-arrow:hover:before {color: black;}#sk-container-id-2 div.sk-estimator:hover label.sk-toggleable__label-arrow:before {color: black;}#sk-container-id-2 div.sk-toggleable__content {max-height: 0;max-width: 0;overflow: hidden;text-align: left;background-color: #f0f8ff;}#sk-container-id-2 div.sk-toggleable__content pre {margin: 0.2em;color: black;border-radius: 0.25em;background-color: #f0f8ff;}#sk-container-id-2 input.sk-toggleable__control:checked~div.sk-toggleable__content {max-height: 200px;max-width: 100%;overflow: auto;}#sk-container-id-2 input.sk-toggleable__control:checked~label.sk-toggleable__label-arrow:before {content: \"▾\";}#sk-container-id-2 div.sk-estimator input.sk-toggleable__control:checked~label.sk-toggleable__label {background-color: #d4ebff;}#sk-container-id-2 div.sk-label input.sk-toggleable__control:checked~label.sk-toggleable__label {background-color: #d4ebff;}#sk-container-id-2 input.sk-hidden--visually {border: 0;clip: rect(1px 1px 1px 1px);clip: rect(1px, 1px, 1px, 1px);height: 1px;margin: -1px;overflow: hidden;padding: 0;position: absolute;width: 1px;}#sk-container-id-2 div.sk-estimator {font-family: monospace;background-color: #f0f8ff;border: 1px dotted black;border-radius: 0.25em;box-sizing: border-box;margin-bottom: 0.5em;}#sk-container-id-2 div.sk-estimator:hover {background-color: #d4ebff;}#sk-container-id-2 div.sk-parallel-item::after {content: \"\";width: 100%;border-bottom: 1px solid gray;flex-grow: 1;}#sk-container-id-2 div.sk-label:hover label.sk-toggleable__label {background-color: #d4ebff;}#sk-container-id-2 div.sk-serial::before {content: \"\";position: absolute;border-left: 1px solid gray;box-sizing: border-box;top: 0;bottom: 0;left: 50%;z-index: 0;}#sk-container-id-2 div.sk-serial {display: flex;flex-direction: column;align-items: center;background-color: white;padding-right: 0.2em;padding-left: 0.2em;position: relative;}#sk-container-id-2 div.sk-item {position: relative;z-index: 1;}#sk-container-id-2 div.sk-parallel {display: flex;align-items: stretch;justify-content: center;background-color: white;position: relative;}#sk-container-id-2 div.sk-item::before, #sk-container-id-2 div.sk-parallel-item::before {content: \"\";position: absolute;border-left: 1px solid gray;box-sizing: border-box;top: 0;bottom: 0;left: 50%;z-index: -1;}#sk-container-id-2 div.sk-parallel-item {display: flex;flex-direction: column;z-index: 1;position: relative;background-color: white;}#sk-container-id-2 div.sk-parallel-item:first-child::after {align-self: flex-end;width: 50%;}#sk-container-id-2 div.sk-parallel-item:last-child::after {align-self: flex-start;width: 50%;}#sk-container-id-2 div.sk-parallel-item:only-child::after {width: 0;}#sk-container-id-2 div.sk-dashed-wrapped {border: 1px dashed gray;margin: 0 0.4em 0.5em 0.4em;box-sizing: border-box;padding-bottom: 0.4em;background-color: white;}#sk-container-id-2 div.sk-label label {font-family: monospace;font-weight: bold;display: inline-block;line-height: 1.2em;}#sk-container-id-2 div.sk-label-container {text-align: center;}#sk-container-id-2 div.sk-container {/* jupyter's `normalize.less` sets `[hidden] { display: none; }` but bootstrap.min.css set `[hidden] { display: none !important; }` so we also need the `!important` here to be able to override the default hidden behavior on the sphinx rendered scikit-learn.org. See: https://github.com/scikit-learn/scikit-learn/issues/21755 */display: inline-block !important;position: relative;}#sk-container-id-2 div.sk-text-repr-fallback {display: none;}</style><div id=\"sk-container-id-2\" class=\"sk-top-container\"><div class=\"sk-text-repr-fallback\"><pre>Pipeline(steps=[(&#x27;preprocessor&#x27;,\n",
       "                 ColumnTransformer(transformers=[(&#x27;categorical preprocessing&#x27;,\n",
       "                                                  Pipeline(steps=[(&#x27;imputer&#x27;,\n",
       "                                                                   SimpleImputer(fill_value=&#x27;missing&#x27;,\n",
       "                                                                                 strategy=&#x27;constant&#x27;)),\n",
       "                                                                  (&#x27;encoder&#x27;,\n",
       "                                                                   OneHotEncoder(handle_unknown=&#x27;ignore&#x27;))]),\n",
       "                                                  [&#x27;brand&#x27;, &#x27;car_class&#x27;,\n",
       "                                                   &#x27;range&#x27;, &#x27;fuel_type&#x27;,\n",
       "                                                   &#x27;hybrid&#x27;, &#x27;gearbox&#x27;]),\n",
       "                                                 (&#x27;numerical preprocessing&#x27;,\n",
       "                                                  Pipeline(steps=[(&#x27;imputer&#x27;,\n",
       "                                                                   Simple...\n",
       "                              feature_types=None, gamma=None, grow_policy=None,\n",
       "                              importance_type=None,\n",
       "                              interaction_constraints=None, learning_rate=0.01,\n",
       "                              max_bin=None, max_cat_threshold=None,\n",
       "                              max_cat_to_onehot=None, max_delta_step=None,\n",
       "                              max_depth=100, max_leaves=None,\n",
       "                              min_child_weight=None, missing=nan,\n",
       "                              monotone_constraints=None, multi_strategy=None,\n",
       "                              n_estimators=10000, n_jobs=None,\n",
       "                              num_parallel_tree=None, random_state=0, ...))])</pre><b>In a Jupyter environment, please rerun this cell to show the HTML representation or trust the notebook. <br />On GitHub, the HTML representation is unable to render, please try loading this page with nbviewer.org.</b></div><div class=\"sk-container\" hidden><div class=\"sk-item sk-dashed-wrapped\"><div class=\"sk-label-container\"><div class=\"sk-label sk-toggleable\"><input class=\"sk-toggleable__control sk-hidden--visually\" id=\"sk-estimator-id-11\" type=\"checkbox\" ><label for=\"sk-estimator-id-11\" class=\"sk-toggleable__label sk-toggleable__label-arrow\">Pipeline</label><div class=\"sk-toggleable__content\"><pre>Pipeline(steps=[(&#x27;preprocessor&#x27;,\n",
       "                 ColumnTransformer(transformers=[(&#x27;categorical preprocessing&#x27;,\n",
       "                                                  Pipeline(steps=[(&#x27;imputer&#x27;,\n",
       "                                                                   SimpleImputer(fill_value=&#x27;missing&#x27;,\n",
       "                                                                                 strategy=&#x27;constant&#x27;)),\n",
       "                                                                  (&#x27;encoder&#x27;,\n",
       "                                                                   OneHotEncoder(handle_unknown=&#x27;ignore&#x27;))]),\n",
       "                                                  [&#x27;brand&#x27;, &#x27;car_class&#x27;,\n",
       "                                                   &#x27;range&#x27;, &#x27;fuel_type&#x27;,\n",
       "                                                   &#x27;hybrid&#x27;, &#x27;gearbox&#x27;]),\n",
       "                                                 (&#x27;numerical preprocessing&#x27;,\n",
       "                                                  Pipeline(steps=[(&#x27;imputer&#x27;,\n",
       "                                                                   Simple...\n",
       "                              feature_types=None, gamma=None, grow_policy=None,\n",
       "                              importance_type=None,\n",
       "                              interaction_constraints=None, learning_rate=0.01,\n",
       "                              max_bin=None, max_cat_threshold=None,\n",
       "                              max_cat_to_onehot=None, max_delta_step=None,\n",
       "                              max_depth=100, max_leaves=None,\n",
       "                              min_child_weight=None, missing=nan,\n",
       "                              monotone_constraints=None, multi_strategy=None,\n",
       "                              n_estimators=10000, n_jobs=None,\n",
       "                              num_parallel_tree=None, random_state=0, ...))])</pre></div></div></div><div class=\"sk-serial\"><div class=\"sk-item sk-dashed-wrapped\"><div class=\"sk-label-container\"><div class=\"sk-label sk-toggleable\"><input class=\"sk-toggleable__control sk-hidden--visually\" id=\"sk-estimator-id-12\" type=\"checkbox\" ><label for=\"sk-estimator-id-12\" class=\"sk-toggleable__label sk-toggleable__label-arrow\">preprocessor: ColumnTransformer</label><div class=\"sk-toggleable__content\"><pre>ColumnTransformer(transformers=[(&#x27;categorical preprocessing&#x27;,\n",
       "                                 Pipeline(steps=[(&#x27;imputer&#x27;,\n",
       "                                                  SimpleImputer(fill_value=&#x27;missing&#x27;,\n",
       "                                                                strategy=&#x27;constant&#x27;)),\n",
       "                                                 (&#x27;encoder&#x27;,\n",
       "                                                  OneHotEncoder(handle_unknown=&#x27;ignore&#x27;))]),\n",
       "                                 [&#x27;brand&#x27;, &#x27;car_class&#x27;, &#x27;range&#x27;, &#x27;fuel_type&#x27;,\n",
       "                                  &#x27;hybrid&#x27;, &#x27;gearbox&#x27;]),\n",
       "                                (&#x27;numerical preprocessing&#x27;,\n",
       "                                 Pipeline(steps=[(&#x27;imputer&#x27;, SimpleImputer()),\n",
       "                                                 (&#x27;scaler&#x27;, StandardScaler())]),\n",
       "                                 [&#x27;max_power&#x27;, &#x27;weight_min&#x27;, &#x27;weight_max&#x27;,\n",
       "                                  &#x27;urb_cons&#x27;, &#x27;exturb_cons&#x27;, &#x27;overall_cons&#x27;,\n",
       "                                  &#x27;co&#x27;, &#x27;hc&#x27;, &#x27;nox&#x27;, &#x27;ptcl&#x27;, &#x27;ratio&#x27;])])</pre></div></div></div><div class=\"sk-parallel\"><div class=\"sk-parallel-item\"><div class=\"sk-item\"><div class=\"sk-label-container\"><div class=\"sk-label sk-toggleable\"><input class=\"sk-toggleable__control sk-hidden--visually\" id=\"sk-estimator-id-13\" type=\"checkbox\" ><label for=\"sk-estimator-id-13\" class=\"sk-toggleable__label sk-toggleable__label-arrow\">categorical preprocessing</label><div class=\"sk-toggleable__content\"><pre>[&#x27;brand&#x27;, &#x27;car_class&#x27;, &#x27;range&#x27;, &#x27;fuel_type&#x27;, &#x27;hybrid&#x27;, &#x27;gearbox&#x27;]</pre></div></div></div><div class=\"sk-serial\"><div class=\"sk-item\"><div class=\"sk-serial\"><div class=\"sk-item\"><div class=\"sk-estimator sk-toggleable\"><input class=\"sk-toggleable__control sk-hidden--visually\" id=\"sk-estimator-id-14\" type=\"checkbox\" ><label for=\"sk-estimator-id-14\" class=\"sk-toggleable__label sk-toggleable__label-arrow\">SimpleImputer</label><div class=\"sk-toggleable__content\"><pre>SimpleImputer(fill_value=&#x27;missing&#x27;, strategy=&#x27;constant&#x27;)</pre></div></div></div><div class=\"sk-item\"><div class=\"sk-estimator sk-toggleable\"><input class=\"sk-toggleable__control sk-hidden--visually\" id=\"sk-estimator-id-15\" type=\"checkbox\" ><label for=\"sk-estimator-id-15\" class=\"sk-toggleable__label sk-toggleable__label-arrow\">OneHotEncoder</label><div class=\"sk-toggleable__content\"><pre>OneHotEncoder(handle_unknown=&#x27;ignore&#x27;)</pre></div></div></div></div></div></div></div></div><div class=\"sk-parallel-item\"><div class=\"sk-item\"><div class=\"sk-label-container\"><div class=\"sk-label sk-toggleable\"><input class=\"sk-toggleable__control sk-hidden--visually\" id=\"sk-estimator-id-16\" type=\"checkbox\" ><label for=\"sk-estimator-id-16\" class=\"sk-toggleable__label sk-toggleable__label-arrow\">numerical preprocessing</label><div class=\"sk-toggleable__content\"><pre>[&#x27;max_power&#x27;, &#x27;weight_min&#x27;, &#x27;weight_max&#x27;, &#x27;urb_cons&#x27;, &#x27;exturb_cons&#x27;, &#x27;overall_cons&#x27;, &#x27;co&#x27;, &#x27;hc&#x27;, &#x27;nox&#x27;, &#x27;ptcl&#x27;, &#x27;ratio&#x27;]</pre></div></div></div><div class=\"sk-serial\"><div class=\"sk-item\"><div class=\"sk-serial\"><div class=\"sk-item\"><div class=\"sk-estimator sk-toggleable\"><input class=\"sk-toggleable__control sk-hidden--visually\" id=\"sk-estimator-id-17\" type=\"checkbox\" ><label for=\"sk-estimator-id-17\" class=\"sk-toggleable__label sk-toggleable__label-arrow\">SimpleImputer</label><div class=\"sk-toggleable__content\"><pre>SimpleImputer()</pre></div></div></div><div class=\"sk-item\"><div class=\"sk-estimator sk-toggleable\"><input class=\"sk-toggleable__control sk-hidden--visually\" id=\"sk-estimator-id-18\" type=\"checkbox\" ><label for=\"sk-estimator-id-18\" class=\"sk-toggleable__label sk-toggleable__label-arrow\">StandardScaler</label><div class=\"sk-toggleable__content\"><pre>StandardScaler()</pre></div></div></div></div></div></div></div></div></div></div><div class=\"sk-item\"><div class=\"sk-estimator sk-toggleable\"><input class=\"sk-toggleable__control sk-hidden--visually\" id=\"sk-estimator-id-19\" type=\"checkbox\" ><label for=\"sk-estimator-id-19\" class=\"sk-toggleable__label sk-toggleable__label-arrow\">XGBRegressor</label><div class=\"sk-toggleable__content\"><pre>XGBRegressor(base_score=None, booster=None, callbacks=None,\n",
       "             colsample_bylevel=None, colsample_bynode=None,\n",
       "             colsample_bytree=None, device=None, early_stopping_rounds=None,\n",
       "             enable_categorical=True, eval_metric=None, feature_types=None,\n",
       "             gamma=None, grow_policy=None, importance_type=None,\n",
       "             interaction_constraints=None, learning_rate=0.01, max_bin=None,\n",
       "             max_cat_threshold=None, max_cat_to_onehot=None,\n",
       "             max_delta_step=None, max_depth=100, max_leaves=None,\n",
       "             min_child_weight=None, missing=nan, monotone_constraints=None,\n",
       "             multi_strategy=None, n_estimators=10000, n_jobs=None,\n",
       "             num_parallel_tree=None, random_state=0, ...)</pre></div></div></div></div></div></div></div>"
      ],
      "text/plain": [
       "Pipeline(steps=[('preprocessor',\n",
       "                 ColumnTransformer(transformers=[('categorical preprocessing',\n",
       "                                                  Pipeline(steps=[('imputer',\n",
       "                                                                   SimpleImputer(fill_value='missing',\n",
       "                                                                                 strategy='constant')),\n",
       "                                                                  ('encoder',\n",
       "                                                                   OneHotEncoder(handle_unknown='ignore'))]),\n",
       "                                                  ['brand', 'car_class',\n",
       "                                                   'range', 'fuel_type',\n",
       "                                                   'hybrid', 'gearbox']),\n",
       "                                                 ('numerical preprocessing',\n",
       "                                                  Pipeline(steps=[('imputer',\n",
       "                                                                   Simple...\n",
       "                              feature_types=None, gamma=None, grow_policy=None,\n",
       "                              importance_type=None,\n",
       "                              interaction_constraints=None, learning_rate=0.01,\n",
       "                              max_bin=None, max_cat_threshold=None,\n",
       "                              max_cat_to_onehot=None, max_delta_step=None,\n",
       "                              max_depth=100, max_leaves=None,\n",
       "                              min_child_weight=None, missing=nan,\n",
       "                              monotone_constraints=None, multi_strategy=None,\n",
       "                              n_estimators=10000, n_jobs=None,\n",
       "                              num_parallel_tree=None, random_state=0, ...))])"
      ]
     },
     "execution_count": 27,
     "metadata": {},
     "output_type": "execute_result"
    }
   ],
   "source": [
    "xg_pipeline.fit(data,target)"
   ]
  },
  {
   "cell_type": "code",
   "execution_count": 28,
   "metadata": {},
   "outputs": [],
   "source": [
    "df_test_processed = preprocess(df_test)\n",
    "predictions  = xg_pipeline.predict(df_test_processed)"
   ]
  },
  {
   "cell_type": "code",
   "execution_count": 29,
   "metadata": {},
   "outputs": [],
   "source": [
    "submit = pd.DataFrame({'id': df_test[\"id\"], 'co2': predictions})\n",
    "submit.to_csv(\"predictions.csv\", index=False)"
   ]
  }
 ],
 "metadata": {
  "kernelspec": {
   "argv": [
    "/usr/bin/python3",
    "-m",
    "ipykernel",
    "--HistoryManager.enabled=False",
    "--matplotlib=inline",
    "-c",
    "%config InlineBackend.figure_formats = set(['retina'])\nimport matplotlib; matplotlib.rcParams['figure.figsize'] = (12, 7)",
    "-f",
    "{connection_file}"
   ],
   "display_name": "Python 3 (system-wide)",
   "env": {},
   "language": "python",
   "metadata": {
    "cocalc": {
     "description": "Python 3 programming language",
     "priority": 100,
     "url": "https://www.python.org/"
    }
   },
   "name": "python3",
   "resource_dir": "/ext/jupyter/kernels/python3"
  },
  "language_info": {
   "codemirror_mode": {
    "name": "ipython",
    "version": 3
   },
   "file_extension": ".py",
   "mimetype": "text/x-python",
   "name": "python",
   "nbconvert_exporter": "python",
   "pygments_lexer": "ipython3",
   "version": "3.11.3"
  }
 },
 "nbformat": 4,
 "nbformat_minor": 4
}
