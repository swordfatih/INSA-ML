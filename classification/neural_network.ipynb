{
 "cells": [
  {
   "cell_type": "code",
   "execution_count": 24,
   "metadata": {},
   "outputs": [],
   "source": [
    "import tensorflow\n",
    "from tensorflow import keras\n",
    "import keras_tuner as kt\n",
    "import pandas as pd\n",
    "import matplotlib.pyplot as plt\n",
    "from sklearn.model_selection import train_test_split\n",
    "from sklearn.preprocessing import LabelEncoder"
   ]
  },
  {
   "cell_type": "code",
   "execution_count": 22,
   "metadata": {},
   "outputs": [
    {
     "data": {
      "text/plain": [
       "id                int64\n",
       "date            float64\n",
       "hour            float64\n",
       "bc_price        float64\n",
       "bc_demand       float64\n",
       "ab_price        float64\n",
       "ab_demand       float64\n",
       "transfer        float64\n",
       "bc_price_evo     object\n",
       "dtype: object"
      ]
     },
     "execution_count": 22,
     "metadata": {},
     "output_type": "execute_result"
    }
   ],
   "source": [
    "df= pd.read_csv(\"train.csv\")"
   ]
  },
  {
   "cell_type": "code",
   "execution_count": 62,
   "metadata": {},
   "outputs": [],
   "source": [
    "target_name= \"bc_price_evo\"\n",
    "target,data = df[target_name], df.drop(columns=[target_name,\"id\",\"transfer\",\"ab_demand\"])\n",
    "\n",
    "label_encoder = LabelEncoder()\n",
    "target_encoded = label_encoder.fit_transform(target)\n",
    "x_train, x_test, y_train, y_test = train_test_split(data, target_encoded, test_size=0.2, random_state=42)"
   ]
  },
  {
   "cell_type": "markdown",
   "metadata": {},
   "source": [
    "# Construction du réseau de neurones artificiels\n",
    "\n",
    "Notons tout de meme qu’un hyperparamètre est un paramètre dont la valeur est définie avant le début du processus d’apprentissage. Par ricorchet, il est evident que les valeurs des autres paramètres sont obtenus pendant l’entrainement.\n",
    "https://stats.stackexchange.com/questions/181/how-to-choose-the-number-of-hidden-layers-and-nodes-in-a-feedforward-neural-netw\n",
    "\n",
    "https://yannicksergeobam.medium.com/optimiser-les-hyperparam%C3%A8tres-dun-mod%C3%A8le-de-deep-learning-d65643141282"
   ]
  },
  {
   "cell_type": "code",
   "execution_count": 63,
   "metadata": {},
   "outputs": [],
   "source": [
    "def get_model():\n",
    "    classifier= keras.models.Sequential()\n",
    "    classifier.add(keras.layers.Dense(512, activation='relu', input_dim=5))\n",
    "    #classifier.add(keras.layers.Dense(512,activation = 'relu',name='Dense_n2'))\n",
    "    #classifier.add(keras.layers.Dense(64,activation = 'relu',name='Dense_n3'))\n",
    "    classifier.add(keras.layers.Dense(1 ,activation = 'sigmoid'))\n",
    "    classifier.compile(optimizer = keras.optimizers.Adam(learning_rate=0.001),\n",
    "                loss = \"binary_crossentropy\", \n",
    "                metrics = ['accuracy'])\n",
    "\n",
    "    return classifier"
   ]
  },
  {
   "cell_type": "code",
   "execution_count": 64,
   "metadata": {},
   "outputs": [
    {
     "name": "stdout",
     "output_type": "stream",
     "text": [
      "Epoch 1/20\n",
      "2309/2309 [==============================] - 4s 1ms/step - loss: 0.5614 - accuracy: 0.7042 - val_loss: 0.5292 - val_accuracy: 0.7328\n",
      "Epoch 2/20\n",
      "2309/2309 [==============================] - 3s 1ms/step - loss: 0.5118 - accuracy: 0.7431 - val_loss: 0.5096 - val_accuracy: 0.7413\n",
      "Epoch 3/20\n",
      "2309/2309 [==============================] - 3s 1ms/step - loss: 0.5023 - accuracy: 0.7449 - val_loss: 0.5016 - val_accuracy: 0.7399\n",
      "Epoch 4/20\n",
      "2309/2309 [==============================] - 3s 1ms/step - loss: 0.4960 - accuracy: 0.7485 - val_loss: 0.5025 - val_accuracy: 0.7387\n",
      "Epoch 5/20\n",
      "2309/2309 [==============================] - 3s 1ms/step - loss: 0.4939 - accuracy: 0.7477 - val_loss: 0.5320 - val_accuracy: 0.7104\n",
      "Epoch 6/20\n",
      "2309/2309 [==============================] - 3s 1ms/step - loss: 0.4921 - accuracy: 0.7498 - val_loss: 0.4963 - val_accuracy: 0.7416\n",
      "Epoch 7/20\n",
      "2309/2309 [==============================] - 3s 1ms/step - loss: 0.4898 - accuracy: 0.7517 - val_loss: 0.4903 - val_accuracy: 0.7449\n",
      "Epoch 8/20\n",
      "2309/2309 [==============================] - 3s 1ms/step - loss: 0.4893 - accuracy: 0.7505 - val_loss: 0.5175 - val_accuracy: 0.7285\n",
      "Epoch 9/20\n",
      "2309/2309 [==============================] - 3s 1ms/step - loss: 0.4882 - accuracy: 0.7520 - val_loss: 0.4920 - val_accuracy: 0.7503\n",
      "Epoch 10/20\n",
      "2309/2309 [==============================] - 3s 1ms/step - loss: 0.4868 - accuracy: 0.7531 - val_loss: 0.5001 - val_accuracy: 0.7383\n",
      "Epoch 11/20\n",
      "2309/2309 [==============================] - 3s 1ms/step - loss: 0.4863 - accuracy: 0.7526 - val_loss: 0.4905 - val_accuracy: 0.7510\n",
      "Epoch 12/20\n",
      "2309/2309 [==============================] - 3s 1ms/step - loss: 0.4857 - accuracy: 0.7526 - val_loss: 0.4913 - val_accuracy: 0.7510\n",
      "Epoch 13/20\n",
      "2309/2309 [==============================] - 3s 1ms/step - loss: 0.4851 - accuracy: 0.7555 - val_loss: 0.4898 - val_accuracy: 0.7484\n",
      "Epoch 14/20\n",
      "2309/2309 [==============================] - 3s 1ms/step - loss: 0.4845 - accuracy: 0.7540 - val_loss: 0.4899 - val_accuracy: 0.7531\n",
      "Epoch 15/20\n",
      "2309/2309 [==============================] - 3s 1ms/step - loss: 0.4838 - accuracy: 0.7548 - val_loss: 0.4912 - val_accuracy: 0.7498\n",
      "Epoch 16/20\n",
      "2309/2309 [==============================] - 3s 1ms/step - loss: 0.4832 - accuracy: 0.7549 - val_loss: 0.4878 - val_accuracy: 0.7529\n",
      "Epoch 17/20\n",
      "2309/2309 [==============================] - 3s 1ms/step - loss: 0.4817 - accuracy: 0.7573 - val_loss: 0.4901 - val_accuracy: 0.7520\n",
      "Epoch 18/20\n",
      "2309/2309 [==============================] - 3s 1ms/step - loss: 0.4820 - accuracy: 0.7584 - val_loss: 0.4851 - val_accuracy: 0.7529\n",
      "Epoch 19/20\n",
      "2309/2309 [==============================] - 3s 1ms/step - loss: 0.4815 - accuracy: 0.7568 - val_loss: 0.4905 - val_accuracy: 0.7461\n",
      "Epoch 20/20\n",
      "2309/2309 [==============================] - 3s 1ms/step - loss: 0.4810 - accuracy: 0.7568 - val_loss: 0.4901 - val_accuracy: 0.7503\n"
     ]
    }
   ],
   "source": [
    "classifier = get_model()\n",
    "\n",
    "batch_size = 10\n",
    "epochs = 20\n",
    "\n",
    "evolution = classifier.fit( x_train, y_train,\n",
    "                            batch_size = batch_size,\n",
    "                            epochs = epochs,\n",
    "                            validation_split=0.2,\n",
    "                            validation_data = (x_test,y_test)\n",
    "                            )"
   ]
  },
  {
   "cell_type": "code",
   "execution_count": null,
   "metadata": {},
   "outputs": [],
   "source": []
  },
  {
   "cell_type": "code",
   "execution_count": null,
   "metadata": {},
   "outputs": [],
   "source": []
  },
  {
   "cell_type": "code",
   "execution_count": null,
   "metadata": {},
   "outputs": [],
   "source": []
  },
  {
   "cell_type": "code",
   "execution_count": null,
   "metadata": {},
   "outputs": [],
   "source": []
  }
 ],
 "metadata": {
  "interpreter": {
   "hash": "0600588c3b5f4418cbe7b5ebc6825b479f3bc010269d8b60d75058cdd010adfe"
  },
  "kernelspec": {
   "display_name": "Python 3.7.9 64-bit",
   "language": "python",
   "name": "python3"
  },
  "language_info": {
   "codemirror_mode": {
    "name": "ipython",
    "version": 3
   },
   "file_extension": ".py",
   "mimetype": "text/x-python",
   "name": "python",
   "nbconvert_exporter": "python",
   "pygments_lexer": "ipython3",
   "version": "3.7.9"
  },
  "orig_nbformat": 4
 },
 "nbformat": 4,
 "nbformat_minor": 2
}
