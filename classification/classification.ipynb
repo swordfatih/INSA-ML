{
 "cells": [
  {
   "cell_type": "code",
   "execution_count": 13,
   "metadata": {},
   "outputs": [],
   "source": [
    "import pandas as pd\n",
    "import torch\n",
    "import os"
   ]
  },
  {
   "cell_type": "code",
   "execution_count": 19,
   "metadata": {},
   "outputs": [
    {
     "name": "stdout",
     "output_type": "stream",
     "text": [
      "Index(['id', 'date', 'hour', 'bc_price', 'bc_demand', 'ab_price', 'ab_demand',\n",
      "       'transfer', 'bc_price_evo'],\n",
      "      dtype='object')\n",
      "id                int64\n",
      "date            float64\n",
      "hour            float64\n",
      "bc_price        float64\n",
      "bc_demand       float64\n",
      "ab_price        float64\n",
      "ab_demand       float64\n",
      "transfer        float64\n",
      "bc_price_evo     object\n",
      "dtype: object\n"
     ]
    },
    {
     "data": {
      "text/plain": [
       "<bound method DataFrame.value_counts of           id      date      hour  bc_price  bc_demand  ab_price  ab_demand  \\\n",
       "0          0  0.452060  1.000000  0.074096   0.578846  0.005029   0.494821   \n",
       "1          1  0.455555  0.574468  0.033025   0.349003  0.001554   0.264889   \n",
       "2          2  0.027521  0.617021  0.098325   0.533918  0.003467   0.422915   \n",
       "3          3  0.455732  0.936170  0.041822   0.588515  0.002860   0.448731   \n",
       "4          4  0.000044  0.255319  0.051489   0.302440  0.003467   0.422915   \n",
       "...      ...       ...       ...       ...        ...       ...        ...   \n",
       "28850  28850  0.026503  1.000000  0.082232   0.427551  0.003467   0.422915   \n",
       "28851  28851  0.451927  0.574468  0.033626   0.564564  0.002198   0.624806   \n",
       "28852  28852  0.907482  0.893617  0.055872   0.329664  0.003695   0.316416   \n",
       "28853  28853  0.915800  0.936170  0.044884   0.355549  0.003072   0.241326   \n",
       "28854  28854  0.885403  0.127660  0.025099   0.152187  0.001091   0.259969   \n",
       "\n",
       "       transfer bc_price_evo  \n",
       "0      0.489912           UP  \n",
       "1      0.829386         DOWN  \n",
       "2      0.414912           UP  \n",
       "3      0.525000           UP  \n",
       "4      0.414912           UP  \n",
       "...         ...          ...  \n",
       "28850  0.414912           UP  \n",
       "28851  0.553947         DOWN  \n",
       "28852  0.602193         DOWN  \n",
       "28853  0.420614         DOWN  \n",
       "28854  0.735526         DOWN  \n",
       "\n",
       "[28855 rows x 9 columns]>"
      ]
     },
     "execution_count": 19,
     "metadata": {},
     "output_type": "execute_result"
    }
   ],
   "source": [
    "#On constate qu'il y'a 9 neufs colonnes\n",
    "df = pd.read_csv(\"train.csv\")\n",
    "print(df.columns)\n",
    "print(df.dtypes)\n",
    "df.value_counts"
   ]
  },
  {
   "cell_type": "markdown",
   "metadata": {},
   "source": [
    "## Preprocessing\n",
    "On supprime les doublons, on supprime les valeurs nulles "
   ]
  },
  {
   "cell_type": "code",
   "execution_count": 20,
   "metadata": {},
   "outputs": [],
   "source": [
    "df_non_duplicates= df.drop_duplicates()\n",
    "df_non_missing = df_non_duplicates.dropna()\n",
    "target_name = \"bc_price_evo\"\n",
    "target, data = df_non_missing[target_name] , df_non_missing.drop(columns=target_name)   #On sépare la colonne target des autres colonnes"
   ]
  },
  {
   "cell_type": "code",
   "execution_count": null,
   "metadata": {},
   "outputs": [],
   "source": []
  },
  {
   "cell_type": "code",
   "execution_count": null,
   "metadata": {},
   "outputs": [],
   "source": []
  }
 ],
 "metadata": {
  "kernelspec": {
   "display_name": "Python 3",
   "language": "python",
   "name": "python3"
  },
  "language_info": {
   "codemirror_mode": {
    "name": "ipython",
    "version": 3
   },
   "file_extension": ".py",
   "mimetype": "text/x-python",
   "name": "python",
   "nbconvert_exporter": "python",
   "pygments_lexer": "ipython3",
   "version": "3.11.8"
  }
 },
 "nbformat": 4,
 "nbformat_minor": 2
}
