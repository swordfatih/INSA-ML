{
 "cells": [
  {
   "attachments": {},
   "cell_type": "markdown",
   "metadata": {},
   "source": [
    "# Classification\n",
    "\n",
    "## Objectif\n",
    "\n",
    "Dans cette partie \"classification\", on cherche à prédire si les prix en Colombie britannique vont augmenter (UP ou diminuer (DOWN) comparés aux ddernières 24h. Il s'agit d'un problème de classification binaire en se basant sur les données numériques. L'objuectif est donc de trouver une séparation qui se rapproche le plus possible de la rélaité.)"
   ]
  },
  {
   "attachments": {},
   "cell_type": "markdown",
   "metadata": {},
   "source": [
    "## Importation des dépendances\n",
    "\n",
    "Nous importons les dépendances python en début de fichier pour faciliter leur utilisation par la suite."
   ]
  },
  {
   "cell_type": "code",
   "execution_count": 1,
   "metadata": {},
   "outputs": [
    {
     "ename": "ImportError",
     "evalue": "cannot import name 'XGBClassifer' from 'xgboost' (C:\\Users\\dtchoffonz\\AppData\\Roaming\\Python\\Python37\\site-packages\\xgboost\\__init__.py)",
     "output_type": "error",
     "traceback": [
      "\u001b[1;31m---------------------------------------------------------------------------\u001b[0m",
      "\u001b[1;31mImportError\u001b[0m                               Traceback (most recent call last)",
      "\u001b[1;32m~\\AppData\\Local\\Temp\\ipykernel_2184\\27355821.py\u001b[0m in \u001b[0;36m<module>\u001b[1;34m\u001b[0m\n\u001b[0;32m     10\u001b[0m \u001b[1;32mfrom\u001b[0m \u001b[0msklearn\u001b[0m\u001b[1;33m.\u001b[0m\u001b[0mlinear_model\u001b[0m \u001b[1;32mimport\u001b[0m \u001b[0mLogisticRegression\u001b[0m\u001b[1;33m\u001b[0m\u001b[1;33m\u001b[0m\u001b[0m\n\u001b[0;32m     11\u001b[0m \u001b[1;32mfrom\u001b[0m \u001b[0msklearn\u001b[0m\u001b[1;33m.\u001b[0m\u001b[0mensemble\u001b[0m \u001b[1;32mimport\u001b[0m \u001b[0mRandomForestClassifier\u001b[0m\u001b[1;33m,\u001b[0m \u001b[0mAdaBoostClassifier\u001b[0m\u001b[1;33m,\u001b[0m \u001b[0mBaggingClassifier\u001b[0m\u001b[1;33m\u001b[0m\u001b[1;33m\u001b[0m\u001b[0m\n\u001b[1;32m---> 12\u001b[1;33m \u001b[1;32mfrom\u001b[0m \u001b[0mxgboost\u001b[0m \u001b[1;32mimport\u001b[0m \u001b[0mXGBClassifer\u001b[0m\u001b[1;33m\u001b[0m\u001b[1;33m\u001b[0m\u001b[0m\n\u001b[0m\u001b[0;32m     13\u001b[0m \u001b[1;32mimport\u001b[0m \u001b[0mmatplotlib\u001b[0m\u001b[1;33m.\u001b[0m\u001b[0mpyplot\u001b[0m \u001b[1;32mas\u001b[0m \u001b[0mplt\u001b[0m\u001b[1;33m\u001b[0m\u001b[1;33m\u001b[0m\u001b[0m\n",
      "\u001b[1;31mImportError\u001b[0m: cannot import name 'XGBClassifer' from 'xgboost' (C:\\Users\\dtchoffonz\\AppData\\Roaming\\Python\\Python37\\site-packages\\xgboost\\__init__.py)"
     ]
    }
   ],
   "source": [
    "import pandas as pd\n",
    "from pandas.plotting import scatter_matrix\n",
    "import sklearn\n",
    "from sklearn.pipeline import Pipeline\n",
    "from sklearn.model_selection import cross_validate\n",
    "from sklearn.model_selection import GridSearchCV\n",
    "from sklearn.neighbors import KNeighborsClassifier\n",
    "from sklearn.svm import SVC\n",
    "from sklearn.tree import DecisionTreeClassifier\n",
    "from sklearn.linear_model import LogisticRegression\n",
    "from sklearn.ensemble import RandomForestClassifier, AdaBoostClassifier, BaggingClassifier\n",
    "from xgboost import XGBClassifer\n",
    "import matplotlib.pyplot as plt"
   ]
  },
  {
   "attachments": {},
   "cell_type": "markdown",
   "metadata": {},
   "source": [
    "## Chargement des données\n",
    "\n",
    "Nos données d'enteainnement sont situées dans des fichiers CSV\n",
    "\n",
    "Dans un premier temps, on cherhce donc à charger ces données CSV avec Pandas"
   ]
  },
  {
   "cell_type": "code",
   "execution_count": 142,
   "metadata": {},
   "outputs": [
    {
     "name": "stdout",
     "output_type": "stream",
     "text": [
      "Index(['id', 'date', 'hour', 'bc_price', 'bc_demand', 'ab_price', 'ab_demand',\n",
      "       'transfer', 'bc_price_evo'],\n",
      "      dtype='object')\n",
      "id                int64\n",
      "date            float64\n",
      "hour            float64\n",
      "bc_price        float64\n",
      "bc_demand       float64\n",
      "ab_price        float64\n",
      "ab_demand       float64\n",
      "transfer        float64\n",
      "bc_price_evo     object\n",
      "dtype: object\n"
     ]
    }
   ],
   "source": [
    "#On constate qu'il y'a 9 neufs colonnes\n",
    "df = pd.read_csv(\"train.csv\")\n",
    "print(df.columns)\n",
    "print(df.dtypes)"
   ]
  },
  {
   "attachments": {},
   "cell_type": "markdown",
   "metadata": {},
   "source": [
    "Le dataset est assez propre. Pas de valeurs nulles ou de valeurs manquantes. 9 colonnes et 28855 lignes"
   ]
  },
  {
   "cell_type": "code",
   "execution_count": 143,
   "metadata": {},
   "outputs": [
    {
     "name": "stdout",
     "output_type": "stream",
     "text": [
      "id              0\n",
      "date            0\n",
      "hour            0\n",
      "bc_price        0\n",
      "bc_demand       0\n",
      "ab_price        0\n",
      "ab_demand       0\n",
      "transfer        0\n",
      "bc_price_evo    0\n",
      "dtype: int64\n"
     ]
    },
    {
     "data": {
      "text/plain": [
       "(28855, 9)"
      ]
     },
     "execution_count": 143,
     "metadata": {},
     "output_type": "execute_result"
    }
   ],
   "source": [
    "print(df.isnull().sum())\n",
    "df.shape"
   ]
  },
  {
   "attachments": {},
   "cell_type": "markdown",
   "metadata": {},
   "source": [
    "## Preprocessing\n",
    "On supprime la colonne id qui n'esy pas pertinente pour notre modèle\n",
    "\n",
    "On verra également par la suite que la colonne \"transfer\" n'est pas pertinente pour le modèle.\n",
    "\n",
    "On sépare la varaible cible des autres variables "
   ]
  },
  {
   "cell_type": "code",
   "execution_count": 146,
   "metadata": {},
   "outputs": [],
   "source": [
    "target_name = \"bc_price_evo\"\n",
    "target, data = df[target_name] , df.drop(columns=[target_name,\"id\",\"transfer\"])   #On sépare la colonne target des autres colonnes"
   ]
  },
  {
   "attachments": {},
   "cell_type": "markdown",
   "metadata": {},
   "source": [
    "## Quelques plots \n",
    "Pour évaluer les liens possibles entre les variables"
   ]
  },
  {
   "cell_type": "code",
   "execution_count": null,
   "metadata": {},
   "outputs": [],
   "source": [
    "scatter_matrix(data,figsize=(10,10))\n",
    "plt.show()"
   ]
  },
  {
   "attachments": {},
   "cell_type": "markdown",
   "metadata": {},
   "source": [
    "## Matrice de Corrélation\n",
    "\n",
    "Cette matrice va permettre de savoir s'il y'a une corrélation forte entre les variables dans le dataset"
   ]
  },
  {
   "cell_type": "code",
   "execution_count": 147,
   "metadata": {},
   "outputs": [
    {
     "name": "stdout",
     "output_type": "stream",
     "text": [
      "Matrice de corrélation :\n",
      "               date      hour  bc_price  bc_demand  ab_price  ab_demand\n",
      "date       1.000000 -0.003111 -0.137605   0.069534  0.007974   0.075119\n",
      "hour      -0.003111  1.000000  0.100880   0.422406  0.020527   0.179115\n",
      "bc_price  -0.137605  0.100880  1.000000   0.307547  0.289124   0.305037\n",
      "bc_demand  0.069534  0.422406  0.307547   1.000000  0.083369   0.668936\n",
      "ab_price   0.007974  0.020527  0.289124   0.083369  1.000000   0.126375\n",
      "ab_demand  0.075119  0.179115  0.305037   0.668936  0.126375   1.000000\n"
     ]
    },
    {
     "data": {
      "image/png": "[encoded data removed]",
      "text/plain": [
       "<Figure size 800x600 with 2 Axes>"
      ]
     },
     "metadata": {},
     "output_type": "display_data"
    }
   ],
   "source": [
    "# Calculer la matrice de corrélation\n",
    "correlation_matrix = data.corr()\n",
    "\n",
    "# Afficher la matrice de corrélation\n",
    "print(\"Matrice de corrélation :\")\n",
    "print(correlation_matrix)\n",
    "\n",
    "# Afficher la corrélation sous forme de heatmap\n",
    "plt.figure(figsize=(8, 6))\n",
    "plt.title('Matrice de corrélation')\n",
    "plt.imshow(correlation_matrix, cmap='coolwarm', interpolation='none', aspect='auto')\n",
    "plt.colorbar()\n",
    "plt.xticks(range(len(correlation_matrix)), correlation_matrix.columns, rotation=90)\n",
    "plt.yticks(range(len(correlation_matrix)), correlation_matrix.columns)\n",
    "plt.show()"
   ]
  },
  {
   "attachments": {},
   "cell_type": "markdown",
   "metadata": {},
   "source": [
    "Essayons de fusionner les variables \"date\" et \"heure\" pour obtenir le temps exact "
   ]
  },
  {
   "cell_type": "code",
   "execution_count": 79,
   "metadata": {},
   "outputs": [],
   "source": [
    "                      #Colonne heure n'est plus nécessaire ?"
   ]
  },
  {
   "attachments": {},
   "cell_type": "markdown",
   "metadata": {},
   "source": [
    "Il y'a une corrélation plus ou moins importante entre ab_demand et bc_demand.\n",
    "\n",
    "Fusionnons ces deux variables en une seule."
   ]
  },
  {
   "cell_type": "code",
   "execution_count": 148,
   "metadata": {},
   "outputs": [],
   "source": [
    "data[\"demand\"] = data[\"ab_demand\"] * data[\"bc_demand\"]\n",
    "data = data.drop(columns=[\"ab_demand\",\"bc_demand\"])"
   ]
  },
  {
   "attachments": {},
   "cell_type": "markdown",
   "metadata": {},
   "source": [
    "# Construction des modèles"
   ]
  },
  {
   "attachments": {},
   "cell_type": "markdown",
   "metadata": {},
   "source": [
    "### K Nearest Neighbors"
   ]
  },
  {
   "cell_type": "code",
   "execution_count": null,
   "metadata": {},
   "outputs": [],
   "source": [
    "k_classifier = KNeighborsClassifier(n_neighbors=10 , weights= \"distance\").fit(data, target)\n",
    "score = k_classifier.score(data,target)\n",
    "print(score)"
   ]
  },
  {
   "attachments": {},
   "cell_type": "markdown",
   "metadata": {},
   "source": [
    "### Gradient Boosting Classifer"
   ]
  },
  {
   "cell_type": "code",
   "execution_count": 156,
   "metadata": {},
   "outputs": [
    {
     "name": "stdout",
     "output_type": "stream",
     "text": [
      "1.0\n"
     ]
    }
   ],
   "source": [
    "gradient_classifier = GradientBoostingClassifier(init=DecisionTreeClassifier(), n_estimators=500, max_depth=200).fit(data, target)\n",
    "score = gradient_classifier.score(data,target)\n",
    "print(score)"
   ]
  },
  {
   "cell_type": "code",
   "execution_count": 159,
   "metadata": {},
   "outputs": [
    {
     "data": {
      "text/plain": [
       "array([0.87125282, 0.87818402, 0.88632819, 0.87679778, 0.88372899])"
      ]
     },
     "execution_count": 159,
     "metadata": {},
     "output_type": "execute_result"
    }
   ],
   "source": [
    "scores = cross_validate(\n",
    "    forest_classifier, data, target, cv=5, n_jobs=2, return_estimator=True\n",
    ")\n",
    "cv_test_scores = scores['test_score']\n",
    "cv_test_scores"
   ]
  },
  {
   "attachments": {},
   "cell_type": "markdown",
   "metadata": {},
   "source": [
    "### Support Vector Machines\n",
    "\n",
    "Dans cette partie, nous allons implémenter un SVM, avec Kernel Linéaire\n",
    "\n",
    "Malheuresement, un modèle linéaire n'est pas pertinent pour ce modèle. Les données ne peuvent pas etre séparées par une droite"
   ]
  },
  {
   "cell_type": "code",
   "execution_count": 34,
   "metadata": {},
   "outputs": [
    {
     "name": "stdout",
     "output_type": "stream",
     "text": [
      "Précision du test: 0.7238055613341654\n"
     ]
    }
   ],
   "source": [
    "svm_model_linear = SVC(kernel = 'linear').fit(data, target)\n",
    "accuracy = svm_model_linear.score(data, target)\n",
    "print(\"Précision du test:\",accuracy)"
   ]
  },
  {
   "attachments": {},
   "cell_type": "markdown",
   "metadata": {},
   "source": [
    "### Random Forest\n",
    "\n",
    "Dans cette partie, nous allons implémenter un random forest (en francais foret aléatoire)"
   ]
  },
  {
   "cell_type": "code",
   "execution_count": 151,
   "metadata": {},
   "outputs": [],
   "source": [
    "rd = RandomForestClassifier(n_estimators = 500, criterion='entropy') \n",
    "forest_classifier =  rd.fit(data, target)\n",
    "#accuracy = forest_classifier.score(data, target)\n",
    "#print(\"Précision du test:\",accuracy)"
   ]
  },
  {
   "cell_type": "code",
   "execution_count": 101,
   "metadata": {},
   "outputs": [
    {
     "name": "stdout",
     "output_type": "stream",
     "text": [
      "Variable date : 0.3229225427334159\n",
      "Variable hour : 0.10437274769959679\n",
      "Variable bc_price : 0.38943206043257367\n",
      "Variable ab_price : 0.06255896937487185\n",
      "Variable demand : 0.12071367975954185\n"
     ]
    }
   ],
   "source": [
    "# Obtenir l'importance des variables\n",
    "feature_importances = clf.feature_importances_\n",
    "\n",
    "# Afficher l'importance des variables\n",
    "for i, importance in enumerate(feature_importances):\n",
    "    print(f\"Variable {data.columns[i]} : {importance}\")"
   ]
  },
  {
   "attachments": {},
   "cell_type": "markdown",
   "metadata": {},
   "source": [
    "### Bagging Classifier\n",
    "\n",
    "Dans cette partie, nous allons implémenter un Bagging Classifer"
   ]
  },
  {
   "cell_type": "code",
   "execution_count": null,
   "metadata": {},
   "outputs": [],
   "source": [
    "bagging = BaggingClassifier(estimator=forest_classifier ,n_estimators=4000, max_features=5)\n",
    "bagging_classifier = bagging.fit(data,target)"
   ]
  },
  {
   "cell_type": "code",
   "execution_count": 98,
   "metadata": {},
   "outputs": [
    {
     "data": {
      "text/plain": [
       "array([0.87177266, 0.87766418, 0.88719459, 0.88130307, 0.88563507])"
      ]
     },
     "execution_count": 98,
     "metadata": {},
     "output_type": "execute_result"
    }
   ],
   "source": [
    "#clf = RandomForestClassifier(n_estimators = 300, criterion='entropy',max_features=8,max_depth=200) \n",
    "scores = cross_validate(\n",
    "    clf, data, target, cv=5, n_jobs=2, return_estimator=True\n",
    ")\n",
    "cv_test_scores = scores['test_score']\n",
    "cv_test_scores"
   ]
  },
  {
   "cell_type": "code",
   "execution_count": null,
   "metadata": {},
   "outputs": [],
   "source": [
    "model_rd_forest =  AdaBoostClassifier(estimator =RandomForestClassifier(n_estimators = 4000, criterion='entropy',max_features=8,max_depth=9),n_estimators=4000)\n",
    "model_rd_forest.fit(data, target)"
   ]
  },
  {
   "attachments": {},
   "cell_type": "markdown",
   "metadata": {},
   "source": [
    "### Ada Boost"
   ]
  },
  {
   "cell_type": "code",
   "execution_count": 152,
   "metadata": {},
   "outputs": [
    {
     "name": "stderr",
     "output_type": "stream",
     "text": [
      "C:\\Users\\dtchoffonz\\AppData\\Roaming\\Python\\Python39\\site-packages\\sklearn\\ensemble\\_weight_boosting.py:519: FutureWarning: The SAMME.R algorithm (the default) is deprecated and will be removed in 1.6. Use the SAMME algorithm to circumvent this warning.\n",
      "  warnings.warn(\n"
     ]
    }
   ],
   "source": [
    "ada = AdaBoostClassifier(estimator =forest_classifier,n_estimators=4000)\n",
    "ada_classifier = ada.fit(data,target)"
   ]
  },
  {
   "attachments": {},
   "cell_type": "markdown",
   "metadata": {},
   "source": [
    "## Hyper parameter Tuning \n",
    "\n",
    "Dans cette partie, nous allons réaliser un tuning des hyper paramètres de notre modèle."
   ]
  },
  {
   "cell_type": "code",
   "execution_count": null,
   "metadata": {},
   "outputs": [],
   "source": [
    "#Très important KNeighborsClassifier se base sur le calcul des distances,\n",
    "#donc un prétraitement des variables rend ce modèle plus efficace\n",
    "model = Pipeline(steps=[\n",
    "    (\"classifier\",RandomForestClassifier(n_estimators = 200,criterion = \"entropy\", max_features=6, max_depth=80)),])\n",
    "\n",
    "param_grid ={\"classifier__n_estimators\": [100,200,300],\n",
    "             \"classifier__max_features\" : [6,8,10],\n",
    "             \"classifier__max_depth\": [80, 90, 100, 110]\n",
    "             }\n",
    "#Fin de la partie des hyparamètres"
   ]
  },
  {
   "cell_type": "code",
   "execution_count": null,
   "metadata": {},
   "outputs": [],
   "source": [
    "model_grid_search = GridSearchCV(model, param_grid=param_grid,n_jobs=2, cv=2)#deux(02) validations croisées internes pour déterminer les meilleurs hyparamètres\n",
    "\n",
    "scores = cross_validate(\n",
    "    model_grid_search, data, target, cv=10, n_jobs=2, return_estimator=True\n",
    ")#dix(10) validations croisées externes pour déterminer les performences du modèles"
   ]
  },
  {
   "cell_type": "code",
   "execution_count": null,
   "metadata": {},
   "outputs": [],
   "source": [
    "#Liste des meilleurs hyparamètres pour chaque validation croisée\n",
    "for cv_fold, estimator_in_fold in enumerate(scores[\"estimator\"]):\n",
    "    print(\n",
    "        f\"Meilleurs hyperparamètres pour la validation croisée #{cv_fold + 1}:\\n\"\n",
    "        f\"{estimator_in_fold.best_params_}\"\n",
    "    )"
   ]
  },
  {
   "attachments": {},
   "cell_type": "markdown",
   "metadata": {},
   "source": [
    "## Evaluation de notre modèle  et création du fichier pour la soummision"
   ]
  },
  {
   "cell_type": "code",
   "execution_count": 154,
   "metadata": {},
   "outputs": [],
   "source": [
    "def submit(model) :\n",
    "    data_test = pd.read_csv(\"test.csv\")\n",
    "    column_id = data_test[\"id\"]\n",
    "    \n",
    "    data_test[\"demand\"] = data_test[\"ab_demand\"] * data_test[\"bc_demand\"]\n",
    "    data_test = data_test.drop(columns=[\"id\",\"transfer\",\"ab_demand\",\"bc_demand\"])\n",
    "    \n",
    "    predictions = model.predict(data_test)                                           # Faire des prédictions avec model\n",
    "    result_df = pd.DataFrame({'id': column_id, 'predictions': predictions})          # Créer un DataFrame avec les colonnes \"id\" et \"predictions\"\n",
    "    result_df.to_csv(\"predictions.csv\", index=False)    "
   ]
  },
  {
   "cell_type": "code",
   "execution_count": 155,
   "metadata": {},
   "outputs": [],
   "source": [
    "\n",
    "submit(ada_classifier)\n",
    "\n",
    "#RandomForestClassifier(n_estimators = 300, criterion='entropy',max_features=5,max_depth=200"
   ]
  },
  {
   "cell_type": "code",
   "execution_count": null,
   "metadata": {},
   "outputs": [],
   "source": []
  }
 ],
 "metadata": {
  "kernelspec": {
   "display_name": "Python 3",
   "language": "python",
   "name": "python3"
  },
  "language_info": {
   "codemirror_mode": {
    "name": "ipython",
    "version": 3
   },
   "file_extension": ".py",
   "mimetype": "text/x-python",
   "name": "python",
   "nbconvert_exporter": "python",
   "pygments_lexer": "ipython3",
   "version": "3.7.9"
  }
 },
 "nbformat": 4,
 "nbformat_minor": 2
}
